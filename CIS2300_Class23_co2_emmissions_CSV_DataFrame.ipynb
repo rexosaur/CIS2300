{
  "nbformat": 4,
  "nbformat_minor": 0,
  "metadata": {
    "colab": {
      "provenance": []
    },
    "kernelspec": {
      "name": "python3",
      "display_name": "Python 3"
    },
    "language_info": {
      "name": "python"
    }
  },
  "cells": [
    {
      "cell_type": "markdown",
      "source": [
        "#CIS2300 Class 23  \n",
        "<b><u>Read OWID co2 CSV File / Pandas DataFrame</b></u>\n",
        "\n",
        "<i>by Professor Patrick Nov 2023 | Apr 2024 | Apr 2025 |</i>\n",
        "\n",
        "*A copy of this notebook is available at https://bit.ly/cis2300class23*"
      ],
      "metadata": {
        "id": "_bxJQVoYnbja"
      }
    },
    {
      "cell_type": "markdown",
      "source": [
        "This notebook demonstrates reading a `.CSV` file into a dictionary with the `csv` library and also reading the same `.CSV` file into a <b>pandas DataFrame</b>."
      ],
      "metadata": {
        "id": "IBxgo-yNoDCd"
      }
    },
    {
      "cell_type": "markdown",
      "source": [
        "<font color=green><h3>This notebook includs two exercises:</h3></font>  \n",
        "  \n",
        "<font color=green>\n",
        "o I  - Reading your CSV file with the `csv` library  \n",
        "<p>  </p>\n",
        "<font color=green>\n",
        "o II - Reading your CSV file with the `pandas` library (DataFrame)  \n",
        "  \n",
        "*The exercises are at the bottom of the notebook.*</font>  \n",
        "\n"
      ],
      "metadata": {
        "id": "NVNbCP3_fL6o"
      }
    },
    {
      "cell_type": "markdown",
      "source": [
        "\n",
        "\n",
        "---\n",
        "\n"
      ],
      "metadata": {
        "id": "vcAlk64gfLVs"
      }
    },
    {
      "cell_type": "markdown",
      "source": [
        "#co2 Data from OWID    \n",
        "  \n",
        "<u>OBJECTIVE</u>  \n",
        "\n",
        "Read a `.csv` file `annual-co2-emissions-per-country.csv` from the current working directory and select/aggregate data by country.\n",
        "\n",
        " - Print the aggregate co2 emissions by country (ISO code)  \n",
        "\n",
        " - Print the aggregate co2 emissions for a list of countries (ISO code)    \n",
        "\n",
        " - Write a .csv file of aggregate emissions for a list of countries (ISO code)\n",
        "\n",
        "\n",
        "*This notebook reads a .csv file which distilled data from the OWID file available [online](https://github.com/owid/co2-data).*  \n",
        "  \n",
        "\n",
        "*The source file read is available at: [annual-co2-emissions-per-country.csv](https://drive.google.com/file/d/1BzgiANIXNqRHnU85vzB3gHTGBesHuz4F/view?usp=sharing)*     \n",
        "  \n",
        "\n",
        "This notebook uses a method of copying the RAW source file from <b>Github</b> to the current working directory.  Of course, you may choose to simply upload the file to the current working directory as well.  For purposes of this notebook, it is assumed that the current working directory is the `\\content\\` directory.  \n"
      ],
      "metadata": {
        "id": "y1ktsy_921e1"
      }
    },
    {
      "cell_type": "markdown",
      "source": [
        "---"
      ],
      "metadata": {
        "id": "V3tr0tBY5xrn"
      }
    },
    {
      "cell_type": "markdown",
      "source": [
        "## Houskeeping / Imports"
      ],
      "metadata": {
        "id": "o5utEKMg51dO"
      }
    },
    {
      "cell_type": "markdown",
      "source": [
        "*The following import of the `csv` library is only needed for reading a `.CSV` file directly -- without using `pandas` `DataFrames`.*    \n"
      ],
      "metadata": {
        "id": "NetZUxnrsoJw"
      }
    },
    {
      "cell_type": "code",
      "source": [
        "# import the csv library\n",
        "import csv"
      ],
      "metadata": {
        "id": "GkMlaoL1825f"
      },
      "execution_count": null,
      "outputs": []
    },
    {
      "cell_type": "markdown",
      "source": [
        "*The following import of the `pandas` library is only needed for creating and using `DataFrames`.*    \n"
      ],
      "metadata": {
        "id": "WME7ZMJPBkyx"
      }
    },
    {
      "cell_type": "code",
      "source": [
        "#import pandas\n",
        "import pandas as pd\n",
        "\n",
        "#import numpy\n",
        "import numpy as np"
      ],
      "metadata": {
        "id": "OrNkhd3LBtwJ"
      },
      "execution_count": null,
      "outputs": []
    },
    {
      "cell_type": "markdown",
      "source": [
        "---"
      ],
      "metadata": {
        "id": "BDR_erRQ2fs7"
      }
    },
    {
      "cell_type": "markdown",
      "source": [
        "##1. Reading a File With the `csv` Library  \n",
        "  \n",
        "  "
      ],
      "metadata": {
        "id": "UxHTwnwGrQAG"
      }
    },
    {
      "cell_type": "markdown",
      "source": [
        "###1.a Initialize Dictionaries"
      ],
      "metadata": {
        "id": "AlH30QMV54sm"
      }
    },
    {
      "cell_type": "code",
      "source": [
        "# create a dictionary to store key:value pairs of countries and case counts\n",
        "data_dict = dict()    # start with an empty dictionary"
      ],
      "metadata": {
        "id": "DFcVJDEK7k7r"
      },
      "execution_count": null,
      "outputs": []
    },
    {
      "cell_type": "markdown",
      "source": [
        "We will use a dictionary to determine the ISO codes of desired countries."
      ],
      "metadata": {
        "id": "shPP2TrutEmP"
      }
    },
    {
      "cell_type": "code",
      "source": [
        "# create a dictionary of the desired ISO codes with their country names\n",
        "iso_dict = {'CRI' : 'Costa Rica', 'DEU' : 'Germany', 'USA' : 'United States', 'AFG' : \"Afghanistan\" }"
      ],
      "metadata": {
        "id": "sOKYgq8_47NW"
      },
      "execution_count": null,
      "outputs": []
    },
    {
      "cell_type": "markdown",
      "source": [
        "---"
      ],
      "metadata": {
        "id": "Q6sKKKwd37Ts"
      }
    },
    {
      "cell_type": "markdown",
      "source": [
        "####1.b Copying the source file from `GitHub`  "
      ],
      "metadata": {
        "id": "WppJQrhOiZgw"
      }
    },
    {
      "cell_type": "code",
      "source": [
        "!curl https://raw.githubusercontent.com/ProfessorPatrickSlatraigh/data/refs/heads/main/annual-co2-emissions-per-country.csv -o \"annual-co2-emissions-per-country.csv\""
      ],
      "metadata": {
        "id": "05Cor8QhvU3x"
      },
      "execution_count": null,
      "outputs": []
    },
    {
      "cell_type": "markdown",
      "source": [
        "The `touch` command lets us test that the file is there"
      ],
      "metadata": {
        "id": "ve_CE-wYiJMZ"
      }
    },
    {
      "cell_type": "code",
      "source": [
        "# check that the source file is in the current working directory\n",
        "!touch annual-co2-emissions-per-country.csv   # the `touch` command checks for a file"
      ],
      "metadata": {
        "id": "b70tvldzN3dF"
      },
      "execution_count": null,
      "outputs": []
    },
    {
      "cell_type": "markdown",
      "source": [
        "###1.c Read the source `.CSV` file into a `dictionary`  "
      ],
      "metadata": {
        "id": "B7XLNz-v5_w3"
      }
    },
    {
      "cell_type": "markdown",
      "source": [
        "For each `ISO` as a key and a list of row data as the value:\n"
      ],
      "metadata": {
        "id": "NSZ6lNxXQ9eu"
      }
    },
    {
      "cell_type": "code",
      "source": [
        "# create a dictionary to store key:value pairs of countries and case counts\n",
        "data_dict = dict()   # start with an empty dictionary"
      ],
      "metadata": {
        "id": "WgLG9Bs8h4GN"
      },
      "execution_count": null,
      "outputs": []
    },
    {
      "cell_type": "code",
      "source": [
        "# Open the CSV file\n",
        "with open(\"/content/annual-co2-emissions-per-country.csv\", mode=\"r\", encoding=\"utf-8\") as file:\n",
        "    reader = csv.DictReader(file)\n",
        "\n",
        "    # Iterate over each row and store it in the dictionary\n",
        "    for row in reader:\n",
        "        # Use a unique key, such as a combination of country and year\n",
        "        key = row['Code']  # Adjust field names as per your CSV header\n",
        "        data_dict[key] = row  # Store the entire row as the value"
      ],
      "metadata": {
        "id": "boKY7Ws9Q7b-"
      },
      "execution_count": null,
      "outputs": []
    },
    {
      "cell_type": "markdown",
      "source": [
        "\n",
        "\n",
        "---\n",
        "\n"
      ],
      "metadata": {
        "id": "sOM7tpa7htfc"
      }
    },
    {
      "cell_type": "markdown",
      "source": [
        "For a tuple of each (`ISO`, `Year`) as a key and a list of row data as the value:"
      ],
      "metadata": {
        "id": "gn0WdpwUacyJ"
      }
    },
    {
      "cell_type": "code",
      "source": [
        "# create a dictionary to store key:value pairs of countries and case counts\n",
        "data_dict = dict()   # start with an empty dictionary"
      ],
      "metadata": {
        "id": "uH4gvuPrh8QW"
      },
      "execution_count": null,
      "outputs": []
    },
    {
      "cell_type": "code",
      "source": [
        "# Open the CSV file\n",
        "with open(\"/content/annual-co2-emissions-per-country.csv\", mode=\"r\", encoding=\"utf-8\") as file:\n",
        "    reader = csv.DictReader(file)\n",
        "\n",
        "    # Iterate over each row and store it in the dictionary\n",
        "    for row in reader:\n",
        "        # Use a unique key, such as a combination of country and year\n",
        "        key = (row['Code'], row['Year'])  # Adjust field names as per your CSV header\n",
        "        data_dict[key] = row  # Store the entire row as the value"
      ],
      "metadata": {
        "id": "xHkhYya3IdWZ"
      },
      "execution_count": null,
      "outputs": []
    },
    {
      "cell_type": "markdown",
      "source": [
        "###1.d Review the `dictionary` results with `print()`"
      ],
      "metadata": {
        "id": "svfUtcG16GTH"
      }
    },
    {
      "cell_type": "markdown",
      "source": [
        "Have a look at the first five (5) entries in the `dictionary`"
      ],
      "metadata": {
        "id": "SdeFm9BPj2ph"
      }
    },
    {
      "cell_type": "code",
      "source": [
        "# Example output\n",
        "for key, value in list(data_dict.items())[:5]:  # Display first 5 entries\n",
        "    print(key, value)"
      ],
      "metadata": {
        "id": "nEk7W4TPJDyy"
      },
      "execution_count": null,
      "outputs": []
    },
    {
      "cell_type": "markdown",
      "source": [
        "Have a look at all entries in the `dictionary`"
      ],
      "metadata": {
        "id": "J3BuwwVLj6RY"
      }
    },
    {
      "cell_type": "code",
      "source": [
        "# print them all if you like\n",
        "for key in data_dict:\n",
        "    print(key, data_dict[key])"
      ],
      "metadata": {
        "id": "wx0HLJOp9OLi"
      },
      "execution_count": null,
      "outputs": []
    },
    {
      "cell_type": "markdown",
      "source": [
        "Have a look at all the co2 emmissions for a selected ISO code"
      ],
      "metadata": {
        "id": "itZbWjRbkNOu"
      }
    },
    {
      "cell_type": "code",
      "source": [
        "# print the total of emissions for a selected ISO code\n",
        "which_iso = input('What is the 3-letter ISO code you would like? ')\n",
        "input_year = input('What year would you like? ')\n",
        "# the following line of code does some editing of the user input with a technique we did not cover\n",
        "which_year = ''.join(char for char in input_year if char.isdigit())  # to take just the digits entered\n",
        "print(data_dict[(which_iso.upper(),which_year)])   # using a tuple of iso-code and year as the dictionary key"
      ],
      "metadata": {
        "id": "6nSFp_3qK-q9"
      },
      "execution_count": null,
      "outputs": []
    },
    {
      "cell_type": "markdown",
      "source": [
        "Have a look at all the co2 emmissions for the ISO codes in the `iso_codes` dictionary  "
      ],
      "metadata": {
        "id": "3f7mZdNnkU81"
      }
    },
    {
      "cell_type": "code",
      "source": [
        "# print the total emissions for the desired countries\n",
        "for key in data_dict:\n",
        "    if key[0] not in iso_dict:\n",
        "        continue\n",
        "    print(iso_dict[key[0]], '\\t', data_dict[key])"
      ],
      "metadata": {
        "id": "IVfdKQEM4c2F"
      },
      "execution_count": null,
      "outputs": []
    },
    {
      "cell_type": "markdown",
      "source": [
        "---"
      ],
      "metadata": {
        "id": "sDD6k8-KLyGi"
      }
    },
    {
      "cell_type": "markdown",
      "source": [
        "### Write Results to a `.CSV` File With the `csv` Library     "
      ],
      "metadata": {
        "id": "rVC6RP699ync"
      }
    },
    {
      "cell_type": "code",
      "source": [
        "with open('total-co2-emissions-selected-countries.csv', mode ='w') as total_emissions_file:\n",
        "    # create a file handle for writing the .csv file\n",
        "    output_csv_handle = csv.writer(total_emissions_file)\n",
        "\n",
        "    # write a header row to the output file\n",
        "    output_csv_handle.writerow([\"country\", \"total_emissions\"])\n",
        "\n",
        "    # write each data record to the output file\n",
        "    for key in data_dict:\n",
        "        if key not in iso_dict:\n",
        "            continue\n",
        "        output_csv_handle.writerow([iso_dict[key], data_dict[key]])\n",
        "\n"
      ],
      "metadata": {
        "id": "quf-A33y92zl"
      },
      "execution_count": null,
      "outputs": []
    },
    {
      "cell_type": "markdown",
      "source": [
        "\n",
        "\n",
        "---\n",
        "\n"
      ],
      "metadata": {
        "id": "ix7D1UdHkr_0"
      }
    },
    {
      "cell_type": "markdown",
      "source": [
        "##2. Reading a CSV File Into a <b>pandas</b> DataFrame  \n"
      ],
      "metadata": {
        "id": "UlnxusOIrcFw"
      }
    },
    {
      "cell_type": "markdown",
      "source": [
        "\n",
        "*This section uses the <b>pandas</b> `.read_csv()` method to read the `.csv` file into a `DataFrame`.*   "
      ],
      "metadata": {
        "id": "y8ojxCgvBBYF"
      }
    },
    {
      "cell_type": "markdown",
      "source": [
        "<font color=blue><h3>Here are two ways to access the source dataset:</h3></font>"
      ],
      "metadata": {
        "id": "6kVbcHoj9WNc"
      }
    },
    {
      "cell_type": "markdown",
      "source": [
        "####<font color=blue>2.a Example reading directly from a file on `Google Drive`</font>  "
      ],
      "metadata": {
        "id": "kNt1SfjJsIoy"
      }
    },
    {
      "cell_type": "code",
      "source": [
        "# the following code reads the `annual-co2-emissions-per-country.csv` file into a `df` dataframe\n",
        "\n",
        "# first we parse the Google share URL and construct a URL to download the file\n",
        "url='https://drive.google.com/file/d/1BzgiANIXNqRHnU85vzB3gHTGBesHuz4F/view?usp=sharing'\n",
        "file_id=url.split('/')[-2]\n",
        "dwn_url='https://drive.google.com/uc?id=' + file_id\n",
        "\n",
        "# using pandas `read_csv()`\n",
        "df = pd.read_csv(dwn_url)\n"
      ],
      "metadata": {
        "id": "AR6hyPN5AlcE"
      },
      "execution_count": null,
      "outputs": []
    },
    {
      "cell_type": "markdown",
      "source": [
        "---"
      ],
      "metadata": {
        "id": "dGhLJxmf6Df3"
      }
    },
    {
      "cell_type": "markdown",
      "source": [
        "####<font color=blue>2.b Copying the source file from `GitHub` and reading it with `pandas`</font>  "
      ],
      "metadata": {
        "id": "TEN3Q7lhmfRl"
      }
    },
    {
      "cell_type": "code",
      "source": [
        "!curl https://raw.githubusercontent.com/ProfessorPatrickSlatraigh/data/refs/heads/main/annual-co2-emissions-per-country.csv -o \"annual-co2-emissions-per-country.csv\""
      ],
      "metadata": {
        "id": "HZSQyp5MmfRm"
      },
      "execution_count": null,
      "outputs": []
    },
    {
      "cell_type": "markdown",
      "source": [
        "The `touch` command lets us test that the file is there"
      ],
      "metadata": {
        "id": "PSZz84FsmfRm"
      }
    },
    {
      "cell_type": "code",
      "source": [
        "# check that the source file is in the current working directory\n",
        "!touch annual-co2-emissions-per-country.csv   # the `touch` command checks for a file"
      ],
      "metadata": {
        "id": "WPvoCS1ImfRm"
      },
      "execution_count": null,
      "outputs": []
    },
    {
      "cell_type": "code",
      "source": [
        "df = pd.read_csv(\"annual-co2-emissions-per-country.csv\")"
      ],
      "metadata": {
        "id": "VO4YOFOdmyUj"
      },
      "execution_count": null,
      "outputs": []
    },
    {
      "cell_type": "markdown",
      "source": [
        "###2.c Review the `DataFrame` results"
      ],
      "metadata": {
        "id": "4XeNfCpU4tWe"
      }
    },
    {
      "cell_type": "markdown",
      "source": [
        "The `.head()` method in **pandas** is used to preview the first few rows of a DataFrame or Series. This is especially useful for quickly inspecting the structure, column names, and sample values in a dataset.\n",
        "\n",
        "<u>Syntax</u>  \n",
        "\n",
        "```  \n",
        "DataFrame.head(n=5)\n",
        "```  \n"
      ],
      "metadata": {
        "id": "dVCggjWvhjWM"
      }
    },
    {
      "cell_type": "markdown",
      "source": [
        "Have a look at the first five rows of the `DataFrame`"
      ],
      "metadata": {
        "id": "2vnufQcena_S"
      }
    },
    {
      "cell_type": "code",
      "source": [
        "df.head()"
      ],
      "metadata": {
        "id": "KI6ISeehna_S"
      },
      "execution_count": null,
      "outputs": []
    },
    {
      "cell_type": "markdown",
      "source": [
        "*How can we look at the last five rows?*"
      ],
      "metadata": {
        "id": "5Z4slwpR9yFq"
      }
    },
    {
      "cell_type": "code",
      "source": [
        "# your code here\n"
      ],
      "metadata": {
        "id": "YO6suxh394f9"
      },
      "execution_count": null,
      "outputs": []
    },
    {
      "cell_type": "markdown",
      "source": [
        "Have a look at all entries in the `DataFrame`"
      ],
      "metadata": {
        "id": "acnF1th54yxI"
      }
    },
    {
      "cell_type": "code",
      "source": [
        "df"
      ],
      "metadata": {
        "id": "ybJUqOlj5GjY"
      },
      "execution_count": null,
      "outputs": []
    },
    {
      "cell_type": "markdown",
      "source": [
        "Have a look at all the co2 emmissions for a selected ISO code"
      ],
      "metadata": {
        "id": "Wzw6URDV5Phc"
      }
    },
    {
      "cell_type": "code",
      "source": [
        "df[df['Code'] == 'CRI']"
      ],
      "metadata": {
        "id": "vMLEqXEF5Q2_"
      },
      "execution_count": null,
      "outputs": []
    },
    {
      "cell_type": "markdown",
      "source": [
        "Have a look at all the co2 emmissions for a selected ISO code and year.\n",
        "  \n",
        "*Note the need to use the appropriate data type for each column.*  "
      ],
      "metadata": {
        "id": "g7oMIwng5T_i"
      }
    },
    {
      "cell_type": "code",
      "source": [
        "df[(df['Code'] == 'CRI') & (df['Year'] == 2015)]"
      ],
      "metadata": {
        "id": "FS1a7PHR5WN1"
      },
      "execution_count": null,
      "outputs": []
    },
    {
      "cell_type": "markdown",
      "source": [
        "The `.dtypes` attribute in **pandas** is used to inspect the data types of each column in a DataFrame or the type of a Series. It is helpful for understanding how pandas interprets the data and for identifying columns that may require type conversion.\n",
        "  \n",
        "<u>Syntax</u>  \n",
        "```  \n",
        "DataFrame.dtypes  \n",
        "```  "
      ],
      "metadata": {
        "id": "rjeITl0fiUKv"
      }
    },
    {
      "cell_type": "markdown",
      "source": [
        "Have a look at the data types in the `DataFrame`"
      ],
      "metadata": {
        "id": "pQpExJGI5q7r"
      }
    },
    {
      "cell_type": "code",
      "source": [
        "df.dtypes"
      ],
      "metadata": {
        "id": "GK_42y6O5u_1"
      },
      "execution_count": null,
      "outputs": []
    },
    {
      "cell_type": "markdown",
      "source": [
        "In <b>pandas</b> `DataFrames` the data type `object` is a string.  "
      ],
      "metadata": {
        "id": "QUvnWt1I5xvT"
      }
    },
    {
      "cell_type": "markdown",
      "source": [
        "The `.describe()` method in **pandas** generates descriptive statistics for numerical columns in a DataFrame or Series. It is commonly used to get a quick summary of the central tendency, dispersion, and shape of the dataset’s distribution.\n",
        "\n",
        "<u>Syntax</u>  \n",
        "```\n",
        "DataFrame.describe(percentiles=None, include=None, exclude=None)  \n",
        "```\n"
      ],
      "metadata": {
        "id": "FW8w02kaiAjg"
      }
    },
    {
      "cell_type": "markdown",
      "source": [
        "Have a look at a summary of the data in the `DataFrame`"
      ],
      "metadata": {
        "id": "LhwgY5nW55O_"
      }
    },
    {
      "cell_type": "code",
      "source": [
        "df.describe()"
      ],
      "metadata": {
        "id": "398sw8jt58yY"
      },
      "execution_count": null,
      "outputs": []
    },
    {
      "cell_type": "markdown",
      "source": [
        "The `.idxmax()` method in **pandas** returns the **index label** of the first occurrence of the maximum value along the specified axis. It is useful for identifying the position of the largest value in a DataFrame or Series.  \n",
        "\n",
        "<u>Syntax</u>  \n",
        "```    \n",
        "DataFrame.idxmax(axis=0, skipna=True)  \n",
        "Series.idxmax(skipna=True)  \n",
        "```  \n"
      ],
      "metadata": {
        "id": "i5nENaQOiohn"
      }
    },
    {
      "cell_type": "markdown",
      "source": [
        "Find the greatest CO2 emissions for a country and year"
      ],
      "metadata": {
        "id": "B3MihjfL6Atm"
      }
    },
    {
      "cell_type": "code",
      "source": [
        "df.loc[df['Annual CO2 emissions'].idxmax()]"
      ],
      "metadata": {
        "id": "qOxcvjYU6Krn"
      },
      "execution_count": null,
      "outputs": []
    },
    {
      "cell_type": "markdown",
      "source": [
        "That is not a country!   We have some cleaning up to do."
      ],
      "metadata": {
        "id": "oat8panR6V7V"
      }
    },
    {
      "cell_type": "markdown",
      "source": [
        "The following code performs data cleaning (data wrangling) on the pandas DataFrame `df`, specifically focusing on the `'Code'` column.\n",
        "\n",
        "First, the DataFrame is copied using `df.copy()` to avoid modifying the original data. This copy is stored in `filtered_df0`. The `'Code'` column is then explicitly converted to a string type with `.astype(str)` to ensure compatibility with string operations.\n",
        "\n",
        "Next, the code removes rows where the `'Code'` value contains an underscore (`'_'`). This is done using the `.str.contains('_')` method along with the tilde (`~`) operator, which negates the condition to keep only rows without underscores. The resulting DataFrame is stored in `filtered_df1`.\n",
        "\n",
        "Finally, the code removes rows where `'Code'` contains the string `'nan'`, which can occur if missing values (`NaN`) were converted to strings. Again, `.str.contains('nan')` is used along with `~` to exclude those rows. The result is stored in `filtered_df`.\n",
        "\n",
        "In summary, `filtered_df` is a cleaned version of the original DataFrame that excludes rows with underscores or string-based missing values in the `'Code'` column.\n",
        "\n",
        "> Tip: If you want to exclude actual `NaN` values before converting to string, you can use `.notna()` to filter them first."
      ],
      "metadata": {
        "id": "YhdOpEIojUEn"
      }
    },
    {
      "cell_type": "code",
      "source": [
        "# Create a copy of the DataFrame\n",
        "filtered_df0 = df.copy()\n",
        "\n",
        "# Convert the 'Code' column to string type\n",
        "filtered_df0['Code'] = filtered_df0['Code'].astype(str)\n",
        "\n",
        "# Filter out rows where 'Code' contains an underscore\n",
        "filtered_df1 = filtered_df0[~filtered_df0['Code'].str.contains('_')]\n",
        "\n",
        "# Filter out rows where 'Code' is missing (\"nan\")\n",
        "filtered_df = filtered_df1[~filtered_df1['Code'].str.contains('nan')]\n"
      ],
      "metadata": {
        "id": "qFLv4yPY6c2E"
      },
      "execution_count": null,
      "outputs": []
    },
    {
      "cell_type": "code",
      "source": [
        "filtered_df.head()"
      ],
      "metadata": {
        "id": "hnDfpYE48ISb"
      },
      "execution_count": null,
      "outputs": []
    },
    {
      "cell_type": "code",
      "source": [
        "filtered_df.tail()"
      ],
      "metadata": {
        "id": "ncL-Blsd8L3k"
      },
      "execution_count": null,
      "outputs": []
    },
    {
      "cell_type": "code",
      "source": [
        "filtered_df.dtypes"
      ],
      "metadata": {
        "id": "oo0tqBOF7f4w"
      },
      "execution_count": null,
      "outputs": []
    },
    {
      "cell_type": "code",
      "source": [
        "filtered_df.describe()"
      ],
      "metadata": {
        "id": "mjJ5xq1X7czq"
      },
      "execution_count": null,
      "outputs": []
    },
    {
      "cell_type": "markdown",
      "source": [
        "Now, Find the greatest CO2 emissions for a country and year"
      ],
      "metadata": {
        "id": "8ks7OKvU7QzG"
      }
    },
    {
      "cell_type": "code",
      "source": [
        "# Find the greatest CO2 emissions for a country and year (after filtering)\n",
        "filtered_df.loc[filtered_df['Annual CO2 emissions'].idxmax()]"
      ],
      "metadata": {
        "id": "t7Aok7o97VnB"
      },
      "execution_count": null,
      "outputs": []
    },
    {
      "cell_type": "markdown",
      "source": [
        "\n",
        "\n",
        "---\n",
        "\n"
      ],
      "metadata": {
        "id": "AxBWFKhA4w2-"
      }
    },
    {
      "cell_type": "markdown",
      "source": [
        "##Exercise I - Reading your file with the `csv` library\n",
        "\n"
      ],
      "metadata": {
        "id": "PxXKKdUSgDV2"
      }
    },
    {
      "cell_type": "markdown",
      "source": [
        "Write your code in this section of the notebook to accomplish the following:  \n",
        "  \n",
        "1. Access a `.CSV` dataset  \n",
        "2. Import the `csv` library  \n",
        "3. Use the `csv` library to read your `.CSV` dataset and create a variable `dict` as a dictionary with the content from the dataset  \n",
        "4. Print summary information from the dictionary you created  \n"
      ],
      "metadata": {
        "id": "6Hdz3fMrgIKg"
      }
    },
    {
      "cell_type": "code",
      "source": [
        "# your code here (add cells as needed)\n"
      ],
      "metadata": {
        "id": "Z4ELbXpmggbp"
      },
      "execution_count": null,
      "outputs": []
    },
    {
      "cell_type": "markdown",
      "source": [
        "\n",
        "\n",
        "---\n",
        "\n"
      ],
      "metadata": {
        "id": "TlMHjUMfgjhG"
      }
    },
    {
      "cell_type": "markdown",
      "source": [
        "##Exercise II - Reading your file with the `pandas` library (DataFrame)\n"
      ],
      "metadata": {
        "id": "GjCWpztqgm4l"
      }
    },
    {
      "cell_type": "markdown",
      "source": [
        "Write your code in this section of the notebook to accomplish the following:  \n",
        "  \n",
        "1. Access a `.CSV` dataset  \n",
        "2. Import the `pandas` library as `pd`   \n",
        "3. Use the `pandas` as `pd` library to read your `.CSV` dataset and create a variable `df` as a DataFrame with the content from the dataset  \n",
        "4. Print summary information from the DataFrame you created  \n"
      ],
      "metadata": {
        "id": "605lWiLxgsSQ"
      }
    },
    {
      "cell_type": "code",
      "source": [
        "# your code here\n",
        ""
      ],
      "metadata": {
        "id": "Ot8qAucig8gi"
      },
      "execution_count": null,
      "outputs": []
    },
    {
      "cell_type": "markdown",
      "source": [
        "\n",
        "\n",
        "---\n",
        "\n"
      ],
      "metadata": {
        "id": "rRSUW74Bg-SK"
      }
    }
  ]
}