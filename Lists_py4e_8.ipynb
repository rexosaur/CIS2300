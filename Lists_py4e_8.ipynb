{
  "cells": [
    {
      "cell_type": "markdown",
      "metadata": {
        "id": "view-in-github",
        "colab_type": "text"
      },
      "source": [
        "<a href=\"https://colab.research.google.com/github/ProfessorPatrickSlatraigh/CIS2300/blob/main/CIS2300_Lists_py4e_8.ipynb\" target=\"_parent\"><img src=\"https://colab.research.google.com/assets/colab-badge.svg\" alt=\"Open In Colab\"/></a>"
      ]
    },
    {
      "cell_type": "markdown",
      "metadata": {
        "id": "Z9T2z6LmxTZI"
      },
      "source": [
        "# CHAPTER 8 - LISTS"
      ]
    },
    {
      "cell_type": "markdown",
      "metadata": {
        "id": "KRKrVShTxTZK"
      },
      "source": [
        "### 9(8).1 A list is a sequence"
      ]
    },
    {
      "cell_type": "code",
      "execution_count": null,
      "metadata": {
        "id": "QgZ2fyQuxTZK"
      },
      "outputs": [],
      "source": [
        "# There are several ways to create a new list; the simplest is to enclose the elements in square brackets ([ and ]):\n",
        "[10, 20, 30, 40]"
      ]
    },
    {
      "cell_type": "code",
      "execution_count": null,
      "metadata": {
        "id": "GZB8Od6AxTZL"
      },
      "outputs": [],
      "source": [
        "['crunchy frog', 'ram bladder', 'lark vomit']"
      ]
    },
    {
      "cell_type": "code",
      "execution_count": null,
      "metadata": {
        "id": "d6Dqv9OExTZM"
      },
      "outputs": [],
      "source": [
        "# list contains a string, a float, an integer, and (lo!) another list:\n",
        "['spam', 2.0, 5, [10, 20]]"
      ]
    },
    {
      "cell_type": "code",
      "execution_count": null,
      "metadata": {
        "id": "MQ9zFiYexTZM"
      },
      "outputs": [],
      "source": [
        "cheeses = ['Cheddar', 'Edam', 'Gouda']\n",
        "numbers = [17, 123]\n",
        "empty = []\n",
        "print(cheeses, numbers, empty)"
      ]
    },
    {
      "cell_type": "markdown",
      "metadata": {
        "id": "0ZSqNBD0xTZM"
      },
      "source": [
        "### 9(8).2 Lists are mutable"
      ]
    },
    {
      "cell_type": "code",
      "execution_count": null,
      "metadata": {
        "id": "xKeRM9nKxTZN"
      },
      "outputs": [],
      "source": [
        "# the indices start at 0:\n",
        "print(cheeses[0])"
      ]
    },
    {
      "cell_type": "code",
      "execution_count": null,
      "metadata": {
        "id": "uL5ld96FxTZN"
      },
      "outputs": [],
      "source": [
        "numbers = [17, 123]\n",
        "numbers[1] = 5\n",
        "print(numbers)"
      ]
    },
    {
      "cell_type": "code",
      "execution_count": null,
      "metadata": {
        "id": "2ax1sML1xTZN"
      },
      "outputs": [],
      "source": [
        "cheeses = ['Cheddar', 'Edam', 'Gouda']\n",
        "'Edam' in cheeses"
      ]
    },
    {
      "cell_type": "code",
      "execution_count": null,
      "metadata": {
        "id": "zGVBT6EqxTZO"
      },
      "outputs": [],
      "source": [
        "'Brie' in cheeses"
      ]
    },
    {
      "cell_type": "markdown",
      "metadata": {
        "id": "XY0SxhrWxTZO"
      },
      "source": [
        "### 9(8).3 Traversing a list"
      ]
    },
    {
      "cell_type": "code",
      "execution_count": null,
      "metadata": {
        "id": "MvVrSr_ExTZO"
      },
      "outputs": [],
      "source": [
        "for cheese in cheeses:\n",
        "    print(cheese)"
      ]
    },
    {
      "cell_type": "code",
      "execution_count": null,
      "metadata": {
        "id": "V7unrJ-UxTZO"
      },
      "outputs": [],
      "source": [
        "for i in range(len(numbers)):\n",
        "    numbers[i] = numbers[i] * 2\n",
        "    print(numbers[i])"
      ]
    },
    {
      "cell_type": "code",
      "execution_count": null,
      "metadata": {
        "id": "k_frJDmGxTZP"
      },
      "outputs": [],
      "source": [
        "# A for loop over an empty list never executes the body\n",
        "for x in empty:\n",
        "    print('This never happens.')"
      ]
    },
    {
      "cell_type": "code",
      "execution_count": null,
      "metadata": {
        "id": "WX1Xo3B9xTZP"
      },
      "outputs": [],
      "source": [
        "# Although a list can contain another list, the nested list still counts as a single element. The length of this list is\n",
        "t = ['spam', 1, ['Brie', 'Roquefort', 'Pol le Veq'], [1, 2, 3]]\n",
        "len(t)"
      ]
    },
    {
      "cell_type": "markdown",
      "metadata": {
        "id": "EayxS854xTZP"
      },
      "source": [
        "### 9(8).4 List operations"
      ]
    },
    {
      "cell_type": "code",
      "execution_count": null,
      "metadata": {
        "id": "Wzmx1VMpxTZP"
      },
      "outputs": [],
      "source": [
        "# The + operator concatenates lists:\n",
        "a = [1, 2, 3]\n",
        "b = [4, 5, 6]\n",
        "c = a + b\n",
        "print(c)"
      ]
    },
    {
      "cell_type": "code",
      "execution_count": null,
      "metadata": {
        "id": "VPZrBucRxTZQ"
      },
      "outputs": [],
      "source": [
        "# the * operator repeats a list a given number of times:\n",
        "[0] * 4"
      ]
    },
    {
      "cell_type": "code",
      "execution_count": null,
      "metadata": {
        "id": "uZvWh8HlxTZQ"
      },
      "outputs": [],
      "source": [
        "[1, 2, 3] * 3"
      ]
    },
    {
      "cell_type": "markdown",
      "metadata": {
        "id": "Y8TebY7bxTZQ"
      },
      "source": [
        "### 9(8).5 List slices"
      ]
    },
    {
      "cell_type": "code",
      "execution_count": null,
      "metadata": {
        "id": "dhV5AAyIxTZQ"
      },
      "outputs": [],
      "source": [
        "t = ['a', 'b', 'c', 'd', 'e', 'f']\n",
        "t[1:3]"
      ]
    },
    {
      "cell_type": "code",
      "execution_count": null,
      "metadata": {
        "id": "6XTdBU5AxTZQ"
      },
      "outputs": [],
      "source": [
        "t[:4]"
      ]
    },
    {
      "cell_type": "code",
      "execution_count": null,
      "metadata": {
        "id": "bGJx4whwxTZR"
      },
      "outputs": [],
      "source": [
        "t[3:]"
      ]
    },
    {
      "cell_type": "code",
      "execution_count": null,
      "metadata": {
        "id": "nus1kNiexTZR"
      },
      "outputs": [],
      "source": [
        "t[:]"
      ]
    },
    {
      "cell_type": "code",
      "execution_count": null,
      "metadata": {
        "id": "aH65GChOxTZR"
      },
      "outputs": [],
      "source": [
        "# A slice operator on the left side of an assignment can update multiple elements:\n",
        "t = ['a', 'b', 'c', 'd', 'e', 'f']\n",
        "t[1:3] = ['x', 'y']\n",
        "print(t)"
      ]
    },
    {
      "cell_type": "markdown",
      "metadata": {
        "id": "FfqVWKmxxTZR"
      },
      "source": [
        "### 9(8).6 List methods"
      ]
    },
    {
      "cell_type": "code",
      "execution_count": null,
      "metadata": {
        "id": "D23uj0JgxTZR"
      },
      "outputs": [],
      "source": [
        "t = ['a', 'b', 'c']\n",
        "t.append('d')\n",
        "print(t)"
      ]
    },
    {
      "cell_type": "markdown",
      "source": [
        "Bear in mind that the elements of a list can be any type of object, including a list..."
      ],
      "metadata": {
        "id": "oPLyKeGfAsjB"
      }
    },
    {
      "cell_type": "code",
      "source": [
        "t.append(['e', 'f'])\n",
        "print(t)"
      ],
      "metadata": {
        "id": "FxbW8smwAi9N"
      },
      "execution_count": null,
      "outputs": []
    },
    {
      "cell_type": "code",
      "execution_count": null,
      "metadata": {
        "id": "iR1mFuIRxTZR"
      },
      "outputs": [],
      "source": [
        "t1 = ['a', 'b', 'c']\n",
        "t2 = ['d', 'e']\n",
        "t1.extend(t2)\n",
        "print(t1)"
      ]
    },
    {
      "cell_type": "code",
      "execution_count": null,
      "metadata": {
        "id": "i61b8ERCxTZR"
      },
      "outputs": [],
      "source": [
        "t = ['d', 'c', 'e', 'b', 'a']\n",
        "t.sort()\n",
        "print(t)"
      ]
    },
    {
      "cell_type": "markdown",
      "metadata": {
        "id": "wQGgO9PQxTZS"
      },
      "source": [
        "### 9(8).7 Deleting elements"
      ]
    },
    {
      "cell_type": "code",
      "execution_count": null,
      "metadata": {
        "id": "-NPsUrv5xTZS"
      },
      "outputs": [],
      "source": [
        "t = ['a', 'b', 'c']\n",
        "x = t.pop(1)\n",
        "print(t)\n",
        "print(x)"
      ]
    },
    {
      "cell_type": "code",
      "execution_count": null,
      "metadata": {
        "id": "R9mGLJdzxTZS"
      },
      "outputs": [],
      "source": [
        "# If you don’t need the removed value, you can use the del operator:\n",
        "t = ['a', 'b', 'c']\n",
        "del t[1]\n",
        "print(t)"
      ]
    },
    {
      "cell_type": "code",
      "execution_count": null,
      "metadata": {
        "id": "CpMZkf5GxTZX"
      },
      "outputs": [],
      "source": [
        "# If you know the element you want to remove (but not the index), you can use remove:\n",
        "t = ['a', 'b', 'c']\n",
        "t.remove('b')\n",
        "print(t)"
      ]
    },
    {
      "cell_type": "code",
      "execution_count": null,
      "metadata": {
        "id": "aqqh9-cOxTZX"
      },
      "outputs": [],
      "source": [
        "# To remove more than one element, you can use del with a slice index:\n",
        "t = ['a', 'b', 'c', 'd', 'e', 'f']\n",
        "del t[1:5]\n",
        "print(t)"
      ]
    },
    {
      "cell_type": "markdown",
      "metadata": {
        "id": "A66aNvySxTZX"
      },
      "source": [
        "### 9(8).8 Lists and functions"
      ]
    },
    {
      "cell_type": "code",
      "execution_count": null,
      "metadata": {
        "id": "RVOGqYqFxTZX"
      },
      "outputs": [],
      "source": [
        "nums = [3, 41, 12, 9, 74, 15]"
      ]
    },
    {
      "cell_type": "code",
      "execution_count": null,
      "metadata": {
        "id": "AF-MaMJExTZX"
      },
      "outputs": [],
      "source": [
        "len(nums)"
      ]
    },
    {
      "cell_type": "code",
      "execution_count": null,
      "metadata": {
        "id": "iQcY3Z3sxTZX"
      },
      "outputs": [],
      "source": [
        "max(nums)"
      ]
    },
    {
      "cell_type": "code",
      "execution_count": null,
      "metadata": {
        "id": "uiKyhm5OxTZY"
      },
      "outputs": [],
      "source": [
        "min(nums)"
      ]
    },
    {
      "cell_type": "code",
      "execution_count": null,
      "metadata": {
        "id": "gJ1l_ln4xTZY"
      },
      "outputs": [],
      "source": [
        "sum(nums)"
      ]
    },
    {
      "cell_type": "code",
      "execution_count": null,
      "metadata": {
        "id": "Ny3eVNKdxTZY"
      },
      "outputs": [],
      "source": [
        "sum(nums)/len(nums)"
      ]
    },
    {
      "cell_type": "code",
      "execution_count": null,
      "metadata": {
        "id": "2Qr623ZLxTZY"
      },
      "outputs": [],
      "source": [
        "# To compute an average without a list:\n",
        "total = 0\n",
        "count = 0\n",
        "while (True):\n",
        "    inp = input('Enter a number: ')\n",
        "    if inp == 'done': break\n",
        "    value = float(inp)\n",
        "    total = total + value\n",
        "    count = count + 1\n",
        "\n",
        "average = total / count\n",
        "print('Average:', average)"
      ]
    },
    {
      "cell_type": "code",
      "execution_count": null,
      "metadata": {
        "id": "KAfOdQPAxTZY"
      },
      "outputs": [],
      "source": [
        "# Use built-in functions to compute the sum and count at the end\n",
        "numlist = list()\n",
        "while (True):\n",
        "    inp = input('Enter a number: ')\n",
        "    if inp == 'done': break\n",
        "    value = float(inp)\n",
        "    numlist.append(value)\n",
        "\n",
        "average = sum(numlist) / len(numlist)\n",
        "print('Average:', average)"
      ]
    },
    {
      "cell_type": "markdown",
      "metadata": {
        "id": "OfhbhXMcxTZY"
      },
      "source": [
        "### 9(8).9 Lists and strings"
      ]
    },
    {
      "cell_type": "code",
      "execution_count": null,
      "metadata": {
        "id": "0RjvqUpKxTZY"
      },
      "outputs": [],
      "source": [
        "# convert dtring to list using built in function\n",
        "s = 'spam'\n",
        "t = list(s)\n",
        "print(t)"
      ]
    },
    {
      "cell_type": "code",
      "execution_count": null,
      "metadata": {
        "id": "feF5wRsKxTZY"
      },
      "outputs": [],
      "source": [
        "# To break a string into words, use the split method\n",
        "s = 'pining for the fjords'\n",
        "t = s.split()\n",
        "print(t)"
      ]
    },
    {
      "cell_type": "code",
      "execution_count": null,
      "metadata": {
        "id": "pb-7j2laxTZZ"
      },
      "outputs": [],
      "source": [
        "print(t[2])"
      ]
    },
    {
      "cell_type": "code",
      "execution_count": null,
      "metadata": {
        "id": "5bpUfqFJxTZZ"
      },
      "outputs": [],
      "source": [
        "# split with an optional argument called a delimiter\n",
        "s = 'spam-spam-spam'\n",
        "delimiter = '-'\n",
        "s.split(delimiter)"
      ]
    },
    {
      "cell_type": "code",
      "execution_count": null,
      "metadata": {
        "id": "HHYU5SO3xTZZ"
      },
      "outputs": [],
      "source": [
        "# join is the inverse of split\n",
        "t = ['pining', 'for', 'the', 'fjords']\n",
        "delimiter = ' '\n",
        "delimiter.join(t)"
      ]
    },
    {
      "cell_type": "markdown",
      "metadata": {
        "id": "Dn9I0hXVxTZZ"
      },
      "source": [
        "### 9(8).10 Parsing lines"
      ]
    },
    {
      "cell_type": "code",
      "execution_count": null,
      "metadata": {
        "id": "Nef3F6HixTZZ"
      },
      "outputs": [],
      "source": [
        "fhand = open('mbox-short.txt')\n",
        "for line in fhand:\n",
        "    line = line.rstrip()\n",
        "    if not line.startswith('From '): continue\n",
        "    words = line.split()\n",
        "    print(words[2])"
      ]
    },
    {
      "cell_type": "markdown",
      "metadata": {
        "id": "f31Vj2RZxTZZ"
      },
      "source": [
        "### 9(8).11 Objects and values"
      ]
    },
    {
      "cell_type": "code",
      "execution_count": null,
      "metadata": {
        "id": "_O2YpJshxTZZ"
      },
      "outputs": [],
      "source": [
        "a = 'banana'\n",
        "b = 'banana'\n",
        "# To check whether two variables refer to the same object, use the 'is' operator.\n",
        "a is b"
      ]
    },
    {
      "cell_type": "code",
      "execution_count": null,
      "metadata": {
        "id": "7qEJxddOxTZa"
      },
      "outputs": [],
      "source": [
        "a = [1, 2, 3]\n",
        "b = [1, 2, 3]\n",
        "# two lists are equivalent, because they have the same elements, but not identical, because they are not the same object\n",
        "a is b"
      ]
    },
    {
      "cell_type": "markdown",
      "metadata": {
        "id": "Jw9lXTjkxTZa"
      },
      "source": [
        "### 9(8).12 Aliasing"
      ]
    },
    {
      "cell_type": "code",
      "execution_count": null,
      "metadata": {
        "id": "OyOg2bsKxTZa"
      },
      "outputs": [],
      "source": [
        "a = [1, 2, 3]\n",
        "b = a\n",
        "b is a\n",
        "\n",
        "# The association of a variable with an object is called a reference. In this example,\n",
        "# there are two references to the same object.\n",
        "# An object with more than one reference has more than one name, so we say that\n",
        "# the object is aliased."
      ]
    },
    {
      "cell_type": "code",
      "execution_count": null,
      "metadata": {
        "id": "OjZgggWFxTZa"
      },
      "outputs": [],
      "source": [
        "b[0] = 17\n",
        "print(a)\n",
        "\n",
        "# If the aliased object is mutable, changes made with one alias affect the other"
      ]
    },
    {
      "cell_type": "markdown",
      "metadata": {
        "id": "TcaNLcEexTZa"
      },
      "source": [
        "### 9(8).13 List arguments"
      ]
    },
    {
      "cell_type": "code",
      "execution_count": null,
      "metadata": {
        "id": "ETqyn8QMxTZa"
      },
      "outputs": [],
      "source": [
        "def delete_head(t):\n",
        "    del t[0]"
      ]
    },
    {
      "cell_type": "code",
      "execution_count": null,
      "metadata": {
        "id": "uwLAZbrPxTZa"
      },
      "outputs": [],
      "source": [
        "letters = ['a', 'b', 'c']\n",
        "delete_head(letters)\n",
        "print(letters)"
      ]
    },
    {
      "cell_type": "code",
      "execution_count": null,
      "metadata": {
        "id": "jkG4mxpixTZb"
      },
      "outputs": [],
      "source": [
        "# The append method modifies a list, but the + operator creates a new list:\n",
        "t1 = [1, 2]\n",
        "t2 = t1.append(3)\n",
        "print(t1)"
      ]
    },
    {
      "cell_type": "code",
      "execution_count": null,
      "metadata": {
        "id": "MIzmKn5mxTZb"
      },
      "outputs": [],
      "source": [
        "print(t2)"
      ]
    },
    {
      "cell_type": "code",
      "execution_count": null,
      "metadata": {
        "id": "jTGvuSUhxTZb"
      },
      "outputs": [],
      "source": [
        "t3 = t1 + [3]\n",
        "print(t3)"
      ]
    },
    {
      "cell_type": "code",
      "execution_count": null,
      "metadata": {
        "id": "tUw4IvX2xTZb"
      },
      "outputs": [],
      "source": [
        "t2 is t3"
      ]
    },
    {
      "cell_type": "code",
      "execution_count": null,
      "metadata": {
        "id": "ubbx9CftxTZb"
      },
      "outputs": [],
      "source": [
        "# this function does not delete the head of a list:\n",
        "def bad_delete_head(t):\n",
        "    t = t[1:]"
      ]
    },
    {
      "cell_type": "code",
      "execution_count": null,
      "metadata": {
        "id": "E0sVr4vIxTZb"
      },
      "outputs": [],
      "source": [
        "# tail returns all but the first element of a list:\n",
        "def tail(t):\n",
        "    return t[1:]"
      ]
    },
    {
      "cell_type": "code",
      "execution_count": null,
      "metadata": {
        "id": "chHgAJDUxTZb"
      },
      "outputs": [],
      "source": [
        "letters = ['a', 'b', 'c']\n",
        "rest = tail(letters)\n",
        "print(rest)"
      ]
    }
  ],
  "metadata": {
    "kernelspec": {
      "display_name": "Python 3",
      "language": "python",
      "name": "python3"
    },
    "language_info": {
      "codemirror_mode": {
        "name": "ipython",
        "version": 3
      },
      "file_extension": ".py",
      "mimetype": "text/x-python",
      "name": "python",
      "nbconvert_exporter": "python",
      "pygments_lexer": "ipython3",
      "version": "3.7.1"
    },
    "colab": {
      "provenance": [],
      "include_colab_link": true
    }
  },
  "nbformat": 4,
  "nbformat_minor": 0
}
