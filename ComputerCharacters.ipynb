{
  "nbformat": 4,
  "nbformat_minor": 0,
  "metadata": {
    "colab": {
      "provenance": [],
      "authorship_tag": "ABX9TyP0ezmv4CmnSJR/L0Es4tdU",
      "include_colab_link": true
    },
    "kernelspec": {
      "name": "python3",
      "display_name": "Python 3"
    },
    "language_info": {
      "name": "python"
    }
  },
  "cells": [
    {
      "cell_type": "markdown",
      "metadata": {
        "id": "view-in-github",
        "colab_type": "text"
      },
      "source": [
        "<a href=\"https://colab.research.google.com/github/ProfessorPatrickSlatraigh/CIS2300/blob/main/ComputerCharacters_Feb_2025.ipynb\" target=\"_parent\"><img src=\"https://colab.research.google.com/assets/colab-badge.svg\" alt=\"Open In Colab\"/></a>"
      ]
    },
    {
      "cell_type": "code",
      "execution_count": null,
      "metadata": {
        "id": "mFAWfCvzeB4G"
      },
      "outputs": [],
      "source": [
        "print(ord('H'))"
      ]
    },
    {
      "cell_type": "code",
      "source": [
        "print(ord('e'))"
      ],
      "metadata": {
        "id": "8QB6o8kPeMoH"
      },
      "execution_count": null,
      "outputs": []
    },
    {
      "cell_type": "code",
      "source": [
        "print(ord('\\n'))"
      ],
      "metadata": {
        "id": "xFwderIceQdo"
      },
      "execution_count": null,
      "outputs": []
    }
  ]
}
