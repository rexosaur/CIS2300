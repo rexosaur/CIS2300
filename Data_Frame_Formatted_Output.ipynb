{
  "cells": [
    {
      "cell_type": "markdown",
      "metadata": {
        "id": "view-in-github",
        "colab_type": "text"
      },
      "source": [
        "<a href=\"https://colab.research.google.com/github/ProfessorPatrickSlatraigh/CIS2300/blob/main/DataFrameFormattedOutput.ipynb\" target=\"_parent\"><img src=\"https://colab.research.google.com/assets/colab-badge.svg\" alt=\"Open In Colab\"/></a>"
      ]
    },
    {
      "cell_type": "markdown",
      "source": [
        "#Formatted Output from pandas DataFrames  \n",
        "  \n",
        "*by Professor Patrick: May 2025*  \n",
        "  \n",
        "*This notebook can be accessed using -- https://bit.ly/DataFrameFormattedOutput*  \n",
        "  \n",
        "    \n",
        "##Contents  \n",
        "- Using `pandas` built-in `.to_markdown()` (and saving it as a file)   \n",
        "- Using `tabulate` for Pretty Terminal Output of pandas DataFrames  \n",
        "- Using IPython `display()` for Pretty Output of pandas DataFrames  \n"
      ],
      "metadata": {
        "id": "ELxZQwfA2w__"
      },
      "id": "ELxZQwfA2w__"
    },
    {
      "cell_type": "markdown",
      "source": [
        "\n",
        "\n",
        "---\n",
        "\n"
      ],
      "metadata": {
        "id": "Jsxv3Lxz1IhB"
      },
      "id": "Jsxv3Lxz1IhB"
    },
    {
      "cell_type": "markdown",
      "source": [
        "##Using `pandas` built-in `.to_markdown()`  "
      ],
      "metadata": {
        "id": "C10eZG4J0Oam"
      },
      "id": "C10eZG4J0Oam"
    },
    {
      "cell_type": "markdown",
      "source": [
        "To produce the content of a DataFrame in **markdown** text, use the `.to_markdown()` method in pandas."
      ],
      "metadata": {
        "id": "dg3JMH-M0UeY"
      },
      "id": "dg3JMH-M0UeY"
    },
    {
      "cell_type": "code",
      "source": [
        "import pandas as pd\n",
        "from tabulate import tabulate\n",
        "\n",
        "df = pd.DataFrame({\n",
        "    'Name': ['Alice', 'Bob', 'Ted', 'Carol'],\n",
        "    'Age': [25, 30, 22, 28],\n",
        "    'Office' : ['Milwaukee', 'Duluth', 'Duluth', 'Chicago'],\n",
        "    'Department': ['HR', 'Engineering', 'Finance', 'Marketing']\n",
        "})\n",
        "\n",
        "print(df.to_markdown())"
      ],
      "metadata": {
        "id": "-PtSYAuU0VdJ"
      },
      "id": "-PtSYAuU0VdJ",
      "execution_count": null,
      "outputs": []
    },
    {
      "cell_type": "markdown",
      "source": [
        "The same `.to_markdown()` method can write a file..."
      ],
      "metadata": {
        "id": "nUff0mnP0oyL"
      },
      "id": "nUff0mnP0oyL"
    },
    {
      "cell_type": "code",
      "source": [
        "df.to_markdown(\"markdown4u.htm\")"
      ],
      "metadata": {
        "id": "C8eixD-y0cMj"
      },
      "id": "C8eixD-y0cMj",
      "execution_count": null,
      "outputs": []
    },
    {
      "cell_type": "markdown",
      "source": [
        "\n",
        "\n",
        "---\n",
        "\n"
      ],
      "metadata": {
        "id": "dI4C8mwi0zl8"
      },
      "id": "dI4C8mwi0zl8"
    },
    {
      "cell_type": "markdown",
      "metadata": {
        "id": "gk1VK0hHqnyH"
      },
      "source": [
        "## Using `tabulate` for Pretty Terminal Output of pandas DataFrames\n",
        "\n",
        "This notebook demonstrates how to use the `tabulate` library to print well-formatted tables from pandas DataFrames in a variety of styles. The `tabulate` module is useful for displaying tables in plain text environments, such as the terminal or logs.\n",
        "\n",
        "### Sections\n",
        "- Introduction\n",
        "- Basic Usage of `tabulate`\n",
        "- Examples of Available Styles\n",
        "- When to Use or Avoid `tabulate`"
      ],
      "id": "gk1VK0hHqnyH"
    },
    {
      "cell_type": "markdown",
      "metadata": {
        "id": "mWA6V07lqnyI"
      },
      "source": [
        "### Introduction\n",
        "\n",
        "Install the library using pip:\n",
        "```bash\n",
        "pip install tabulate\n",
        "```\n",
        "Import it in your Python code alongside `pandas`:"
      ],
      "id": "mWA6V07lqnyI"
    },
    {
      "cell_type": "code",
      "execution_count": null,
      "metadata": {
        "id": "_ou3ti-0qnyI"
      },
      "outputs": [],
      "source": [
        "import pandas as pd\n",
        "from tabulate import tabulate"
      ],
      "id": "_ou3ti-0qnyI"
    },
    {
      "cell_type": "markdown",
      "metadata": {
        "id": "nIZkOZ9nqnyJ"
      },
      "source": [
        "### Basic Usage\n",
        "\n",
        "Create a simple DataFrame and format it using the `tabulate` function."
      ],
      "id": "nIZkOZ9nqnyJ"
    },
    {
      "cell_type": "code",
      "execution_count": null,
      "metadata": {
        "id": "N3s5q98BqnyJ"
      },
      "outputs": [],
      "source": [
        "import pandas as pd\n",
        "from tabulate import tabulate\n",
        "\n",
        "df = pd.DataFrame({\n",
        "    'Name': ['Alice', 'Bob', 'Ted', 'Carol'],\n",
        "    'Age': [25, 30, 22, 28],\n",
        "    'Office' : ['Milwaukee', 'Duluth', 'Duluth', 'Chicago'],\n",
        "    'Department': ['HR', 'Engineering', 'Finance', 'Marketing']\n",
        "})\n",
        "\n",
        "print(tabulate(df, headers='keys', tablefmt='psql'))"
      ],
      "id": "N3s5q98BqnyJ"
    },
    {
      "cell_type": "markdown",
      "metadata": {
        "id": "of9dbMmGqnyJ"
      },
      "source": [
        "### Examples of `tabulate` Styles\n",
        "Below are examples of all styles supported by `tabulate` using the same DataFrame."
      ],
      "id": "of9dbMmGqnyJ"
    },
    {
      "cell_type": "markdown",
      "source": [
        "####<u>A Variety of General-Use Styles</u>    "
      ],
      "metadata": {
        "id": "1-h5LzjwvCQr"
      },
      "id": "1-h5LzjwvCQr"
    },
    {
      "cell_type": "markdown",
      "metadata": {
        "id": "BfuIgy9wqnyJ"
      },
      "source": [
        "##### Format: `asciidoc`"
      ],
      "id": "BfuIgy9wqnyJ"
    },
    {
      "cell_type": "code",
      "execution_count": null,
      "metadata": {
        "id": "eA_BwWreqnyJ"
      },
      "outputs": [],
      "source": [
        "# Format: asciidoc\n",
        "print(tabulate(df, headers='keys', tablefmt='asciidoc'))"
      ],
      "id": "eA_BwWreqnyJ"
    },
    {
      "cell_type": "markdown",
      "metadata": {
        "id": "hFY0E4jbqnyJ"
      },
      "source": [
        "##### Format: `double_grid`"
      ],
      "id": "hFY0E4jbqnyJ"
    },
    {
      "cell_type": "code",
      "execution_count": null,
      "metadata": {
        "id": "QGPiJ759qnyK"
      },
      "outputs": [],
      "source": [
        "# Format: double_grid\n",
        "print(tabulate(df, headers='keys', tablefmt='double_grid'))"
      ],
      "id": "QGPiJ759qnyK"
    },
    {
      "cell_type": "markdown",
      "metadata": {
        "id": "IykimBmQqnyK"
      },
      "source": [
        "##### Format: `double_outline`"
      ],
      "id": "IykimBmQqnyK"
    },
    {
      "cell_type": "code",
      "execution_count": null,
      "metadata": {
        "id": "yx10UMpUqnyK"
      },
      "outputs": [],
      "source": [
        "# Format: double_outline\n",
        "print(tabulate(df, headers='keys', tablefmt='double_outline'))"
      ],
      "id": "yx10UMpUqnyK"
    },
    {
      "cell_type": "markdown",
      "metadata": {
        "id": "i9FJ8HjaqnyK"
      },
      "source": [
        "##### Format: `grid`"
      ],
      "id": "i9FJ8HjaqnyK"
    },
    {
      "cell_type": "code",
      "execution_count": null,
      "metadata": {
        "id": "wrOI18RXqnyK"
      },
      "outputs": [],
      "source": [
        "# Format: grid\n",
        "print(tabulate(df, headers='keys', tablefmt='grid'))"
      ],
      "id": "wrOI18RXqnyK"
    },
    {
      "cell_type": "markdown",
      "metadata": {
        "id": "Z3KFinSwqnyK"
      },
      "source": [
        "**Description:** Fully bordered grid with `+`, `-`, and `|` characters. Clear in terminals and good for fixed-width fonts."
      ],
      "id": "Z3KFinSwqnyK"
    },
    {
      "cell_type": "markdown",
      "metadata": {
        "id": "hDx03HqgqnyK"
      },
      "source": [
        "##### Format: `heavy_grid`"
      ],
      "id": "hDx03HqgqnyK"
    },
    {
      "cell_type": "code",
      "execution_count": null,
      "metadata": {
        "id": "aSy0UOSqqnyL"
      },
      "outputs": [],
      "source": [
        "# Format: heavy_grid\n",
        "print(tabulate(df, headers='keys', tablefmt='heavy_grid'))"
      ],
      "id": "aSy0UOSqqnyL"
    },
    {
      "cell_type": "markdown",
      "metadata": {
        "id": "E_1Io8AnqnyL"
      },
      "source": [
        "##### Format: `heavy_outline`"
      ],
      "id": "E_1Io8AnqnyL"
    },
    {
      "cell_type": "code",
      "execution_count": null,
      "metadata": {
        "id": "1XE-5V6mqnyL"
      },
      "outputs": [],
      "source": [
        "# Format: heavy_outline\n",
        "print(tabulate(df, headers='keys', tablefmt='heavy_outline'))"
      ],
      "id": "1XE-5V6mqnyL"
    },
    {
      "cell_type": "markdown",
      "metadata": {
        "id": "YxbCpdKDqnyM"
      },
      "source": [
        "##### Format: `mixed_grid`"
      ],
      "id": "YxbCpdKDqnyM"
    },
    {
      "cell_type": "code",
      "execution_count": null,
      "metadata": {
        "id": "PMRP-bKlqnyM"
      },
      "outputs": [],
      "source": [
        "# Format: mixed_grid\n",
        "print(tabulate(df, headers='keys', tablefmt='mixed_grid'))"
      ],
      "id": "PMRP-bKlqnyM"
    },
    {
      "cell_type": "markdown",
      "metadata": {
        "id": "HTgE9ESOqnyM"
      },
      "source": [
        "##### Format: `mixed_outline`"
      ],
      "id": "HTgE9ESOqnyM"
    },
    {
      "cell_type": "code",
      "execution_count": null,
      "metadata": {
        "id": "SKRdO7brqnyN"
      },
      "outputs": [],
      "source": [
        "# Format: mixed_outline\n",
        "print(tabulate(df, headers='keys', tablefmt='mixed_outline'))"
      ],
      "id": "SKRdO7brqnyN"
    },
    {
      "cell_type": "markdown",
      "metadata": {
        "id": "qXGhnA2lqnyN"
      },
      "source": [
        "##### Format: `outline`"
      ],
      "id": "qXGhnA2lqnyN"
    },
    {
      "cell_type": "code",
      "execution_count": null,
      "metadata": {
        "id": "axkmndwAqnyN"
      },
      "outputs": [],
      "source": [
        "# Format: outline\n",
        "print(tabulate(df, headers='keys', tablefmt='outline'))"
      ],
      "id": "axkmndwAqnyN"
    },
    {
      "cell_type": "markdown",
      "metadata": {
        "id": "SfD4nuivqnyO"
      },
      "source": [
        "##### Format: `rounded_grid`"
      ],
      "id": "SfD4nuivqnyO"
    },
    {
      "cell_type": "code",
      "execution_count": null,
      "metadata": {
        "id": "weq2QijGqnyO"
      },
      "outputs": [],
      "source": [
        "# Format: rounded_grid\n",
        "print(tabulate(df, headers='keys', tablefmt='rounded_grid'))"
      ],
      "id": "weq2QijGqnyO"
    },
    {
      "cell_type": "markdown",
      "metadata": {
        "id": "qj4tGIN6qnyO"
      },
      "source": [
        "##### Format: `rounded_outline`"
      ],
      "id": "qj4tGIN6qnyO"
    },
    {
      "cell_type": "code",
      "execution_count": null,
      "metadata": {
        "id": "DBbiagqfqnyO"
      },
      "outputs": [],
      "source": [
        "# Format: rounded_outline\n",
        "print(tabulate(df, headers='keys', tablefmt='rounded_outline'))"
      ],
      "id": "DBbiagqfqnyO"
    },
    {
      "cell_type": "markdown",
      "metadata": {
        "id": "l20LAJvdqnyO"
      },
      "source": [
        "##### Format: `simple_grid`"
      ],
      "id": "l20LAJvdqnyO"
    },
    {
      "cell_type": "code",
      "execution_count": null,
      "metadata": {
        "id": "LFMc7UjoqnyO"
      },
      "outputs": [],
      "source": [
        "# Format: simple_grid\n",
        "print(tabulate(df, headers='keys', tablefmt='simple_grid'))"
      ],
      "id": "LFMc7UjoqnyO"
    },
    {
      "cell_type": "markdown",
      "metadata": {
        "id": "xw6DA8IaqnyP"
      },
      "source": [
        "##### Format: `simple_outline`"
      ],
      "id": "xw6DA8IaqnyP"
    },
    {
      "cell_type": "code",
      "execution_count": null,
      "metadata": {
        "id": "jAArg9CzqnyP"
      },
      "outputs": [],
      "source": [
        "# Format: simple_outline\n",
        "print(tabulate(df, headers='keys', tablefmt='simple_outline'))"
      ],
      "id": "jAArg9CzqnyP"
    },
    {
      "cell_type": "markdown",
      "metadata": {
        "id": "xAgBSYcjqnyP"
      },
      "source": [
        "##### Format: `textile`"
      ],
      "id": "xAgBSYcjqnyP"
    },
    {
      "cell_type": "code",
      "execution_count": null,
      "metadata": {
        "id": "zHg55zSjqnyP"
      },
      "outputs": [],
      "source": [
        "# Format: textile\n",
        "print(tabulate(df, headers='keys', tablefmt='textile'))"
      ],
      "id": "zHg55zSjqnyP"
    },
    {
      "cell_type": "markdown",
      "source": [
        "####<u>Styles for Different Contexts/Uses</u>    "
      ],
      "metadata": {
        "id": "7ALrIAnOunAA"
      },
      "id": "7ALrIAnOunAA"
    },
    {
      "cell_type": "markdown",
      "metadata": {
        "id": "rhAzxau8qnyN"
      },
      "source": [
        "##### Format: `pretty`"
      ],
      "id": "rhAzxau8qnyN"
    },
    {
      "cell_type": "markdown",
      "metadata": {
        "id": "J6xBZylSqnyN"
      },
      "source": [
        "**Description:** Readable and compact with aligned columns. Balances visual appeal and conciseness."
      ],
      "id": "J6xBZylSqnyN"
    },
    {
      "cell_type": "code",
      "execution_count": null,
      "metadata": {
        "id": "UdWGGnlsqnyO"
      },
      "outputs": [],
      "source": [
        "# Format: pretty\n",
        "print(tabulate(df, headers='keys', tablefmt='pretty'))"
      ],
      "id": "UdWGGnlsqnyO"
    },
    {
      "cell_type": "markdown",
      "source": [
        "####<u>Platform or Document Specific Styles</u>    \n"
      ],
      "metadata": {
        "id": "BaAdkmQksbYR"
      },
      "id": "BaAdkmQksbYR"
    },
    {
      "cell_type": "markdown",
      "metadata": {
        "id": "LmV9YbcfqnyK"
      },
      "source": [
        "##### Format: `fancy_grid`"
      ],
      "id": "LmV9YbcfqnyK"
    },
    {
      "cell_type": "markdown",
      "metadata": {
        "id": "TrIvtAB4qnyK"
      },
      "source": [
        "**Description:** Unicode box-drawing characters for a visually pleasing output in modern terminals. Best for enhanced CLI tools."
      ],
      "id": "TrIvtAB4qnyK"
    },
    {
      "cell_type": "code",
      "execution_count": null,
      "metadata": {
        "id": "SgeSqc79qnyK"
      },
      "outputs": [],
      "source": [
        "# Format: fancy_grid\n",
        "print(tabulate(df, headers='keys', tablefmt='fancy_grid'))"
      ],
      "id": "SgeSqc79qnyK"
    },
    {
      "cell_type": "markdown",
      "metadata": {
        "id": "Gn7jpS_FqnyK"
      },
      "source": [
        "##### Format: `fancy_outline`"
      ],
      "id": "Gn7jpS_FqnyK"
    },
    {
      "cell_type": "code",
      "execution_count": null,
      "metadata": {
        "id": "sthkK0FPqnyK"
      },
      "outputs": [],
      "source": [
        "# Format: fancy_outline\n",
        "print(tabulate(df, headers='keys', tablefmt='fancy_outline'))"
      ],
      "id": "sthkK0FPqnyK"
    },
    {
      "cell_type": "markdown",
      "metadata": {
        "id": "718lJ42cqnyK"
      },
      "source": [
        "##### Format: `github`"
      ],
      "id": "718lJ42cqnyK"
    },
    {
      "cell_type": "markdown",
      "metadata": {
        "id": "RnhyxKt8qnyK"
      },
      "source": [
        "**Description:** Markdown-style format compatible with GitHub README files. Ideal for documentation in repositories."
      ],
      "id": "RnhyxKt8qnyK"
    },
    {
      "cell_type": "code",
      "execution_count": null,
      "metadata": {
        "id": "1RT3SzJJqnyK"
      },
      "outputs": [],
      "source": [
        "# Format: github\n",
        "print(tabulate(df, headers='keys', tablefmt='github'))"
      ],
      "id": "1RT3SzJJqnyK"
    },
    {
      "cell_type": "markdown",
      "metadata": {
        "id": "rDxEwIpJqnyL"
      },
      "source": [
        "##### Format: `html`"
      ],
      "id": "rDxEwIpJqnyL"
    },
    {
      "cell_type": "markdown",
      "metadata": {
        "id": "4mdxWCC_qnyL"
      },
      "source": [
        "**Description:** Generates HTML `<table>` output. Suitable for embedding in web pages."
      ],
      "id": "4mdxWCC_qnyL"
    },
    {
      "cell_type": "code",
      "execution_count": null,
      "metadata": {
        "id": "_6J3tcCwqnyL"
      },
      "outputs": [],
      "source": [
        "# Format: html\n",
        "print(tabulate(df, headers='keys', tablefmt='html'))"
      ],
      "id": "_6J3tcCwqnyL"
    },
    {
      "cell_type": "markdown",
      "metadata": {
        "id": "rN9NoKuRqnyL"
      },
      "source": [
        "##### Format: `jira`"
      ],
      "id": "rN9NoKuRqnyL"
    },
    {
      "cell_type": "markdown",
      "metadata": {
        "id": "nregh7xwqnyL"
      },
      "source": [
        "**Description:** Jira markup syntax. Useful when pasting tables into Jira tickets or wiki pages."
      ],
      "id": "nregh7xwqnyL"
    },
    {
      "cell_type": "code",
      "execution_count": null,
      "metadata": {
        "id": "CtXl9TpOqnyL"
      },
      "outputs": [],
      "source": [
        "# Format: jira\n",
        "print(tabulate(df, headers='keys', tablefmt='jira'))"
      ],
      "id": "CtXl9TpOqnyL"
    },
    {
      "cell_type": "markdown",
      "metadata": {
        "id": "DqLpmEgJqnyL"
      },
      "source": [
        "##### Format: `latex`"
      ],
      "id": "DqLpmEgJqnyL"
    },
    {
      "cell_type": "markdown",
      "metadata": {
        "id": "s7RWswA7qnyM"
      },
      "source": [
        "**Description:** Standard LaTeX tabular environment. Good for academic papers or PDFs."
      ],
      "id": "s7RWswA7qnyM"
    },
    {
      "cell_type": "code",
      "execution_count": null,
      "metadata": {
        "id": "ZPwYYc9dqnyM"
      },
      "outputs": [],
      "source": [
        "# Format: latex\n",
        "print(tabulate(df, headers='keys', tablefmt='latex'))"
      ],
      "id": "ZPwYYc9dqnyM"
    },
    {
      "cell_type": "markdown",
      "metadata": {
        "id": "fyym-FwnqnyM"
      },
      "source": [
        "##### Format: `latex_booktabs`"
      ],
      "id": "fyym-FwnqnyM"
    },
    {
      "cell_type": "markdown",
      "metadata": {
        "id": "10LeWpvhqnyM"
      },
      "source": [
        "**Description:** Uses LaTeX booktabs style with professional typography. Excellent for polished academic output."
      ],
      "id": "10LeWpvhqnyM"
    },
    {
      "cell_type": "code",
      "execution_count": null,
      "metadata": {
        "id": "lcvHAOVCqnyM"
      },
      "outputs": [],
      "source": [
        "# Format: latex_booktabs\n",
        "print(tabulate(df, headers='keys', tablefmt='latex_booktabs'))"
      ],
      "id": "lcvHAOVCqnyM"
    },
    {
      "cell_type": "markdown",
      "metadata": {
        "id": "vk3HuRfNqnyM"
      },
      "source": [
        "##### Format: `latex_longtable`"
      ],
      "id": "vk3HuRfNqnyM"
    },
    {
      "cell_type": "markdown",
      "metadata": {
        "id": "57g1vYOsqnyM"
      },
      "source": [
        "**Description:** LaTeX format for multipage tables. Ideal when printing large datasets."
      ],
      "id": "57g1vYOsqnyM"
    },
    {
      "cell_type": "code",
      "execution_count": null,
      "metadata": {
        "id": "OG7t77CLqnyM"
      },
      "outputs": [],
      "source": [
        "# Format: latex_longtable\n",
        "print(tabulate(df, headers='keys', tablefmt='latex_longtable'))"
      ],
      "id": "OG7t77CLqnyM"
    },
    {
      "cell_type": "markdown",
      "metadata": {
        "id": "HLT9EGEzqnyM"
      },
      "source": [
        "##### Format: `latex_raw`"
      ],
      "id": "HLT9EGEzqnyM"
    },
    {
      "cell_type": "markdown",
      "metadata": {
        "id": "uayyjC7KqnyM"
      },
      "source": [
        "**Description:** Raw LaTeX without formatting. For custom LaTeX environments."
      ],
      "id": "uayyjC7KqnyM"
    },
    {
      "cell_type": "code",
      "execution_count": null,
      "metadata": {
        "id": "IYEMHOJSqnyM"
      },
      "outputs": [],
      "source": [
        "# Format: latex_raw\n",
        "print(tabulate(df, headers='keys', tablefmt='latex_raw'))"
      ],
      "id": "IYEMHOJSqnyM"
    },
    {
      "cell_type": "markdown",
      "metadata": {
        "id": "tZrciU0JqnyM"
      },
      "source": [
        "##### Format: `mediawiki`"
      ],
      "id": "tZrciU0JqnyM"
    },
    {
      "cell_type": "markdown",
      "metadata": {
        "id": "-DUV55JTqnyM"
      },
      "source": [
        "**Description:** MediaWiki table format. Use for publishing to wikis like Wikipedia."
      ],
      "id": "-DUV55JTqnyM"
    },
    {
      "cell_type": "code",
      "execution_count": null,
      "metadata": {
        "id": "noKO8JwVqnyM"
      },
      "outputs": [],
      "source": [
        "# Format: mediawiki\n",
        "print(tabulate(df, headers='keys', tablefmt='mediawiki'))"
      ],
      "id": "noKO8JwVqnyM"
    },
    {
      "cell_type": "markdown",
      "metadata": {
        "id": "cw3NHgP8qnyN"
      },
      "source": [
        "##### Format: `moinmoin`"
      ],
      "id": "cw3NHgP8qnyN"
    },
    {
      "cell_type": "markdown",
      "metadata": {
        "id": "Hmsq-nOuqnyN"
      },
      "source": [
        "**Description:** MoinMoin wiki syntax. Useful in legacy documentation systems."
      ],
      "id": "Hmsq-nOuqnyN"
    },
    {
      "cell_type": "code",
      "execution_count": null,
      "metadata": {
        "id": "8X5fEdNwqnyN"
      },
      "outputs": [],
      "source": [
        "# Format: moinmoin\n",
        "print(tabulate(df, headers='keys', tablefmt='moinmoin'))"
      ],
      "id": "8X5fEdNwqnyN"
    },
    {
      "cell_type": "markdown",
      "metadata": {
        "id": "lrN8vAslqnyN"
      },
      "source": [
        "##### Format: `orgtbl`"
      ],
      "id": "lrN8vAslqnyN"
    },
    {
      "cell_type": "markdown",
      "metadata": {
        "id": "Rnv1vC3vqnyN"
      },
      "source": [
        "**Description:** Emacs org-mode table style. Suitable if you're generating tables for Emacs users."
      ],
      "id": "Rnv1vC3vqnyN"
    },
    {
      "cell_type": "code",
      "execution_count": null,
      "metadata": {
        "id": "lCf3uhTfqnyN"
      },
      "outputs": [],
      "source": [
        "# Format: orgtbl\n",
        "print(tabulate(df, headers='keys', tablefmt='orgtbl'))"
      ],
      "id": "lCf3uhTfqnyN"
    },
    {
      "cell_type": "markdown",
      "metadata": {
        "id": "dkh1WWsfqnyN"
      },
      "source": [
        "##### Format: `pipe`"
      ],
      "id": "dkh1WWsfqnyN"
    },
    {
      "cell_type": "markdown",
      "metadata": {
        "id": "VegRNjxKqnyN"
      },
      "source": [
        "**Description:** Another Markdown-style format using `|` pipes. Works well in Markdown files."
      ],
      "id": "VegRNjxKqnyN"
    },
    {
      "cell_type": "code",
      "execution_count": null,
      "metadata": {
        "id": "zl_B4R_8qnyN"
      },
      "outputs": [],
      "source": [
        "# Format: pipe\n",
        "print(tabulate(df, headers='keys', tablefmt='pipe'))"
      ],
      "id": "zl_B4R_8qnyN"
    },
    {
      "cell_type": "markdown",
      "metadata": {
        "id": "QLWzfOMAqnyN"
      },
      "source": [
        "##### Format: `plain`"
      ],
      "id": "QLWzfOMAqnyN"
    },
    {
      "cell_type": "markdown",
      "metadata": {
        "id": "HhPov8esqnyN"
      },
      "source": [
        "**Description:** Minimalist format with no borders or headers. Useful for exporting raw data to logs or simple text files."
      ],
      "id": "HhPov8esqnyN"
    },
    {
      "cell_type": "code",
      "execution_count": null,
      "metadata": {
        "id": "hq7AU-cTqnyN"
      },
      "outputs": [],
      "source": [
        "# Format: plain\n",
        "print(tabulate(df, headers='keys', tablefmt='plain'))"
      ],
      "id": "hq7AU-cTqnyN"
    },
    {
      "cell_type": "markdown",
      "metadata": {
        "id": "obiGHWBcqnyO"
      },
      "source": [
        "##### Format: `psql`"
      ],
      "id": "obiGHWBcqnyO"
    },
    {
      "cell_type": "markdown",
      "metadata": {
        "id": "gDkYGOCRqnyO"
      },
      "source": [
        "**Description:** PostgreSQL-style output. Familiar to those who use SQL and want structured terminal output."
      ],
      "id": "gDkYGOCRqnyO"
    },
    {
      "cell_type": "code",
      "execution_count": null,
      "metadata": {
        "id": "fXMmJlIaqnyO"
      },
      "outputs": [],
      "source": [
        "# Format: psql\n",
        "print(tabulate(df, headers='keys', tablefmt='psql'))"
      ],
      "id": "fXMmJlIaqnyO"
    },
    {
      "cell_type": "markdown",
      "metadata": {
        "id": "CD_QQPTXqnyN"
      },
      "source": [
        "##### Format: `presto`"
      ],
      "id": "CD_QQPTXqnyN"
    },
    {
      "cell_type": "markdown",
      "metadata": {
        "id": "3SmNYZEKqnyN"
      },
      "source": [
        "**Description:** Similar to psql but tailored for Presto/Trino CLI output. Great for database logs."
      ],
      "id": "3SmNYZEKqnyN"
    },
    {
      "cell_type": "code",
      "execution_count": null,
      "metadata": {
        "id": "9FcF22PhqnyN"
      },
      "outputs": [],
      "source": [
        "# Format: presto\n",
        "print(tabulate(df, headers='keys', tablefmt='presto'))"
      ],
      "id": "9FcF22PhqnyN"
    },
    {
      "cell_type": "markdown",
      "metadata": {
        "id": "mCPndEEcqnyO"
      },
      "source": [
        "##### Format: `rst`"
      ],
      "id": "mCPndEEcqnyO"
    },
    {
      "cell_type": "markdown",
      "metadata": {
        "id": "k6UqF_S-qnyO"
      },
      "source": [
        "**Description:** reStructuredText format for Sphinx documentation. Ideal for Python project docs."
      ],
      "id": "k6UqF_S-qnyO"
    },
    {
      "cell_type": "code",
      "execution_count": null,
      "metadata": {
        "id": "fy5WoDa2qnyO"
      },
      "outputs": [],
      "source": [
        "# Format: rst\n",
        "print(tabulate(df, headers='keys', tablefmt='rst'))"
      ],
      "id": "fy5WoDa2qnyO"
    },
    {
      "cell_type": "markdown",
      "metadata": {
        "id": "7J87CdNCqnyO"
      },
      "source": [
        "##### Format: `simple`"
      ],
      "id": "7J87CdNCqnyO"
    },
    {
      "cell_type": "markdown",
      "metadata": {
        "id": "_a_ZO2AIqnyO"
      },
      "source": [
        "**Description:** Compact and readable with minimal horizontal lines. Good for quick CLI output."
      ],
      "id": "_a_ZO2AIqnyO"
    },
    {
      "cell_type": "code",
      "execution_count": null,
      "metadata": {
        "id": "s78DHy3iqnyO"
      },
      "outputs": [],
      "source": [
        "# Format: simple\n",
        "print(tabulate(df, headers='keys', tablefmt='simple'))"
      ],
      "id": "s78DHy3iqnyO"
    },
    {
      "cell_type": "markdown",
      "metadata": {
        "id": "czCAXvFzqnyP"
      },
      "source": [
        "##### Format: `tsv`"
      ],
      "id": "czCAXvFzqnyP"
    },
    {
      "cell_type": "markdown",
      "metadata": {
        "id": "GurKCnCKqnyP"
      },
      "source": [
        "**Description:** Tab-separated values. Useful for exporting data to TSV files or copy-paste to Excel."
      ],
      "id": "GurKCnCKqnyP"
    },
    {
      "cell_type": "code",
      "execution_count": null,
      "metadata": {
        "id": "mskE3LpqqnyP"
      },
      "outputs": [],
      "source": [
        "# Format: tsv\n",
        "print(tabulate(df, headers='keys', tablefmt='tsv'))"
      ],
      "id": "mskE3LpqqnyP"
    },
    {
      "cell_type": "markdown",
      "metadata": {
        "id": "UaTqZzzrqnyP"
      },
      "source": [
        "##### Format: `unsafehtml`"
      ],
      "id": "UaTqZzzrqnyP"
    },
    {
      "cell_type": "markdown",
      "metadata": {
        "id": "TBwHbgxxqnyP"
      },
      "source": [
        "**Description:** HTML output with no escaping — only use if you're sure the input is safe."
      ],
      "id": "TBwHbgxxqnyP"
    },
    {
      "cell_type": "code",
      "execution_count": null,
      "metadata": {
        "id": "dgS-9h2FqnyP"
      },
      "outputs": [],
      "source": [
        "# Format: unsafehtml\n",
        "print(tabulate(df, headers='keys', tablefmt='unsafehtml'))"
      ],
      "id": "dgS-9h2FqnyP"
    },
    {
      "cell_type": "markdown",
      "metadata": {
        "id": "jj93PVezqnyP"
      },
      "source": [
        "##### Format: `youtrack`"
      ],
      "id": "jj93PVezqnyP"
    },
    {
      "cell_type": "markdown",
      "metadata": {
        "id": "62O1slfjqnyP"
      },
      "source": [
        "**Description:** YouTrack wiki-compatible syntax. Designed for JetBrains YouTrack users."
      ],
      "id": "62O1slfjqnyP"
    },
    {
      "cell_type": "code",
      "execution_count": null,
      "metadata": {
        "id": "4XmlW3feqnyP"
      },
      "outputs": [],
      "source": [
        "# Format: youtrack\n",
        "print(tabulate(df, headers='keys', tablefmt='youtrack'))"
      ],
      "id": "4XmlW3feqnyP"
    },
    {
      "cell_type": "markdown",
      "source": [
        "\n",
        "\n",
        "---\n",
        "\n"
      ],
      "metadata": {
        "id": "kwGGbfT-shs_"
      },
      "id": "kwGGbfT-shs_"
    },
    {
      "cell_type": "markdown",
      "source": [
        "<i>Note: the `tabulate` library does not provide arguments to select or reorder columns directly. It simply formats the data it is given. However, you can control selection and order by modifying the DataFrame before passing it to tabulate."
      ],
      "metadata": {
        "id": "XdNBIR_kxBAK"
      },
      "id": "XdNBIR_kxBAK"
    },
    {
      "cell_type": "code",
      "source": [
        "import pandas as pd\n",
        "from tabulate import tabulate\n",
        "\n",
        "\n",
        "df = pd.DataFrame({\n",
        "    'Name': ['Alice', 'Bob', 'Ted', 'Carol'],\n",
        "    'Age': [25, 30, 22, 28],\n",
        "    'Office' : ['Milwaukee', 'Duluth', 'Duluth', 'Chicago'],\n",
        "    'Department': ['HR', 'Engineering', 'Finance', 'Marketing']\n",
        "})\n",
        "\n",
        "# Select and reorder columns\n",
        "selected_columns = ['Department', 'Name']\n",
        "df_selected = df[selected_columns]\n",
        "\n",
        "# Format with tabulate\n",
        "print(tabulate(df_selected, headers='keys', tablefmt='psql'))"
      ],
      "metadata": {
        "id": "fe1jrvm3xIKm"
      },
      "id": "fe1jrvm3xIKm",
      "execution_count": null,
      "outputs": []
    },
    {
      "cell_type": "markdown",
      "source": [
        "#### Arguments for `tabulate()`\n",
        "\n",
        "The `tabulate()` function supports various arguments to control formatting and display behavior. Below is a summary of commonly used arguments.\n",
        "\n",
        "##### 🔹 Commonly Used Arguments\n",
        "\n",
        "| Argument             | Type                        | Description |\n",
        "|----------------------|-----------------------------|-------------|\n",
        "| `tabular_data`       | list of lists, dict, DataFrame, etc. | The data structure to format into a table |\n",
        "| `headers`            | `'keys'`, list, dict, or string | Column headers; `'keys'` uses dict keys or DataFrame columns |\n",
        "| `tablefmt`           | string                      | Table format style (e.g., `'grid'`, `'pipe'`, `'psql'`) |\n",
        "| `numalign`           | `'right'`, `'left'`, `'center'` | Align numeric columns |\n",
        "| `stralign`           | `'right'`, `'left'`, `'center'` | Align text columns |\n",
        "| `floatfmt`           | string or list              | Format for floating-point numbers (e.g., `\".2f\"`) |\n",
        "| `missingval`         | string                      | Replacement for missing values (`None`, `NaN`, etc.) |\n",
        "| `showindex`          | bool, `'always'`, `'default'`, list | Whether to display row indices |\n",
        "| `disable_numparse`   | bool                        | Prevents automatic detection of numeric types |\n",
        "\n",
        "##### 🔹 Less Common / Advanced Arguments\n",
        "\n",
        "| Argument                   | Type      | Description |\n",
        "|----------------------------|-----------|-------------|\n",
        "| `colalign`                 | list      | Alignment per column (overrides `stralign`/`numalign`) |\n",
        "| `maxcolwidths`             | int or list | Maximum column width for truncating content |\n",
        "| `colwidths`                | list      | Fixed column widths (pads shorter strings) |\n",
        "| `maxheadercolwidths`       | int or list | Truncate header column widths only |\n",
        "\n",
        "---\n",
        "\n",
        "##### 📌 Notes\n",
        "- You can use `help(tabulate)` to view documentation interactively.\n",
        "- The output formatting depends on the chosen `tablefmt`. Try styles like `'fancy_grid'`, `'github'`, or `'psql'` to see different effects.\n"
      ],
      "metadata": {
        "id": "ZRDMKoxXxhv6"
      },
      "id": "ZRDMKoxXxhv6"
    },
    {
      "cell_type": "code",
      "source": [
        "from tabulate import tabulate\n",
        "import pandas as pd\n",
        "\n",
        "df = pd.DataFrame({\n",
        "    'Name': ['Alice', 'Bob', 'Ted', 'Carol'],\n",
        "    'Age': [25, 30, 22, 28],\n",
        "    'Office' : ['Milwaukee', 'Duluth', 'Duluth', 'Chicago'],\n",
        "    'Department': ['HR', 'Engineering', 'Finance', 'Marketing'],\n",
        "    'Salary': [70000.1234, 80000.5678, 125500.1255, 1470100.8917]\n",
        "})\n",
        "\n",
        "\n",
        "print(tabulate(df, headers='keys', tablefmt='grid', floatfmt=\",.2f\", numalign=\"right\"))"
      ],
      "metadata": {
        "id": "CPp5uwcoxiwm"
      },
      "id": "CPp5uwcoxiwm",
      "execution_count": null,
      "outputs": []
    },
    {
      "cell_type": "markdown",
      "source": [
        "<i>... to process `float` content as currency, transform the column in the DataFrame to a string in `currency` format.</i>  "
      ],
      "metadata": {
        "id": "G7pF1aKQzWKT"
      },
      "id": "G7pF1aKQzWKT"
    },
    {
      "cell_type": "code",
      "source": [
        "from tabulate import tabulate\n",
        "import pandas as pd\n",
        "\n",
        "df = pd.DataFrame({\n",
        "    'Name': ['Alice', 'Bob', 'Ted', 'Carol'],\n",
        "    'Age': [25, 30, 22, 28],\n",
        "    'Office' : ['Milwaukee', 'Duluth', 'Duluth', 'Chicago'],\n",
        "    'Department': ['HR', 'Engineering', 'Finance', 'Marketing'],\n",
        "    'Salary': [70000.1234, 80000.5678, 125500.1255, 1470100.8917]\n",
        "})\n",
        "\n",
        "# Format the 'Salary' column as strings with currency format\n",
        "df['Salary'] = df['Salary'].apply(lambda x: f\"${x:,.2f}\")\n",
        "\n",
        "# Use tabulate (no floatfmt needed, since values are now strings)\n",
        "print(tabulate(df, headers='keys', tablefmt='grid'))"
      ],
      "metadata": {
        "id": "a42ZGIcgzhOj"
      },
      "id": "a42ZGIcgzhOj",
      "execution_count": null,
      "outputs": []
    },
    {
      "cell_type": "markdown",
      "metadata": {
        "id": "psVTcxYjqnyP"
      },
      "source": [
        "### When to Use or Avoid `tabulate`\n",
        "\n",
        "**Use when:**\n",
        "- You need readable terminal output\n",
        "- You're logging data summaries\n",
        "- You're working in plain-text reports or markdown\n",
        "\n",
        "**Avoid when:**\n",
        "- You need interactive or rich HTML (use `display()` in Jupyter)\n",
        "- You're working with very wide DataFrames\n",
        "- You require interactivity like sorting/filtering"
      ],
      "id": "psVTcxYjqnyP"
    },
    {
      "cell_type": "markdown",
      "source": [
        "\n",
        "\n",
        "---\n",
        "\n"
      ],
      "metadata": {
        "id": "OWcit4pkspBN"
      },
      "id": "OWcit4pkspBN"
    },
    {
      "cell_type": "markdown",
      "metadata": {
        "id": "J32-phgu11Yx"
      },
      "source": [
        "## Using IPython `display()` for Pretty Output of pandas DataFrames\n",
        "\n",
        "This notebook explains how to use IPython’s `display()` function to produce rich, well-formatted visual outputs of pandas DataFrames in Jupyter and Colab environments.\n",
        "\n"
      ],
      "id": "J32-phgu11Yx"
    },
    {
      "cell_type": "markdown",
      "metadata": {
        "id": "MB2JHrkl11Yy"
      },
      "source": [
        "### Introduction\n",
        "\n",
        "The `display()` function from `IPython.display` is commonly used in Jupyter notebooks and Google Colab to show DataFrames with rich formatting. Unlike plain `print()`, `display()` uses HTML rendering behind the scenes to create readable, scrollable, and styled tables when viewed in notebook interfaces."
      ],
      "id": "MB2JHrkl11Yy"
    },
    {
      "cell_type": "code",
      "execution_count": null,
      "metadata": {
        "id": "uVdglY4111Yy"
      },
      "outputs": [],
      "source": [
        "# Import necessary modules\n",
        "import pandas as pd\n",
        "from IPython.display import display"
      ],
      "id": "uVdglY4111Yy"
    },
    {
      "cell_type": "markdown",
      "metadata": {
        "id": "2qz-KAZp11Yz"
      },
      "source": [
        "### Basic Usage of `display()`\n",
        "\n",
        "Here's how to create a sample DataFrame and render it using `display()`."
      ],
      "id": "2qz-KAZp11Yz"
    },
    {
      "cell_type": "code",
      "execution_count": null,
      "metadata": {
        "id": "FgqLCh8T11Yz"
      },
      "outputs": [],
      "source": [
        "# Import necessary modules\n",
        "import pandas as pd\n",
        "from IPython.display import display\n",
        "\n",
        "# Create sample DataFrame\n",
        "df = pd.DataFrame({\n",
        "    'Product': ['Laptop', 'Monitor', 'Keyboard'],\n",
        "    'Price': [1200.00, 300.00, 50.00],\n",
        "    'Stock': [15, 34, 120]\n",
        "})\n",
        "\n",
        "# Use display instead of print\n",
        "display(df)"
      ],
      "id": "FgqLCh8T11Yz"
    },
    {
      "cell_type": "markdown",
      "metadata": {
        "id": "5Do-jWLo11Yz"
      },
      "source": [
        "You can also use `display()` multiple times in a cell to show multiple DataFrames without printing them as plain text."
      ],
      "id": "5Do-jWLo11Yz"
    },
    {
      "cell_type": "code",
      "execution_count": null,
      "metadata": {
        "id": "oyXNEcC311Yz"
      },
      "outputs": [],
      "source": [
        "# Create additional DataFrames\n",
        "df1 = df[df['Price'] > 100]\n",
        "df2 = df[df['Stock'] > 50]\n",
        "\n",
        "# Display both DataFrames separately\n",
        "display(df1)\n",
        "display(df2)"
      ],
      "id": "oyXNEcC311Yz"
    },
    {
      "cell_type": "markdown",
      "source": [
        "#### Summary: Capabilities of `display()` vs `pandas` for Column Control\n",
        "\n",
        "| Task                   | Supported by `display()`? | Use `pandas` instead |\n",
        "|------------------------|---------------------------|----------------------|\n",
        "| Display formatted table | ✅ Yes                    |                      |\n",
        "| Select specific columns | ❌ No                     | ✅ Yes                |\n",
        "| Reorder columns         | ❌ No                     | ✅ Yes                |\n",
        "| Rename columns          | ❌ No                     | ✅ Yes (`df.rename`)  |\n"
      ],
      "metadata": {
        "id": "3sm6CBtG2l7h"
      },
      "id": "3sm6CBtG2l7h"
    },
    {
      "cell_type": "markdown",
      "metadata": {
        "id": "-GwvByUn11Yz"
      },
      "source": [
        "### When to Use or Avoid `display()`\n",
        "\n",
        "**Use `display()` when:**\n",
        "- Working in Jupyter or Colab where rich HTML output is supported\n",
        "- Displaying multiple outputs in the same cell\n",
        "- You want readable, scrollable, styled DataFrames\n",
        "- Creating instructional content, tutorials, or reports with rendered output\n",
        "\n",
        "**Avoid or don't rely on `display()` when:**\n",
        "- Running scripts from the terminal or environments without HTML rendering\n",
        "- Exporting plain text outputs to logs or command-line interfaces\n",
        "- Needing cross-platform, consistent output in terminals (use `tabulate()` instead)\n",
        "\n",
        "`display()` is ideal for notebooks but not for non-interactive use cases or where formatting must be preserved in plain text."
      ],
      "id": "-GwvByUn11Yz"
    },
    {
      "cell_type": "markdown",
      "source": [
        "\n",
        "\n",
        "---\n",
        "\n"
      ],
      "metadata": {
        "id": "IOLBFQ2d2KD8"
      },
      "id": "IOLBFQ2d2KD8"
    }
  ],
  "metadata": {
    "kernelspec": {
      "display_name": "Python 3",
      "language": "python",
      "name": "python3"
    },
    "language_info": {
      "name": "python",
      "version": "3.10"
    },
    "colab": {
      "provenance": [],
      "collapsed_sections": [
        "i9FJ8HjaqnyK"
      ],
      "include_colab_link": true
    }
  },
  "nbformat": 4,
  "nbformat_minor": 5
}
