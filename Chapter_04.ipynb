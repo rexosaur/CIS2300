{
  "nbformat": 4,
  "nbformat_minor": 0,
  "metadata": {
    "colab": {
      "provenance": [],
      "include_colab_link": true
    },
    "kernelspec": {
      "name": "python3",
      "display_name": "Python 3"
    },
    "language_info": {
      "name": "python"
    }
  },
  "cells": [
    {
      "cell_type": "markdown",
      "metadata": {
        "id": "view-in-github",
        "colab_type": "text"
      },
      "source": [
        "<a href=\"https://colab.research.google.com/github/ProfessorPatrickSlatraigh/CIS2300/blob/main/CIS2300_BTRA_Spr2025_Chapter_04_13_Feb_2025.ipynb\" target=\"_parent\"><img src=\"https://colab.research.google.com/assets/colab-badge.svg\" alt=\"Open In Colab\"/></a>"
      ]
    },
    {
      "cell_type": "markdown",
      "source": [
        "# **CST2300: Chapter 04 - Conditional Execution**"
      ],
      "metadata": {
        "id": "20K1shWcuLx7"
      }
    },
    {
      "cell_type": "markdown",
      "metadata": {
        "id": "fj3lPXhb1kPD"
      },
      "source": [
        "**Examples** from:\n",
        "# Chapter 4 (Conditional Execution)\n",
        "*of Python For Everybody (py4e.com/lessons) as offered on Runestone.academy*  \n",
        "  \n",
        "*updated: Feb-2025 by Professor Patrick*\n",
        "\n"
      ]
    },
    {
      "cell_type": "markdown",
      "source": [
        "##4.1 Boolean Expressions\n"
      ],
      "metadata": {
        "id": "uWAxOiS21aAG"
      }
    },
    {
      "cell_type": "markdown",
      "source": [
        "A boolean expression is an expression that is either true or false. The following examples use the operator ==, which compares two operands and produces True if they are equal and False otherwise:"
      ],
      "metadata": {
        "id": "hRJ6KHAe1gOm"
      }
    },
    {
      "cell_type": "code",
      "source": [
        "x = 5"
      ],
      "metadata": {
        "id": "JH6FtG6iCaUm"
      },
      "execution_count": null,
      "outputs": []
    },
    {
      "cell_type": "code",
      "source": [
        "x"
      ],
      "metadata": {
        "id": "T1k0Rr3KCcKU"
      },
      "execution_count": null,
      "outputs": []
    },
    {
      "cell_type": "code",
      "source": [
        "y = 5"
      ],
      "metadata": {
        "id": "YB1u02e63Fkw"
      },
      "execution_count": null,
      "outputs": []
    },
    {
      "cell_type": "code",
      "source": [
        "x is y"
      ],
      "metadata": {
        "id": "u0u3cr-LCdW9"
      },
      "execution_count": null,
      "outputs": []
    },
    {
      "cell_type": "code",
      "source": [
        "5 == 5"
      ],
      "metadata": {
        "id": "FnKNxsPR0lnO"
      },
      "execution_count": null,
      "outputs": []
    },
    {
      "cell_type": "code",
      "source": [
        "(7 == 7 ) or (5 == 6)"
      ],
      "metadata": {
        "id": "0IilOP9H1oOf"
      },
      "execution_count": null,
      "outputs": []
    },
    {
      "cell_type": "markdown",
      "source": [
        "True and False are special values that belong to the class bool; they are not strings:"
      ],
      "metadata": {
        "id": "BCk9ebKr1pb0"
      }
    },
    {
      "cell_type": "code",
      "source": [
        "type(True)\n",
        "\n",
        "type(False)\n"
      ],
      "metadata": {
        "id": "-HumRDYT1vyZ"
      },
      "execution_count": null,
      "outputs": []
    },
    {
      "cell_type": "markdown",
      "source": [
        "The == operator is one of the comparison operators; the others are:\n",
        "\n",
        "      x != y               # x is not equal to y\n",
        "      x > y                # x is greater than y\n",
        "      x < y                # x is less than y\n",
        "      x >= y               # x is greater than or equal to y\n",
        "      x <= y               # x is less than or equal to y\n",
        "      x is y               # x is the same as y\n",
        "      x is not y           # x is not the same as y"
      ],
      "metadata": {
        "id": "-n40Clcn14FZ"
      }
    },
    {
      "cell_type": "markdown",
      "source": [
        "Although these operations are probably familiar to you, the Python symbols are different from the mathematical symbols for the same operations. A common error is to use a single equal sign (=) instead of a double equal sign (==). Remember that = is an assignment operator and == is a comparison operator. There is no such thing as =< or =>."
      ],
      "metadata": {
        "id": "MqVwlQ392EY0"
      }
    },
    {
      "cell_type": "markdown",
      "source": [
        "##4.2 Logical Operators\n"
      ],
      "metadata": {
        "id": "haQpRUAd2HoU"
      }
    },
    {
      "cell_type": "markdown",
      "source": [
        "There are three logical operators: **and**, **or**, and **not**. The semantics (meaning) of these operators is similar to their meaning in English. For example,\n",
        "\n",
        "`x > 0 and x < 10`\n",
        "\n",
        "is true only if x is greater than 0 and less than 10.\n",
        "\n",
        "`n%2 == 0 or n%3 == 0` is true if either of the conditions is true, that is, if the number is divisible by 2 or 3.\n",
        "\n",
        "Finally, the not operator negates a boolean expression, so not `(x > y)` is true if `x > y` is false; that is, if x is less than or equal to y.\n",
        "\n",
        "Strictly speaking, the operands of the logical operators should be boolean expressions, but Python is not very strict. Any nonzero number is interpreted as \"true.\""
      ],
      "metadata": {
        "id": "SPWpjAlt2NiA"
      }
    },
    {
      "cell_type": "code",
      "source": [
        "17 and True"
      ],
      "metadata": {
        "id": "_e70BigQ2cNi"
      },
      "execution_count": null,
      "outputs": []
    },
    {
      "cell_type": "markdown",
      "source": [
        "This flexibility can be useful, but there are some subtleties to it that might be confusing. You might want to avoid it until you are sure you know what you are doing."
      ],
      "metadata": {
        "id": "Ji2gg3c62dlc"
      }
    },
    {
      "cell_type": "markdown",
      "source": [
        "##4.3 Conditional Execution  \n"
      ],
      "metadata": {
        "id": "klLs6sMt2iTS"
      }
    },
    {
      "cell_type": "code",
      "source": [
        "x = -3"
      ],
      "metadata": {
        "id": "115fXaJsEyAW"
      },
      "execution_count": null,
      "outputs": []
    },
    {
      "cell_type": "code",
      "source": [
        "x > 0"
      ],
      "metadata": {
        "id": "zWb7crjJEsI4"
      },
      "execution_count": null,
      "outputs": []
    },
    {
      "cell_type": "code",
      "source": [
        "if x > 0 :\n",
        "    print('x is positive')\n",
        "else:\n",
        "      print(\"wait, that's not positive...\")\n",
        "      print('x is negative')"
      ],
      "metadata": {
        "id": "MJ1xj8KHEq_G"
      },
      "execution_count": null,
      "outputs": []
    },
    {
      "cell_type": "markdown",
      "source": [
        "In order to write useful programs, we almost always need the ability to check conditions and change the behavior of the program accordingly. Conditional statements give us this ability. The simplest form is the if statement:\n",
        "\n",
        "\n",
        "```\n",
        "if x > 0 :\n",
        "    print('x is positive')\n",
        "```\n",
        "\n",
        "The boolean expression after the if statement is called the condition. We end the if statement with a colon character (:) and the line(s) after the if statement are indented."
      ],
      "metadata": {
        "id": "t0nqCPTwDAKK"
      }
    },
    {
      "cell_type": "markdown",
      "source": [
        "![Severance_conditionals-01.png](data:image/png;base64,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)"
      ],
      "metadata": {
        "id": "EJl8TyguDKzf"
      }
    },
    {
      "cell_type": "markdown",
      "source": [
        "If Logic\n",
        "\n",
        "If the logical condition is true, then the indented statement gets executed. If the logical condition is false, the indented statement is skipped.\n",
        "\n",
        "if statements have the same structure as function definitions or for loops1. The statement consists of a header line that ends with the colon character (:) followed by an indented block. Statements like this are called compound statements because they stretch across more than one line.\n",
        "\n",
        "There is no limit on the number of statements that can appear in the body, but there must be at least one. Occasionally, it is useful to have a body with no statements (usually as a place holder for code you haven't written yet). In that case, you can use the pass statement, which does nothing.\n",
        "\n",
        "```\n",
        "if x < 0 :\n",
        "    pass          # need to handle negative values!\n",
        "```\n",
        "\n",
        "\n",
        "If you enter an if statement in the Python interpreter, the prompt will change from three chevrons to three dots to indicate you are in the middle of a block of statements, as shown below:\n"
      ],
      "metadata": {
        "id": "uNGFzqr3DkNC"
      }
    },
    {
      "cell_type": "code",
      "source": [
        "x = 3\n",
        "if x < 10:\n",
        "    print('Small')\n"
      ],
      "metadata": {
        "id": "nbzvYT4xDw82"
      },
      "execution_count": null,
      "outputs": []
    },
    {
      "cell_type": "markdown",
      "source": [
        "##4.4 Alternative Execution  \n"
      ],
      "metadata": {
        "id": "X4s-_NjhEoV6"
      }
    },
    {
      "cell_type": "markdown",
      "source": [
        "A second form of the 'if' statement is alternative execution, in which there are two possibilities and the condition determines which one gets executed. The syntax looks like this:"
      ],
      "metadata": {
        "id": "l4lTIJdBEukD"
      }
    },
    {
      "cell_type": "code",
      "source": [
        "x"
      ],
      "metadata": {
        "id": "FvDZHAmBFEVW"
      },
      "execution_count": null,
      "outputs": []
    },
    {
      "cell_type": "code",
      "source": [
        "if x%2 == 0 :\n",
        "    print('x is even')\n",
        "else :\n",
        "    print('x is odd')\n"
      ],
      "metadata": {
        "id": "uO9pw-hDEuO3"
      },
      "execution_count": null,
      "outputs": []
    },
    {
      "cell_type": "markdown",
      "source": [
        "If the remainder when x is divided by 2 is 0, then we know that x is even, and the program displays a message to that effect. If the condition is false, the second set of statements is executed."
      ],
      "metadata": {
        "id": "fryPIqWDE4s2"
      }
    },
    {
      "cell_type": "markdown",
      "source": [
        "![Severance_conditionals-02.png](data:image/png;base64,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)"
      ],
      "metadata": {
        "id": "UWbabRYaFFjz"
      }
    },
    {
      "cell_type": "markdown",
      "source": [
        "**If-Then-Else Logic**\n",
        "\n",
        "Since the condition must either be true or false, exactly one of the alternatives will be executed. The alternatives are called branches, because they are branches in the flow of execution."
      ],
      "metadata": {
        "id": "QxykltjQFNNJ"
      }
    },
    {
      "cell_type": "markdown",
      "source": [
        "##4.5 Chained Conditionals     \n"
      ],
      "metadata": {
        "id": "ZwpyDo2CFWIN"
      }
    },
    {
      "cell_type": "markdown",
      "source": [
        "Sometimes there are more than two possibilities and we need more than two branches. One way to express a computation like that is a chained conditional:"
      ],
      "metadata": {
        "id": "inC4O4ZxFYzC"
      }
    },
    {
      "cell_type": "code",
      "source": [
        "x = input('Enter a value for x: ')\n",
        "x = int(x)\n",
        "y = input('Enter a value for y: ')\n",
        "y = int(y)\n",
        "\n",
        "if x < y:\n",
        "    print('x is less than y')\n",
        "elif x > y:\n",
        "    print('x is greater than y')\n",
        "else:\n",
        "    print('x and y are equal')"
      ],
      "metadata": {
        "id": "3MIDHKkZFetx"
      },
      "execution_count": null,
      "outputs": []
    },
    {
      "cell_type": "markdown",
      "source": [
        "elif is an abbreviation of \"else if.\" Again, exactly one branch will be executed."
      ],
      "metadata": {
        "id": "42r0gjCIFwxj"
      }
    },
    {
      "cell_type": "markdown",
      "source": [
        "![Severance_conditionals-03.png](data:image/png;base64,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)"
      ],
      "metadata": {
        "id": "Ppcp74v8GCSu"
      }
    },
    {
      "cell_type": "markdown",
      "source": [
        "**If-Then-ElseIf Logic**\n",
        "\n",
        "There is no limit on the number of elif statements. If there is an else clause, it has to be at the end, but there doesn't have to be one."
      ],
      "metadata": {
        "id": "HnaWb0hGGNwO"
      }
    },
    {
      "cell_type": "code",
      "source": [
        "choice = input('Enter a letter: ')\n",
        "choice = choice.lower()\n",
        "if choice == 'a':\n",
        "    print('Bad guess')\n",
        "elif choice == 'b':\n",
        "    print('Good guess')\n",
        "elif choice == 'c':\n",
        "    print('Close, but not correct')\n",
        "\n",
        "print (' Done!')\n"
      ],
      "metadata": {
        "id": "pdaopE7GGZGF"
      },
      "execution_count": null,
      "outputs": []
    },
    {
      "cell_type": "markdown",
      "source": [
        "Each condition is checked in order. If the first is false, the next is checked, and so on. If one of them is true, the corresponding branch executes, and the statement ends. Even if more than one condition is true, only the first true branch executes."
      ],
      "metadata": {
        "id": "0pHLqfW7GiAV"
      }
    },
    {
      "cell_type": "markdown",
      "source": [
        "##4.6 Nested Conditionals\n"
      ],
      "metadata": {
        "id": "F8pUJh_yGjP6"
      }
    },
    {
      "cell_type": "markdown",
      "source": [
        "One conditional can also be nested within another. We could have written the three-branch example like this:"
      ],
      "metadata": {
        "id": "7eOksywQGoeq"
      }
    },
    {
      "cell_type": "code",
      "source": [
        "x = input('Enter a value for x: ')\n",
        "y = input('Enter a value for y: ')\n",
        "\n",
        "if x == y:\n",
        "    print('x and y are equal')\n",
        "else:\n",
        "    if x < y:\n",
        "        print('x is less than y')\n",
        "    else:\n",
        "        print('x is greater than y')\n"
      ],
      "metadata": {
        "id": "sw-MsmDtGt_0"
      },
      "execution_count": null,
      "outputs": []
    },
    {
      "cell_type": "markdown",
      "source": [
        "The outer conditional contains two branches. The first branch contains a simple statement. The second branch contains another `if` statement, which has two branches of its own. Those two branches are both simple statements, although they could have been conditional statements as well.\n"
      ],
      "metadata": {
        "id": "rOAfFNxmGyD_"
      }
    },
    {
      "cell_type": "markdown",
      "source": [
        "![Severance_conditionals-04.png](data:image/png;base64,iVBORw0KGgoAAAANSUhEUgAAAr0AAAFvCAIAAADIWOQ2AAAAAXNSR0IArs4c6QAAAARnQU1BAACxjwv8YQUAAAAJcEhZcwAADsMAAA7DAcdvqGQAAFJtSURBVHhe7d13QBTXwjZwkSKCVAFRRKwIWECl2EGDXQTFbrDEkmgsiW+MJsaoMTfGJMYkGpOoMfaKDStir6AIiIgQRSkqICgggvR8T5gTPq7tbhSWLc/vj2XOmTOzhZk5z5md3dX466+/qhERERHJoLr4S0RERPS/MDcQERGRrJgbiIiISFbMDURERCQr5gYiIiKSFXMDERERyYq5gYiIiGTF3EBERESyYm4gIiIiWTE3EBERkayYG4iIiEhWzA1EREQkK+YGIiIikhVzAxEREcmKuYGIiIhkxdxAREREsmJuICIiIlkxNxAREZGsmBuIiIhIVswNREREJCvmBiIiIpIVcwMRERHJirmBiIiIZMXcQEqmpKRETBERkdwxN5AyKSgoCAoKevDggSgTEZF8MTeQMpkwYULv3r3feecdUSYiIvlibiBlkpiYiNuDBw9KRSIikjPmBiIiIpIVcwMRERHJirmBiIiIZMXcQERERLJibiAiIiJZMTcQERGRrJgbiIiISFbMDURERCQr5gYiIiKSFXMDERERyYq5gYiIiGTF3EBERESyYm4gIiIiWTE3EBERkayYG4iIiEhWGn/99ZeYJFI8MTExYqrU6NGjL1++jIkbN25INZIGDRro6emJAhERVRrmBlJokyZNysrKEoVq1U6ePJmWloaJoUOHSjWAxLBkyRILCwtRJiKiSsPcQAoN+WDnzp2i8BIdO3Y8f/68KBARUWXi9Q2k0N59910x9XJ+fn5iioiIKhnPN5BCy83NdXR0vHXrlig/x9TUNDY21szMTJSJiKgy8XwDKTQ9Pb2RI0eKwov06dOHoYGISG6YG0jRDRw40MDAQBSeM2HCBDFFRESVj7mBFJ2Tk5Ozs7Mo/Dc7Ozs3NzdRICKiysfcQEpgzJgxYuq/jRw5smbNmqJARESVj7mBlICXl5e5ubko/MPQ0HDgwIGiQEREcsHcQErA1NR0wIABovAPV1fXli1bigIREckFcwMph/Hjx4upf4wbN05MERGRvPD7G0g55OXldejQISIiQirWqVMnJibG2NhYKhIRkXzwfAMpB11d3eHDh4tC6YczGRqIiOSPuYGURvmswDcpiIiqBHMDKQ1bW9uOHTtiwtnZ2dHRUaokIiJ5Ym4gZSJ9O+Tw4cNr1Kgh1RARkTzxukhSJo8fP+7cufPevXsbN24sqoiISI54voGUSU5OTrt27USBiIjkjucbql5KSsqqVavu3r0rFQcMGNC/f39M3Lp165tvvpEqu3btOmzYMG1tbamobgoLC0NDQ0+dOhUWFnbjxo0mTZq0adOme/furq6uurq6ohEREVU+zQULFohJqiLFxcV5eXlICatXr+7du3fHjh0tLS1RX1RUdOfOnUOHDiE0oJu0trauXl3tzg/dv38/ICDg119/3bp1a3JycrNmzby9vbW0tCIiIgIDAy9evPjw4UNDQ0NTU1OxABERVSaeb1AUiAizZs1C/7dw4cK6deuipqCgYN26dXp6egMGDEDXKDVTE8hMyAQnT54MDQ3NzMxs0KBBp06dHBwcbG1t8eKkpaXdvHnzxo0b58+fv337ds2aNdu2bdutW7fOnTvz9AMRUaViblAgwcHBc+bMwXj6/fff19HROX36dFRUlJ+fH0LD7t27/f390Wbw4MGDBg2S2pfBQPzHH39MTEz85JNPHjx40KVLFywu5ikbPJfAwMAzZ878+eefRkZGjo6O7du3b9q0aZMmTZ75DEVhYSHCVlxc3KVLl8LCwhAmGjdujOfevXv3Zs2aiUZERFShmBsUSEFBwfr167/++uvff/8dA+t169YNHToUXSYSw6NHj0xMTO7fvx8UFDR79mz0jmKZUtu2bcvPz9fT00PfmZSU9Pnnnyvdr0sjBJw/f/7YsWNXrlzJzs7Gs/bw8GjevDmiQJ06dUSjl3j48OHt27djY2ORNnCrpaXVpk0bT09Pd3d3FfuVbekUFF4lTCNRTZ8+3cDAQJp19uzZ5cuXS9PTpk17ZgshIqoovL5BgWhqajZs2DAyMhI5ICYmpkePHm3btsX4OyAgwNfXt3Pnzi1btgwJCbl37x56BTSWlkJfsnHjxm7duqE9RuSY6+bmpkRXUOIB79ixY9myZbhFYnBxcXn77bcHDBiA54hXo1atWqLdyyEwWVlZ2dvbt27dGr2prq4uXkO8aCdOnHjw4IGxsXHt2rVFU+WH/2z9+vWxeWAjQWhAQpK2hOrVq+vo6CA/DRw4sFWrVkZGRlJ7IqKKxfMNCufkyZPjx48fO3bszJkz0Wtevnx5xIgRGHlL3cOff/7p4OCwdu3asm9cLi4uXrly5fbt201NTb/66iv0JehXylKFwiosLMQQ+ciRI6GhoU+fPsWT8vT0bNasmY2Njbm5uWj0WjIyMhISEm7duoXcgAChoaGBzrVXr17du3dXmdMP3377bXBw8JUrV7Al4HlJlQ8fPsSW8NFHH6nYWRYiUig836BwMFw+fvw4OlFnZ2cU4+Pjb9y4MWnSpPbt22Ms3ruUtbV1WTLAQBNFjLn37NmDnhKDzrZt2ypybrh79+6WLVu++eYbZJ2CgoKuXbuOGzeuf//+eIJ4Ivr6+qLd60KvaWlpaWtr27p1a7xihoaG165dw4sTGBiYmpqKdGVmZiaaKq1Lly7hFcvMzNywYQNeQClpIX4hZXbs2LH82SbE0Pfff3/z5s0XLlxwdHRUtwtsiajC8XyDwsGocdSoUX5+frhFEX3evHnzfvzxRwzEpQZhYWFNmzYt6wDy8/ORMzp06BATE4OEsX79+hUrVrRq1UqaqzgKCwtPnTp16NAh9G2YdnJyQjZC716/fv1KfR8BnSuSyu3bt4OCgvDSFRcX46779euHe1fecfmyZcv69u1bUlIya9YsAwODb7/9Fi/j8+cbEBeSk5ORnzAdEBDw+PHjr776Ci2luUREr4HfF6nompT67rvvcNBHEbfXr18v3+Gh88CYEp0xogP6EiMjIw0NDTFPMSQlJSHKDBo0aObMmbdu3RowYAC6vU8//dTb2xsj4Mq++MDY2Lhly5Z4ZWbPnv3999+PHDkyLS1t7ty5Pj4+6G6RtEQ7JdS8efP58+enpqYuWbJE2jzKw8u+b98+Nze3nqUmTZqE/HTw4EExm4jotfB9CsWCMTGO71evXsXIGNq0aWNmZmZvb4/pxYsXb9iwISYmBh2ehYWFWKD0qw5QmZ+f/+GHH27duhWdMUbSinBdZGFh4bFjxxAR0FtHREQ4ODi8++67w4YNc3d3t7W1RXcuzzdTqlevbmhoiKE2Xkx0pa6urllZWXi1t2/ffunSpb/++qtBgwZKdDFpcHBws2bNzM3NsSVYWlpu3rz5yZMniEfh4eFl71PExsZu2bLFz89Pel/G1NQUIQkNevXqxV8FI6LXxvcpFIv0jUbStL6+PvpX6dQCRoqJiYmYQHeLSi0trdImfyspKcFSmIiLi8Ot1J2UzqkyeKi7d+8+dOgQhrx4PN26devatWudUgrSNxcXFz948AAj9ZCQEKSH69ev47GhQx0wYECLFi1EIwUmvU/RvHlzTD99+nT58uUIZ1OnTsXuXPY+hb+//5dffolgJDWDRYsW3b59e8WKFW9+EQkRqS3mBqowBQUFx44d27NnD0bwmpqanTp18vLyatSoEcbECvuxQAzTESAQdA4ePHj27Nns7Ow2bdr4+PigV9bT0xONFE/53AAPHz6cO3cuXvlhw4YtWbJEyg1hYWHvvPPOggUL8HSkZsgN+B8tXLhQDb+wnIgqCnMDVYCEhIQdO3YcOHDg3r17Dg4OGLi7u7ublSp/akRhFRcXo+uF4ODgQ4cOhYeH45GjY/b19VXM0w/P5AaIj4//6KOP8LAxS8oNeXl5CBNRUVGrVq2ysbHB/2jmzJmzZs1q3769tAgR0WtgbqDXh8FrYGCgv79/SEhIjRo1unfvjqFtw4YNTU1Ny77HULnk5OQ8evTo7t27AQEBx44dy8zMdHJyGjJkSL9+/RTk3H5ERMSYMWPS0tIMDQ0//PDDd999V6ovKSm5cePG9u3bP/nkk7LLZh88ePDNN98gz+G/065du2nTpiHV8eIGInoTzA30Ou7cubNt27Z9+/YlJyc7Ojp6eXl5eHiYmJgYGxsrxQmGV0MfjMSQkZERHByM53jp0iUkIUSHoUOHVvkHXHNzc+Pj46Vp81LSNBQXFyP0mJmZlf9ADRKGdPlLrVq1rKysFP8LwYhIwTE30L9QUFBw6NAhDGrRoaIf6t27t6+vb4MGDYyMjFTyUrunT59mZWUhG0mXeaanpzs5OQ0fPnzAgAG8tJCI1BNzA8nk9u3bmzZt2rNnT2pqqouLy6BBgzw8PBAXDAwMVH4IW1JSkl3qwoULCBDnzp3DE0d0QIBwdHQUjYiI1ANzA71KQUHBgQMHNm/efPHiRWNjYy8vL3SW1tbWtWrV0tXVFY3URn5+/pMnT5Ccdu7cKb1H4+TkNHLkSKQonn4gIjXB3EAvFhcXt2HDhh07dqSnp3fq1GnIkCFvvfUWekdQ80/xlZSUPH36NCcn58KFC9u3bz9x4oSBgYGPj8+oUaPatGkjGhERqSjmBvovBQUFGEkjMVy8eNHMzMzX1xfdoZWVVc2aNXV0dEQjKlVYWIgAkZaWhvSAgJWYmIjc4Ofnh4zF0w9EpKqYG0i4devW2rVrt23b9ujRIw8PD8QFT09PXV3dGjVq8GuCXgF7UH6p8+fPb9q0KTAwEBkLeWvs2LE8/UBEqkftckN4eHhOTo4oqD0tLS07O7sjR46sW7fuwoULlpaWw4cPHzNmTN26dXV0dOTwicqbN2+OGzdu+vTpQ4cOxdj9008/xV1//PHHYnbpDzH07t1bFEqh/VdffbV///5JkyaJqlJY9pkFt2/fjpboxZGEZs2aNWfOnGbNmonZlaCoqKigoCA9PX3Lli2bN2+Oj493cnLCox02bFh0dDSChWhHVA62z3bt2okCkTJQr9zw2Wefff/99zzFUp62tjZ6u759+/r5+fXq1QtFxAW5/aJmSUlJVFTUJ5988sMPP1y5cuXUqVPffPNN2U+EQ3FxcV5eniiUwsOrUaMGOulnemIEnfI/fpGWljZjxowFCxbY2tpevHgRwWjZsmVy+OpobF14bHD27Nn169f7+/tLj5ZbHb0Q9rWJEyf++OOPokyk+HA4Ux9eXl7iaVM5dnZ26LYxKBcvk3whOqB/Ra/ftm3b69evi9o3htUuXLgQ435Mf/nllxs2bJDq5SYnJ2fNmjXOzs7iVSZ6iU6dOomNhkgZqNf5hgEDBuzfvx8Tn3/+uVSj5mrWrOnk5LRjx46dO3diSxg8ePCkSZM6duwoZstLenr6qFGj/Pz83n77bVH1jwsXLnTt2lUUSuERLl26dM+ePaNHjxZVpRYsWPDZZ5+JQqlz584hNyA0LFmy5J133kE8EjMqWXR09MqVK7ds2fL06VNsciNHjoyLi8vKyhKzif6xbNmy7Oxs5AZsq6KKSOGpV27w8vI6cOCArq4uDuiiikrh4LVx48bVq1dfvXrVwcFh4sSJY8aMMTIyks8bFosWLTp//jw2xZ9++qn8bzW9oYcPH06dOnXYsGEIHwsXLkRIEjMqAR48NipkBbyGly9fbtq06YRSpqamogXRc6ysrO7fv4+kju1fVBEpPF4nT38zMDCYMmVKeHh4cHAwjmLz58+vX78+osPp06eLiopKSkpEu4qG7hZ3cfHixc2bN48dOxbDrwq8arV27dotWrQYOHCgoaFhJYUGvDJ4fSIjI/HqoQ+YMWNGkyZNjh8//ueff3788ccMDUSkepgb6L+4urquWrUqKSnp+++/j42N7dWrV9u2bdGdp6amFhQUVHiAQEzp06fPvHnz0Mf7+Phoa2v/9NNPYl5F6N69u6amJm5FuYIg7hQWFmZkZKxevbpz58540c6dO4dncffu3S1btnTr1k20IyJSOXyfgl4lNDT0jz/+8Pf3R2jo37//6NGjO3bsiN4d5PaZizcRHR39n//8Z/ny5RU19EdcgOvXryMx7NmzB0EKG9XYsWM9PDxECyKZ8X0KUkY830Cv4uzs/PPPP8fFxX333Xfx8fG+vr6dOnVatmxZUlJSTk5OUVGRaKd4EIhzc3NDQkIcHR3fPDQUFxdjbSkpKb/99ttbb73VvXv3K1euzJs379atW+vWrWNoICL1wfMN9C+EhYWtX78e42y8gD179hw1alSHDh3weoKinX7Iy8v77LPPkG9+/fVXExMTUfsvYe/Iz8/HqqKiovDEsfHgafbr18/Pz69Lly5KccaFFBnPN5AyYm6gf+3Jkyc7d+7ctGnT1atXra2thwwZMnjwYAsLCz09PR1V+Q2LoqKinJycjIwMhCQ82djY2ObNmyMnjRgxglc7UkVhbiBlxNxAry88PHzz5s379u1DF+vh4TF06ND27dvXqlULAUJJf9JCencDwej69et4akePHtXU1Ozbty8SAw7uPMFAFYu5gZQRcwO9KYSG3bt3b9269erVq3Xr1sWLPGjQIEtLSwMDA7zUopHCKywsfPz4cXp6OmJQQEBAXFycnZ3d8OHDEYZe+20OoldjbiBlxNxAFSYiImL79u14hbOysjp16jRw4EA3NzcjIyNDQ0OFPf2A7T87OxsPOCoqaseOHadOndLR0enduzcSQ/v27XmCgSoVcwMpI+YGqmA5OTkYsqMPRowwNzfv06ePt7d3vXr1jI2NK/UbG/+t/Pz8zMzMBw8e7N+///DhwwkJCfb29kOGDPH19eUJBpIP5gZSRswNVFkiIyN37tx56NChjIwMFxcXvPgYwaNLRoDQ1NQUjeSupKQkKysLD+natWu7d+/G8VpPT69Hjx5IDG5ubjzBQPJUv379e/fu8fcpSLkwN1DlysnJwWvu7+9/9epVhIbu3bvjv4DDZe3atfX19UUjucjLy0tPT09JSTl48ODx48cxzrO3t/f19fXx8UGUEY2I5Ii5gZQRcwPJiTS+DwwMROft5OTUp08fV1dXc3NzBIhKPf1QUlLy6NGjtLS0qKiogICA0NDQWrVqeXp6Dho0yNnZmScYqArxfQpSRswNJFe5ubmHDh3au3dvREQE+u+uXbv27t3bxsbGwsLCwMBANKog+C+npKRgPIewcubMGUQHBwcHb29vbAY8wUDyl5+fj41QFEohuaampuJ2z549oqqUpaWllpaWKBApGOYGqhrS6D8oKAjHzRYtWnh6erq6uuJwiQDxhqcfSkpKcHRGYrh27RoySmRkJFJC9+7dkRjatm3LEwxUVZKTk+fPn19cXCzK1apt27YNSRrbfP/+/UVVtWr6+vpfffUVUrUoEykY5gaqSjhoBgYG7t+/PyIiombNmogO0umHevXqGRoaikYyy8nJuX//fmJi4rFjxy5cuJCVlYVEgiNy3759jYyMRCOiqmNnZxcbGysKL9GrV68jR46IApHiYW4ghRAdHS1drogxWdOmTd3d3ZEhrKysECD+5+mHkpIS6f2IyMjIoKCgmJiY2rVre3h49OvXr02bNjzBQIpjyZIlc+bMEYWX2LZt27Bhw0SBSPEwN5ACwf8FHf/hw4cjIiIQF9Dr9+jRo1GjRtbW1i+8IuHJkyeJiYnx8fEnTpwIDQ3Nzc1t2bJl71KvcbqCqLLFxcVhq87Ozhbl51hYWKAN36QgRcbcQIooJiYG6eHUqVP37t1r0KBBx44dXV1dMVG/fn0tLa3i4mLp/YjIyEi0wXEWR1vpEktHR0eeYCBF1r9//4MHD4rCc95///0VK1aIApFCYm4gxZWbm4tYEBgYGB4ejqKdnZ2npyeiQ0pKCuqjoqLy8/Nbt27do0cP1PMEAymF3bt3+/r6isJ/09bWPnv2rJubmygTKSTmBlICMTExx0olJycbGRllZGRYWlp269YNcQG5QTQiUgY5OTm2trb3798X5XKwMV+9elUUiBQVcwMpjdzcXIzGQkNDW7ZsidDAEwykpD788MMffvhBFMpB5YwZM0SBSFExNxARyRWyb8eOHQsLC0W5lImJSXh4uI2NjSgTKSoF/XVjIiJV5ezs/Pz7a927d2doIKXA3EBEJG/jxo0TU/94voZIMTE3EBHJ24ABA2rXri0K1ao1bNiwW7duokCk2JgbiIjkzdra2tPTUxSqVRs2bJienp4oECk25gYioirwzjvvSBMaGhqjRo2SpokUH3MDEVEV6NKli/Rj2bVq1WrVqpVUSaT4mBuIiKpAzZo1dXV1MWFhYSHVECkF5gYioqqB6IBbExMTqUikFJgbiIiqRvXqfx+B+UtspFz4fZFEVJHS09N37NiRkpIiFbt37+7h4YGJxMTENWvWSJXOzs59+vTR1taWiuomPz8/MjIyJCRk9uzZubm5lpaWixYtcnFxcXR0FC2IFBjPNxBRRcIYGtE8NjYWfeGDBw/KwgHqc3Jytm3bhlsdHR31HGQjPPn7+y9YsAAvDsYwQ4cO9fX17dGjx65du+bNm/fFF1/s378/LS1NtCZSSDzfQEQVLzo6eubMmS1btsSQ2tzcHDWFhYUIDdnZ2cOHDzc1NZWaqYn8/PzQ0NCQkJArV64gSxkbG7dt29bJycnOzu7Jkyc1a9a8fv16RCkUbWxsMKt9+/a4lT5wQaRQmBuIqFKcOHFi/vz5fn5+48aN09bWRq958eLFMWPG1KpVa+/evZhGm1GjRrVr105qXwad6+bNm5s3b96zZ8+cnByEDzFDCSUkJFy4cOHSpUsIUpqamra2tni+rVq1sre3r1GjhmhUCgelqKioyMjIy5cvx8fHV69eHc3c3Nw6d+7MD1yQQlGv3ODt7R0QEKCnp4eDkagiosqRl5f3yy+/rF27dvXq1Y0bN163bl3fvn2RBnbs2IFZ2Afv3LmD3hRtMFcsU60a6n///ffCwsK6devGxMQgNAwdOlTMUx75+fnISUgMYWFhDx8+RMfv4uKCHICng+clGr1EYmKiFCBCQ0MzMjKsrKzatm3bsWNH3KrY6Qf8l3fv3o1XCdN2dnajR4/W19eXZuG5b9y4UZpG9HR2dpamSRFoLliwQEyqgW3btsXGxmLoM3fuXFFFRJUDnVyjRo3Onj0bFBSEiODk5ITODxOBgYHoId566y0HB4ft27ebmJi0adNGLFOtWnJy8r59+z7++GP0suhBa9asiWZinjLAEzxw4ACiz65du+7fv9+sWTMvL69BgwYhM9na2hoYGIh2L2dkZISl2rVrZ29vj9CA2HH58uXjx49HREQ8fvzYzMysVq1aoqmSw6gVwaikpARP0N/fH+kKuUpTUxOznjx5gi0BTxmvAyrL/5YHVTn1Ot8wYMCA/fv340iUm5srqoioMh0+fHjSpEkjRoz49NNPjY2NAwICFi1ahKEzZhUVFV28eLFPnz5ff/112eWTaWlps2fPLi4uRpvBgwdjSNqwYUNpliLLy8sLDg4+c+ZMWFgYenf09+3bt2/RogX6/jp16ohGr+Xu3bs3btyIiooKCQlJSUnB2vDKdO3a1cXFRWVOP3zzzTcIRklJSWvWrEG4lCoRmFauXPnRRx9J33JBioPXNxBRJbp3797IkSMRHaSfYNi8eTNGltgTpblgZ2fn5uYmjTIBiQEd5Lp16w4dOuTu7j5t2jR0wNIsxRQXF3f69OkLFy7cvHnT0NCwdevWzs7OzZs3b9q0qY6Ojmj0xpBL/vzzz5iYGLw4iBE4giGRdO7cuXv37paWlqKR0lq2bBlerrVr12ZkZCA6YBqVL8wNCGerV6/GhLW19XvvvacCz10ZqXhu+PHHH8ufWtiwYQN2PIT0L774QlSVmjhxopmZmSgQUcXB0R+Jwc/PT8oNgYGBiA7oD8pOtmOA3rJly7IuNrmUiYnJ2bNnL168qKGhgcGoAp6ZR0d+7ty5kydPhoeH4yDTqFGjTp06oS+3tbWVPj9SSe7fv48AER0dff78eQzQTU1N27Vr161bN6Qr5T39gNzQt2/f7Ozsjz/+uFmzZgsWLKhbt+7zuWHfvn23b9+W3rM4c+aMnp7eJ5988j+vF6EKp+LXN/z0009bt25FRJWkpKRgNIOodO3aNVEVHIzhwuTJkytwZEBEZTAy3r17t6OjIwbiKKIPOHbsGIaVqNHU1EREwOjZzs5O+uZEQL/422+/YRiNwTT2ysuXL/fr1++Zjx5UrVu3bvn7+69YsWLPnj3o6lxcXIYOHert7e3h4dGwYcOyK/sqiYGBAe5FusQSrxviC4LXwYMHkbGysrIsLCxkuYRC0eA4jLjQokULGxsbbC04ULu5ueFYjf9+x44dpfewsKn88MMPPXv2HDRoEDYePFMEUENDQycnJ2klJDcqnhuwV2/ZsiXnH9gQpXpRLoWcq4wXbBMpPozI58yZc+XKldjYWIyS0TFYWlrWq1cvMDBw48aNu3btQoBAd1v+6xwwyrx7925MTAw6CSwyePBgBweHslRRhRCATpw4gUyzZs2aiIiIOnXq+Pr6og/r3bs3ujEMgsveapEDLS0tdJzIDUgPyBD169e/c+cOAhleWLzUeCR4keX5eN6QlBvMzc2trKwQvDDYw+jO1tYWkagsN+B5bdq0aezYsdK5YTz9yMjIqKioHj16KFSsVAcq/j5FWloaDlWv/v61U6dOubu7iwIRVZykpCQMGaVpIyMjV1dXjIYR33HERz+HykaNGrVu3bp8D4esn5mZmZ6ejgZli4h5VQTxJSgoCAeKhIQE9McYCru4uOCRN2jQoOxyzqqVn58fHx+PV0z65CeOeOiGu3XrhkyDnlg0UmDS+xTNmzfHNDaApUuXbtiwYfr06Zgue59iz549Cxcu3L59u9QMFi1adPPmzfLveZF8qP51kePHj1+7dq0oPAdpPSQkRE9PT5SJiEo9ffr05MmTGMGHh4fjOIlhPXripk2b2tjYKOz3XT548ADhBkNzPPLo6Ggc2RBxevXq1blzZwWJOC9UPjfA3bt3Z8+eff78eR8fn8WLF0u5AQfqd9999z//+U+/fv2kZsgNeXl5X3zxhRKdWVENqv/9DbVr1/7jjz9E4TnTpk176623RIGIqFq1mJiYTZs2ffvtt3v37q1evXqPHj1Gjx6Njs3NzQ3D9/KX9ysafX19PEI7OztHR0dnZ2d0qGFhYbt27UKMyMjIsLS0NDQ0FE0VifQ+RdnF6XiQeAoRERF4Or1795YSj4mJCfLQmTNnOnXqhAbIFps3bx42bFj5Lw0j+VD98w0YNLRv3z4yMlKUy8FGiZ3K1tZWlIlIjeFYERQUdOjQofDwcC0trXbt2nl6eqJbql+/vrGxsWikVB4+fJiUlHTz5k08L3TDOjo6rq6uCEDu7u4Kcvrh+vXrM2fOTEhIQGiYPHmy9KEbkL4Mav/+/XPnzi0Lardv3/7++++lPGFvb+/j4+Pi4oJpaS7JjernBli8ePGnn34qCuVg/9m3b5/KfHcKEb2e6OjogwcPHjt2LDk5GQNfDw8PNze3evXqYYCuAseHgoKC+6XOnTuH8XpiYmLDhg179uzp7e1tbW0tGlWRrKysK1euSNOIaOW/46uwsPDevXsNGjQof1VsfHw80gMmateu7eDgoMhvvqgwtcgNcXFxjo6OOc/9JsW2bduGDRsmCkSkZnJzcwMDAzGoDQ8P19XV7dChQ69evdB11a1bVzHP57+hjIwMBKNbt24dPnwYo3kNDQ1XV9cBAwZ0796dHTDJTi1yQ1FR0aBBg3B0EOVSGEnExMQYGRmJMhGpjejo6L179x49evTBgwcYtvbo0QM9KI4JFhYWKn+RHcbxqampKSkpZ86cOXnyJGIExvR9+/YdOHAgJkQjopdTi9wAO3fufOZLGqZMmfLzzz+LAhGpgdzc3EOHDiExRERE1KpVq2vXrn369EFnqaRfl/SGMjMz09LSbt++jTHVhQsXiouL27dv7+Pj89Zbb/F78OgV1CU3ZGdnN2/ePDk5WZRLf6e13XM//E9EKikqKmrXrl1Hjhx5+PCho6Oj9OEIMzMzOX9fkwIqKipCekhPTz916lRQUFB0dHT9+vW9vLwGDx5sY2MjGhGVoy65AaZPn758+XJpGokB+ZqZmki15eTkHDhwwN/f/+rVq8bGxhhJDxgwwMrKCnGB1+E/A4MrhKr4+Pi9e/eePHmyoKCgffv2vr6+PXv25KGSylOj3BAREVH2M//Lli374IMPpGkiUj2RkZE7d+48ePBgRkaGdPWfm5ubqampkZGRYp5gCA8PDwkJee+990S5ihQVFeEVA0QHvHp4GevWrevt7T18+PDyH3YgdaZGuaGwsNDCwiIzMxPTSUlJ9evXl+qJlBfSMMaFoqD2atSo0bRp03379m3fvh2vjLm5eZ8+fQYOHIiez9jYWM7f13Tnzp0PP/xw/PjxXl5eeXl5ixcvrlOnzpQpU8TscsLCwkaOHDlx4sSxY8fWLv2xRwnq8Vw++eQTXV1dHLi++OKLadOmNWrUSMyuZDk5ObjTxMREf3//wMDA3NzcDh06DBs2zN3dPS4uDvFCtFN7enp6LVu2FAX1oEa5AfDfvX79OkYbONQqwi/lEL2Jjz/+eMuWLWq1C7+ahoYGwgF6O09PTx8fn44dOxoaGhoYGFTJzo6BysWLF3/66advvvkGo/YjR47Mnz//mR99vnLlCnri9957D+HG1NTUxMREzCiVnJz80UcfIS40adLk0qVLa9asWbp0qZyv3ywuLn5c6tixY/v378czwgNADOJWVwZb15w5c95//31RVgf496sPHE3wlHV0dESZSJm5uLhIezGV5+TktHLlSqQH8TJVHYxPfvvtt3r16nXp0gUdf0lJiZhRas+ePTNnzoyJiXnZQ0WfPW/evB07dmAa4eP3339/Zg3ylJqaisfQtGlT8SpTOUOHDhUvk3pQr/MN/fv3P3jwoK6u7tOnT0UVkdJydHTEQBaD1HHjxokq9VajRg0LCwvpWxHxsgwePHjMmDFV+0Xy9+7de/vtt4cPHz5+/PhnvnoyNzf3/PnzY8eOnTVr1ssutzpx4sTevXsXLlz49ddfYz2tWrUSM+QIiWfz5s0BAQH5+fkYerVt2/b+/fvINGK2evv+++9x6+3tjX+TVKMORG6YMWNGYmKiVKXCgoODU1JSNDU1vby8RJXqqlmz5tKlS585L0qqpHXr1teuXcMQMDw8XFSpNw0NjerVq0tfq7xt2zZ/f3+Mkl1dXf38/AYOHIgBg2gnR9gHjx49irvGxPOD9cLCwkePHkVHR48YMeLjjz+eOXOmmPEPPP4PP/wQieHUqVOff/65PH8w+vHjx9u3b9+4cWNUVFTjxo0xpEYOMzMz09bWlk57iHbqTXrbSE1zAzbrfv362dnZSbWqKiws7MiRI/b29jiIiCoVlZeXt3z58qCgIHd3d1FFKkfKDRhPx8bGiioqhcMadgFAd7tly5Zjx44ZGRmh58Ogv+zHmuUgJCRk0aJFP//88/HjxyMjI7/++usXZpeioqKsrCz8K0NDQz/66CNRWwpPZOHChRjUon7evHkIRmJGZcLDXr9+PTpCPLA+ffogtSB71SglnwegRPCaIKdiIBoQECCq1IDIDdgakCsRJ6VaVVVcXHznzp2GDRuq/G9ZYRBjZWWFwyV/JVyFOTk5Xb16FR1hTEyMqKL/hp4Ph3WM2jdt2rR58+Z79+65ubmNHTvW19e3sj9eERwc7Onpie6kW7du2dnZH3/8MUbtuBWzn4OjEx4t+iFR/sfp06c9PDwQgCp7DPD48WNkrD/++OP69evYqEaNGjVs2DBTU1MdHR01/2qsV0AQzM/PV9/coCY/8oTnqw6R+eHDh2ZmZswNqk26voG54X/CXo8uubCw8OTJk+vWrTty5IiBgQEOd++++27lnWRFDsjLy0O/InW66F2qV6/+Gj8fhX/uvHnzVq5caW5uLqoqGiLO77//vnv37pKSEh8fnzFjxiBdYXAFPMFQXkJCAtKnKJT6/PPP8Y/GVuTn5yeqSr3wF5hVhtrlBjXB3KAO+D7Fv4V+EUf5tLQ0pAdAN+Dq6jpx4sQhQ4bI+dsdZLdly5Zbt25VxpsUWVlZmzZtQmKIiopq0aLFuHHjRo0aZWRkhHwDohGVk5mZieOqKJTC5oRb/GvKv2Jdu3Y9ceKEKKgibhxEpC5wcMeIv169enPmzImOjg4ICLC0tJw0aZK1tfX06dNv3Lgh2imGp0+fTpkyZePGjZMnT67Y0HDhwgWkBDxrvA5OTk6nTp0KDQ2dOnVq7dq1tbS0GBpextjYGNEKWaGMVI/htyiXevvtt6V6VcXzDaqJ5xtUD8Y6Pj4+5fuPy5cv5+TkYKDs5uYmqkrt2bMHBzhRoP8lPT0dY+7Vq1fHxcXhlXz33XeHDx+usKcf3kRWVtb69etXrVp1/fp1R0dHBCY/Pz85f5GUstu7d++rL6s3MjKKj49X8R0QuUGKDsgN0jSpABwK8T9FbhBlUgkeHh6le+2rtGnTRrSmf6OkpAT7i5QYTExMMNCPjIwsKirC8FG0UE54/HgWp0+fRkTQ19c3NDScMGFCSEiImE3/3qt/p2Ps2LGineri+SgipSHL9zvxB9tej4aGxltvvbV169akpKS5c+eeOnXK2dm5S5cua9asyczMLCwsxOFSNFUGiEF4zA8ePPjhhx8QJXv06HHjxo2lS5fevXt39erVrq6uoh39e4MGDRJTz8FWpA5fwsb3KVQT36dQSVlZWU2aNME/V5Sfo6WllZ6ebmRkJMr0unBgRHRYu3btgQMHtLW1fX19x48f36JFC7zCr/GZCLnBw5Y+OXLx4sV169aVf/CIQaIRvZmEhITGjRsjmYlyOdg9b926JQqqi+cbiJQGAsErxjowduxYhoYKgaFUt27dNm7ciG7g008/DQkJQdHT03PVqlWpqalPnz4tVrAvWkZcyM3NvXv37rJlyzp06ODj43Pnzp1vv/329u3bv/zyC0NDBbKxsXnZ6/nOO++IKZXG3ECkTMaMGfOyy91Rr/JfhCp/tWvX/uCDD65cuYKxe/PmzRctWuTk5DRjxozg4ODMzMy8qv5lSNw7QgweSVBQ0KRJk9q2bbt8+XJ3d/eTJ0+eO3duwoQJ8vxqavWBDUBMlaOtra3yn6SQ8H0K1cT3KVSYvb39C7/oiV/kIAePHj3aXOrPP/90cHAYOnSot7e3iYmJnp6elny/hbawsDA3N/fBgwc7d+709/dPTEx0dHREvzVkyBBmhcqWlZVVt27dZ34fsXfv3ocPHxYFlcbzDURK5mUXXqHDEFNUaUxNTadNm3bx4sW9e/e2bNly6dKlnTt3/r//+7+zZ8+iC8/Jyans0w8lJSVPnjxJTU09ePDglClTunbtunbt2m7duh09evT48ePYNhga5MDIyGjMmDGiUKp69epjx44VBVXH8w2qiecbVNjdu3ebNWuWl5cnyqV0dHTi4uLq168vyiQXjx492r59+9atW//880/8U3x8fLy8vLDrGRgYVPjlk/n5+dnZ2SkpKbt37963b19ycnLr1q1Hjhzp6+urr68vGpG8IKj169evqKhIKtatWzcmJsbQ0FAqqjaebyBSMggHnp6eovCPDh06MDTIn6mp6eTJk0+fPr1r1y4nJ6fffvutV69es2bNwtAf8e7x48dvfvqhpKQkKysrMTExICBg2rRpffv23bFjBzaAQ4cOHTlyZPTo0QwNVaJnz562traiUK0a0puahAZgbiBSPs9fHTl16lQxRXKnoaHRqVOn5cuXh4SEfPrpp+jjJ02aNHLkyJUrV0ZFRaWmpubn54um/8bTp0+Tk5PDw8OXLl2KbglxJDc39+uvv8a9LFmyBDFFtKMqMnToUGkCG8Azv2ul2vg+hWri+xSqLTs7u0WLFklJSVLR2NgYfRW/MFhB4KAaHBy8c+dO7IDo+xEpBg4c2KpVK1NTUyMjIxxsRbuXKCkpySiFfBAQEHD58mUTE5M+ffqgl2rdurVoRArg3r170kk+Q0PDrKwsqVIdMDeoJuYGlTdz5sxly5ZJ09OnT//xxx+laVIcmZmZu3bt2r17d0xMDDqYHj169O3bt06dOtg3a9SoIRqVk5OT8+jRI/RG+/fvx86LaScnJ19fXy8vL74ZoZiqV6+OPhQhPioqSlSpAaXJDU+ePElOTm7UqJGMH3bKy8tLT0+vV68edl0dHZ3Ku8YYd4Rhn7W1NabxCDGBGgwH69atKzWoEswNKu/KlSsuLi7Yf7HznjhxQpafrqAqgf/RpUuXECDwb8JxzNXV1cfHBz0N9lBTU1P8+4qLi7HD4niFZocPHw4LC6tdu3afPn0GDhzIEwwKTltbu6ioCInw6NGjokoNKE1uOH/+/KJFizZv3ow9SlT9N4R03FpZWeG2pKTkwoULFy9enDp1qr+/f6tWrSrvvcDY2FiM9n766SddXd2vSuGR7Nu374MPPqjC88bMDepAT0/v6dOnGLk+89kKUkwYw+DIADdu3KhTp467u3vv3r0RHVJSUg4ePHj27FmMNxwdHZEq+vXrh3+uWEwJ4QiMJ4VbUVZdjRs3LiwsRG5Yu3atqFJd6OPQrWBCaXLDtWvX/vjjj/nz57/sa3SRKnA7b9483KalpX3//feTJ082Nzf/5Zdf/Pz8MFHaquKV5YYGDRqsX79+xIgReIS40/r162Pnf9lX+1U25gZ1gJR8//59/KOxwYsqUgahoaFID4GBgTk5OdbW1gkJCRYWFr169fL29m7RooVopMwePHiAYzUSLXoWUaWiVqxYUVRU1KRJEy8vL1GlohCPMGhfuHAhphXi8xS5ubmRkZHJycmnS2GbQyWy6s2bN7FHoQa36JXHjRuHDJ6VlYUMgVnlG+M2vhRaonjp0qV69ephEenNJyTfv++m9PdIpKWkZhKsUKq8e/cu1oyi9Hhwi7l4saRKqXHZGq5cuSI1KJOeno6XVYo1OASgz378+LE0i6gySJ/7Up9Pf6kMZ2dnjHOQGz799FMHB4fFixcfPnwY06oRGiAqKurXX3/Ny8vDYVy1tW3bFqHBzs5OlFVXXFzcF198If1/FeJ8A4bs7733Xv/+/Q8cOJCfn4+JKVOmIKt++OGHGEudP39+/PjxjRo1kt6niImJ+eCDDzCMRmbPzMwcNGgQihcvXpw0aRJWhTSEZzFv3jzUP/NbsUgPyIZYG6Y7deo0depUS0tL9P144itXrjQ2Nh44cOC6det++OEH3Kl0CqF58+YYuI8aNQorxCK4u++++w5r0NTURCL57LPPunbtWna+AY2lOwIkhpkzZ7777rsuLi6iSr7U+XwDNvHr168j8Imy6sKmfuvWLRsbm927d4sq1aWlpYVuFbueKJMCw5GnR48eOAqZmpqKKhV148aN6OhodASVd0pbQaCjHDlyJI6umFaU3IC7Rk8/e/bstLQ0pAR06p6ensgNJiYmCxYsQIYou74BucHHx2fTpk0Y01++fPn999/fuHGj9HszWBU6+OTkZPTZX331FaKGtH4oLi7+5ZdfHj16hLtAccmSJdIXtoSFhc2aNWv58uWtWrVC/H/77bf37t37styA3uj48eNIAziEff7557q6uqh/YW4APJ66detOmDBBlOVLnXMDQlu/fv0MDAzwDxJVKiokJOT+/fuIvx06dBBVKgrDiaysrH379r3s8iZSKOqTG9SHIuaG0aNHr1ixQhqdL126NDc396OPPkJu6NKlC7ptVJbPDdIEjiDl++yy3IBKRA2srfwh5smTJ0gYCAf29vYoIiReu3bt559/xpHo7Nmzy5Ytq1mzZllEeFluyMnJQc5At4QOaf369c2aNXtFbpCeBRqIsnypc264e/eutbU1toGmTZuKKhWFbfjSpUvt2rVT+a8ASkhImDt37s2bN1X+f6oamBtUT/nc8PdnhKTogFppWv4QBdzd3SMjI6Xib7/99sUXX6DTxch+06ZNUuW5c+d69eqVnp5eNoFKLNizZ0/cYhqLgFQ5fPhwqUGZjIyMgQMHdu7c2fsf6FeQALB+3AvuC22wCNaM9ZdfbVklpo8fP96nTx8sO2PGDNxF2d2VNS5PehaiIHd42PifYu8VZXWSmJiI537x4kVRVmnJycliSqUhr+N/itwgyqTYgoKC8P9CbhBlUn5bt27V0Pj7RAMoyvdMZ2ZmxsXFYSI7OxvHiDd5r0hHRwe3z3yxq56enoODw5QpU3bt2rV3797FixcPGDAAlXXq1EFowL2jTWopTEhrQNTALR6PVAnnz5/HwA5rWLRo0cs+1lEGS/GrWqiyWVpaiikiIrlQlNygq6sbHh6+ffv233//Hb14t27dxAyZWVhYREVFhYaGmpiYGBoaSgPuMogCvXv3vnTp0pYtW3Avv/7664ULF4qLi93c3KysrHbu3InKo0ePSp+8MDMza9So0ebNm1GJRRAdpJVYW1tjxIM1nDp1Cut/+vQp1iDNekZBQcHjx4+l90SIiIhUhqLkBgzf69Wrt3//fnT806ZNa968uaampqura8OGDaUG5ubmCBM1atQom0Al8kH37t2lz6GhUltbOzIyUk9Pr127drdu3Spd7v/r3Llz165dAwMDcS+4rzFjxiBMGBgYTJ8+HXEBlVino6MjWqLSz88vIyMDlUgGn376qXT+o1evXs2aNcMa0tLSpkyZ0rRpU8wt/xjK3Lt3LzU1tVWrVqJMRESkGqS3KzBRtdc3vPASgdd248aNefPmZWZmirJsyl/K8IZ27ty5ZMmS/Px8UZY7Xt+gJtc3qAle36BceH2D6lHE6xsqVuPGjRs0aHDmzJmXvY9QqVJTUxFcBg0aJF0nQUREpDIUIjcYGxv37dsXt6L8xtBhe3l5FRQUiA+NyEZXV7dPnz516tQR5deVnZ3dtm1bfmCMiIhUj0LkBnTVM2bMePMOuzyszdfXV1tbW5RloK+vj4fx5v091tCvXz9RICIiUiGq+T4FERERVQbmBiIiIpIVcwMRERHJirmBiIiIZMXcQERERLJibiAiIiJZMTcQERGRrJgbiIhI9RUWFu7evTs8PFyUX05qGR8fj2m0lyaqVlpa2pYtW3JzczFx6NAhPEIxoyowNxARkeorKio6evRodHS0KD8nLCzM398fXbKGhsajR4/u3buH6YiICBRFi4qTk5OzatWqO3fuiPL/oqWlFRMT8/TpU0z8+eef0i+2VBXmBqIqhmPT9u3bQ0NDRfl/Qft9+/Y9ePAAh57AwEAUcQti9uuSHsbt27fL1i9mEKkEbW3tYcOGOTs7i/Jzbty4cezYMcSLv/76S1NTs06dOpjGHpGfny9aVJy8vLzdu3ffv39flP8X7JUWFhb6+vomJibSDztj9xfz5I65gaiK4dh08uTJ2NhYUX7O5cuXt27digOHVETCiI+P19HRSUhIyMrKwmDoUilp7mvDenAkSk5Oln717uDBg2X3SKT4Dh8+vGfPHuwp77///ooVK6RuNS4ubm2pr776KqXU48ePsWGjGRqjsqwxWq5bt+7cuXP+/v7YJVu1alW/fn1EDU9PT0NDQ6xKWgrtsZR0R6gpv/7U1FSsB2tDG8Cs0sf1Nzw2qVJqhgUDAgKio6OXLl0qNcM+LjUo29PRDKuV7hFtsL936dJFV1cXs5o1a4bAgd3/71VXBeYGoiqGY9OoUaPc3NxE+Tl//vnn6dOncSzDNA5MGGq4u7sbGxtnZGQkJSWhj5eavaG/fx/3r78sLS21tLQ8PDzu3LmDkZaYR6TwkKcXLlyYn5/v6Oh448aNbdu2oQNGUEBXjX2nefPm2LCxH2FvQhETO3fuRDJwcHC4ePHikSNHMJS3sbGpXbu2lZUVdklnZ2d00lgE+xp2CqwfXTuWQnsshWWlXbL8+qtXr447TU9PxwPAImvWrEHfjwVv3bp17NgxLIh6aRrRvG7duogjSAC4X1Ru2LChadOmaHD16tVDhw5hqczMTFQiH6ASbbC/Y+Lv51mtWs2aNbEgHrZUlD/1yg2PHj0KCgqS/S0lojdUUFCwceNGbHXLli2bMGECplGDehwpVpVasGABhvjx8fE43OAYhGY4JKEl7N+/X2q5evVqHKRwSMKy2HpxZLS3t8csHGjat2+Po9Xf9/SP4OBgafGy+wKs6plK6YFJldIdYT3t2rXDMRHTOEjVq1cPY6+/FyZSEthuPT09J02a5OXlhSG+9F4bellU+vr6GhkZSc0k6OmHDRv23nvvNWjQAEN/9PTdunXDntWhQwfEBdHoH9hfjh49it4a7bEUlhUzyq0fbc6cOTNw4EA8gOnTp2dnZ0dERKCBgYHBoEGDsODYsWPxCBHHsX4XFxfsawMGDMD9Yu82MzObMmUKFkRkR4h58uQJFiwpKcEOjkopuJTB4qi5fv162Q4uZ3+fkPz7j4bGiBEjWrVqJdWqqri4uMjISMRJV1dXUaWinj59umjRopMnT2IrFFVqA0NwHAgQxrHLiaqqg3/Ehx9+mJaW5uPjg/4eQ6KePXviIHL+/Hk/P7+5c+daWFhga5w/f36XLl0wxMGRpUePHk2aNEGGuHDhwnfffYeD3eeff45BEhJGp06d1q5dW1xcjGOQuINS+F/jdt68eTdv3kTyaNGiRa1atWJiYnBswn2h8pdffsFwB6MoVPbt2xf3dfbsWQxr7OzsMCbDQXPy5Mk4Jkprk+DeESy+/fZbrEpUVZ3w8PC2bdviifDn6ZUChtTYjB8+fGhqaiqqKh/2gtzc3C+//FJTUxPD9KlTpy5evBhxHPWbN2+uXbu2tDNi48dOIU2MGjVKWhC32H3QDPsF9iBEgdJV/n9ZWVnjx4+fOHFir169UCxrGRYWVrZ+7N1Dhw51c3OrUaMG2ly9enXMmDEffPABBgYrV67EcQlZPDY21snJCfeFFwf3jgnspHPmzMGyjRs3lu4I49v169fjcIHw8dNPP5XPKGUCAwP37NnzwodaSTBuGTlyJKIMpsVIBYchXV3dRFV34sSJy5cvHzx4UJRVF4L28OHDeZBVEDh6ent7jxs3rnPnztjbpcEERiHdu3fHwEh691Sio6ODNjjcIFVkZmbi/4hggQOcra0tji9IDDdu3JCOLy+EpIhj04QJE7AGDJ4wQsJ9YSUHDhxA5kAlDlXW1tZoiY0kKioKIQaPCpsKhkHSGsrgOHj37l0cdkWZSOGhr8U+ggkMxKWrBCpK9erV0UMjeYjyi2DntbS0xFANmQk++ugjT09P1AcFBWEYgBrs2hi1So3LIOUgZ2DQLi01ePDg2bNn/8+89epHUtnE+Yb4+HjpWKbakEBPnz6NfxLCnahSXVpaWhhBYqMUZbWhgOcb2rRp8+6776IYGRm5cOHCVatWYdz//DDI2dm5bIRRNhxBf182uMEa0BKRApWlqxekARMONxAcHGxjY4Pi48ePsVNv2LChVq1aGO6cOXPGzMwM9XgAWH9CQsKaNWuuXLmC1IL2M2bMQOD4e13/wIht2rRpX3311QuHO3LG8w3KparON5w6dWrdunVIxrg9fvz4Dz/88MId7TXONyCOLF++HM8IzZBOZs2ahcpnzjdg7scff4xB+VtvvZWdnY32Xbt2RVZAg0ePHi1ZsgQpfNKkSW5ubuXPN2BfxlgiMDDw22+/xVji3Llz2FWx62EHfMX5Btzj9evXsWa5HeHLn28QF0Opif79++Mp6+rqijKpIoyk8V9GbhDlKpWbm4vEsHTpUql46dIlLy8vHD5wdOjVqxcmytps2rQJx7iePXviFpWYhQZohmnMQgM0k1pKleV9UaqoqOiTTz5BAvD/Bw7fSA9ogLVJNZj7wQcfSJWIDlIl1vndd9/haFi6MuH27dvYX6QHU+WkT6sjN4gyKTaMsPH/QtcoynKBXWDIkCHouX19fdHDSdctvnBHK5soWxAwgYNGt27dFixYIO0gz8Dmh6V8fHw+++wzBHRMYz3l1y9dbjlx4kQ8AOzm2Newi6EeuyFWiwWxl2FB7IDY1wANPDw8sAgWR0DHIlgQT2H79u2YW/5o8AzMnTt3LtKGKMvF1q1bpU9aAT9PQVTpQkNDMf6QLq1q0qQJRhVixr+ko6ODYc3LvlkBIw8MZXJycnC4wQHIzMwMBzXU48C0Y8cO6ajUr18/HM2x/6MmODgYNYChPMZDzwxc8Ghxd+XfQyFScM2aNUP37OfnN3Xq1Pbt22OTtre3nz9/vrTHYXuePHmyu7t72YS01NBSmGjZsuXnn3+O3Ue6QOEZjRo1wlJjx47t27evra0t9kSsp/z6cXe403HjxuEBjB8/Ho0bNGiAeuyVWC0W9PT0lK6OREvpMSBDNG7cGKuSFsHtlClTsH7MtbKyQoJ5/n0NSElJweioTZs2oix3zA1ElQ6970cffeTt7Z2UlDRhwgQcFMQM2eBoiGHHl19+ifENjkGv+Hhk165d0RhRoH///j/++GPr1q1xBGzatOndu3dx76hcv349hmI1a9Zs0aLFhQsXUAMhISFY5JncIL0pgCOaKBMpPF1d3Q4dOmBTx620l5mampZNYwt3dHSsX79+2UTpQn9/sEJ6L6BWrVoeHh5l7Z+xc+fOjIwMrBzx4vz58w0bNsR6yq8fMCE9ACh7f0FaLWpwp1gKt9K+hgaolB4GbksX8kZL6Upk3GJV0vQzIiMjERrq1q0rynInrm9QExhyHThwANtW1V5UQpVKAa9vcHJyQheenZ1tbW2NgwWOGpmZmXFxcajU1tYuLi6OjY01MTFBvEA+sLOz09fXLywsxNGhSZMmxsbGOTk5V69eRQJA++Tk5KVLly5atKj8mQDpq2PQGLdogAUxgTEQjlBYldTg1q1b5SulO8VrhUozMzPpkWBakp+fj7FOx44dscuIqirF6xuUS1Vd34DbefPmScUKd/r06WXLluXl5RUUFKDbxkigSnpujAH++OMPPz8/RBBRJRflr29gbiBVo4C5oewKrDeHPLFq1SpEhN69e4uqSpCQkPDjjz/OmTPHwsJCVFUp5gblUiW5QfpinkaNGknFCpebmxsVFYX0j+nGjRtX3h29Gh7G/fv38QCe+eKWyvaCz2ESkVLQ1tYeMGDApUuXpFMFlSE/P3/Xrl3e3t7S5y+IlAI68krty/X09FxdXd8qVVWhAfAwkJ7lHBqewdxAVIlq1Kgxa9asnj17inJFsLKyGj16dOV16ogmgwYNwiGyao9NRKSYeFwgqkToeps0aWJubi7KFQHrbNiwYeV9T1xlr5+IlBpzAxEREcmKuYGIiIhkxdxAREREsmJuICIiIlkxNxAREZGsmBuIiIhIVswNREREJCvmBiIiIpIVcwMRERHJirmBiIjodeTk5Eg/P6tW+HuYpGoU6vcwqULw9zCVi/R7mJ999pnKf1v5+vXr79696+Hh0alTJ1GlohCPtm/fLgUG5gZSNcwNqoe5QblER0e/9957Wlpaoqy6zpw5U1xcbGZm1qpVK1GlohAV9PT0Dh48iGnmBlI16pMbYmJiAgMDMbBzcHAQVSqKuUG5oFspKSkRBZWmr6+fn5/fv3//vXv3iiqVpqmpiVvmBlI1ycnJ9erVa9OmjaGhoahSUZGRkRkZGUZGRk5OTqJKRT158uTKlSu3b99u1KiRqCJSAOhNkBvQswQEBIgqNcDcQCpoxYoVDx8+FAXVtXLlygcPHtSuXXvatGmiSnWZmpqqw9Mk5cLcoPqYG0iVtG7d+tq1a7a2trGxsaKKiORIPXMDP4dJREREsmJuICIiIlkxNxAREZGsmBuIiIhIVswNREREJCvmBiIiIpIVcwMRERHJirmBiIiIZMXcQERERLJibiAiIiJZMTcQERGRrJgbiIiISFbMDURERCQr5gYiIiKSFXMDERERyYq5gYiIiGTF3EBEpBwePnwYGRn5+PFjUSaqCswNREQVIykpqbCwUBQqTm5ubmxs7LFjx3777beZM2diWswgqgrMDUREFeObb77ZvXv3lStX0tLSRNWbSUhICA4O3rhx4/z580eNGjV37tzjx4/n5OSI2URVQeOvv/4Sk2rAy8vrwIEDurq6T58+FVVESqt169bXrl2ztbXlAFRBaGho6Ovru7i4uLu747ZhKdSI2TLLzMy8efPmvXv3goKCLpcSM0qdPHnSw8NDFKhKoTfJz89HzxIQECCq1ABzA5GyYm5QNMgNYqpaNXNz866lWrRo0bhxYysrKx0dHTHvJXJycu7evYv/5vXr148cORIaGpqbmyvmlcPcoDiYG1QfcwOpEuYGRVM+N5Sxs7Pr0qVL+/btMYEAYWlpKWaUExcXl5SUFFYqMDAwPT1dzHiRNWvWODs7iwJVKfwjioqKmBtUGXMDqRIpNzRp0uTs2bOiiqpUvXr1xNRz9PT02rRp06lTJ/Q0TZs2bdasWa1atZ48eRIeHp6QkHDy5ElMgGj9SlhJ7dq1RYGqlBQXvL299+7dK9WoA+YGImXl6OgYGRlpYmLyzjvviCqqUkuXLhVTL4cuv2PHjh06dGjVqhWmg4KCdu/efePGjYKCAtGClM2MGTN++OEHUVADzA1Eyqp9+/YhISGiQMqmWbNmI0aMQIZITU29fPlydHR0TEzM/fv3xeyX69Spk5mZmShQVdPX13///ffxfxRlNcDcQKSs/vOf/xw6dKi4uFiUqarJGOPQ69vb2zs4ODg7O7u7uyNA4IgUGRmJxcPDw2/cuIEMkZ2dLVo/Z9OmTa6urqJAVc3IyMjCwkIU1ANzA5Gywjg1KiqqMr5oiF5Pnz59xNSL1KhRo0mTJm3atHFycnJxcUHfX7NmTTHvH48ePbp06dLly5cRI5Ae4uLi8vPzxbx/8PMUVLWYG4iIKsYLP08B0oWQzs7OLVq06NKlyysunyyDxBAaGnrlyhVEQ0hKShIzmBuoqjE3EBFVjGdyg5GRkYuLCxJDhw4dHBwc2rVrJ2bILC8v7/r162FhYeHh4ddKZWVlMTdQ1WJuICKqGFJuqFGjRvPmzd3c3HDbsWNHe3t7Y2NjqcFry8zMlNLD1atXZ86c6eTkJGYQyR1zAxFRxUBEsLOzk77iCbnhhV/xVObw4cP5+fm9e/fGEUlUySA+Ph4p5M2DCNFrY24gIqoYO3fubN68eevWrUX55ZKTk729vZEbfvnlF7X6CB+pAP4eJhFRxRgyZIgsoQHi4+OlD03wGzhI6TA3EBHJW9mnK7OysqQJImXB3EBERESyYm4gIiIiWTE3EBERkayYG4iIiEhWzA1EREQkK+YGIiIikhVzAxEREcmKuYGIiIhkxdxAREREsmJuICIiIlkxNxAREZGsmBuIiIhIVswNREREJCvmBiIiIpIVcwMRERHJirmBiIiIZMXcQERERLJibiAiIiJZMTcQERGRrJgbiIiISFbMDURERCQr5gYiIiKSFXMDERERyYq5gYiIiGTF3EBERESyYm4gIqp0iYmJ58qJjIx8dT2RwtL466+/xKQa8PLyOnDggK6u7tOnT0UVEVHlCwgIGDp0qChUq1ZSUlJYWIgJTU1NLS0tqRLef//9pUuXigKRQuL5BiKiSte/f3+MWPL/IYUGKC4uFlWlkBukeiKFxdxARFTpqlevPnbsWFF4CUdHx8aNG4sCkaJibiAikodx48aJqZf48MMPxRSRAmNuICKSB0dHx7Zt24rCczQ1Nb29vUWBSIExNxARyckr3qoYM2aMsbGxKBApMOYGIiI58fb21tbWFoVyqlevPmjQIFEgUmzMDUREctKgQQMfHx9RKKdJkyb9+vUTBSLFxtxARCQ/gwYN0tDQEIV/DB48WEwRKTzmBiIi+Rk+fLiFhYUolNLW1p48ebIoECk85gaqMvL81s6CggIxRVTVhgwZIqZKubm5WVtbiwKRwmNuoCqzYcOGxMTEhw8fFhUViaqKhjVnZWXhXo4ePSqqiKra5MmTy3+39PTp08UUkTLg71NQldHQ0LCysvL09BwzZkzjxo1NTExq1apVvXrFZNnHjx8/efIkNjb2+PHj69atu3fvnlpt6qTg2rRpExERgQlDQ8OkpCTcSvVEio+5gapM+avD7OzsRo8e3b17d2tra4NSYsa/lJeX9+jRo+zs7F27dp04cQKhQcyoVo25gRTH77//PmHCBExMnTp1+fLlUiWRUmBuoCrz/FXl4O3t3a1bt169emEEZmZmpqOjI2a8UkFBwePHj9PT069du7Z582YkBkQHMe8fzA2kOO7fv29vb4+Ye/jwYcRlUUukDJgbqMq8MDdI6tWr5+HhMWLEiKZNm5qbmxsbG2tqaop5/+3hw4dZWVnR0dGnT5/esmULDsdixnOYG0ihjB07NqKUKBMpCXXMDRjCnj17VlRR1XFzcxNTL2drazt8+HB3d/datWqJqmrVDAwMbGxsUlJSMjMz9+7de+bMGYQGMe/lQkJCxBSRAsCx6ObNm//3f/9Xv359S0tLUUuk+JAb1Ievr6942qTMWrduvXPnzr59+5YPE0TKSFdXd/bs2eIIRaQM1Ot8w5dffvnHH38UFxeLMlWphIQEMfVK1atXr1mzpqGhoY6OTkpKSn5+voaGxtixY69fv37v3r309HTUiKavZGNjI6aIFAY277Zt2/r7+4sykcJTr9zw4MGDU6dO8eIGBfGK3waUmJmZmZubNyhlb29vamq6ePHi2NhYzMJ2iwyxa9eu8+fPR0VFpaWloSgt9TLr1q0TU0QKo0aNGl26dLGyshJlIoWnXrmBFMrLrovU1dW1sbFBYujevXunTp169uwpZlSr5uHhIV3KUH67vXDhAtLDoUOHkB4SExOf/ySFhJs6EdGbY26gKvNMbtDS0qpTp07Dhg2bNm3q4+PToUMHFMW8f7wwN0hycnIQIPbu3RsdHR0fH5+amvrMiSVu6kREb465gapMWW6wLNW8efP27dsPGDCgcePGUv3zXpEbyjx48GDfvn3BwcHXrl1LSUlJSkqS6rmpExG9OeYGqjL6+vpNmjSRvqrB1dVVlm+/kSU3lAkJCbl06dLRo0fv378fFxeXmZkpZhAR0etibqAqM2XKlH79+iExmJubi6r/5V/lBklOTs7ly5cPHjz47bffiioiInpdzA2kTF4jNxARUQXi72gTERGRrJgbiIiISFbMDURERCQr5gYiIiKSFXMDERERyYq5gYiIiGTF3EBERESyYm4gIiIiWTE3EBERkayYG4iIiEhWzA1EREQkK+YGIiIikhVzAxEREcmKuYGIiIhkxdxAREREsmJuICIiIlkxNxAREZGsmBuIiIhIVswNREREJCuNv/76S0wSKR5/f38NDQ1RqFbt888/j46OxgTqpRpJ79699fX1RYGIiCoNcwMptL59+yYkJIhCtWrx8fG5ubmYcHBwkGrA3Nw8KChIW1tblImIqNLwfQpSaO3atYsuRwoNIMqlGjduzNBARCQfzA2k0EaNGiWmXm7cuHFiioiIKhlzAym0Jk2aeHp6isKLtGrVytnZWRSIiKiSMTeQQtPW1h4yZIgovMjw4cNr1qwpCkREVMl4XSQpuvT09JYtW6ampopyOfr6+hEREU2bNhVlIiKqZDzfQIrOzMysR48eovDfunXr1rBhQ1EgIqLKx9xASmDKlCli6r+NHj1aS0tLFIiIqPLxfQpSAvn5+a1atbp586Yol6pbt25sbKyBgYEoExFR5eP5BlICNWrUmDhxoij8Y/DgwQwNRERyxvMNpBwSExNtbGxEoVRYWFibNm1EgYiI5ILnG0g5WFlZ+fj4iEK1ai4uLi1bthQFIiKSF+YGUg6ampq+vr6iUK3a22+/ze+WJiKSP75PQUojNzfX1tb23r17BgYGMTEx9erVEzOIiEheeL6BlIaenl6/fv0w0adPH0tLS6mSiIjkibmBlMn06dNxO2bMmOrVuekSEVUBvk9ByqS4uLh///779u3T0dERVUREJEfMDaRk7t27Z2VlJQpERCRfzA2kZLDFamhoiAIREckXcwMRERHJiheXERERkayYG4iIiEhWzA1EREQkK+YGIiIikhVzAxEREcmKuYGIiIhkxdxAREREsmJuICIiIlkxNxAREZGsmBuIiIhIVswNREREJCvmBiIiIpIVcwMRERHJirmBiIiIZMXcQERERLJibiAiIiJZMTcQERGRrJgbiIiISFbMDURERCQr5gYiIiKSTbVq/w+etBMJyu075QAAAABJRU5ErkJggg==)"
      ],
      "metadata": {
        "id": "vs7MbPxGHBzK"
      }
    },
    {
      "cell_type": "markdown",
      "source": [
        "**Nested If Statements**\n",
        "\n",
        "Although the indentation of the statements makes the structure apparent, nested conditionals become difficult to read very quickly. In general, it is a good idea to avoid them when you can.\n",
        "\n",
        "Logical operators often provide a way to simplify nested conditional statements. For example, we can rewrite the following code using a single conditional:"
      ],
      "metadata": {
        "id": "LoqePr4iHEQb"
      }
    },
    {
      "cell_type": "code",
      "source": [
        "if 0 < x:\n",
        "    if x < 10:\n",
        "        print('x is a positive single-digit number.')\n"
      ],
      "metadata": {
        "id": "zLoVaxOjHMqE"
      },
      "execution_count": null,
      "outputs": []
    },
    {
      "cell_type": "markdown",
      "source": [
        "The `print` statement is executed only if we make it past both conditionals, so we can get the same effect with the `and` operator:"
      ],
      "metadata": {
        "id": "2zZoG69aHQu1"
      }
    },
    {
      "cell_type": "code",
      "source": [
        "if 0 < x and x < 10:\n",
        "    print('x is a positive single-digit number.')\n"
      ],
      "metadata": {
        "id": "l-kwFWLXHZVJ"
      },
      "execution_count": null,
      "outputs": []
    },
    {
      "cell_type": "markdown",
      "source": [
        "##4.7 Catching exceptions Using Try and Except\n"
      ],
      "metadata": {
        "id": "vBpO2vgIHa6I"
      }
    },
    {
      "cell_type": "markdown",
      "source": [
        "Earlier we saw a code segment where we used the `input` and `int` functions to read and parse an integer number entered by the user. We also saw how treacherous doing this could be:"
      ],
      "metadata": {
        "id": "x4hm89MwHieh"
      }
    },
    {
      "cell_type": "code",
      "source": [
        "prompt = \"What...is the airspeed velocity of an unladen swallow?\\n\"\n",
        "speed = input(prompt)\n",
        "# What...is the airspeed velocity of an unladen swallow?\n",
        "# What do you mean, an African or a European swallow?\n",
        "print(int(speed))\n",
        "# ValueError: invalid literal for int() with base 10:\n"
      ],
      "metadata": {
        "id": "9Q8_TqJ3HtKj"
      },
      "execution_count": null,
      "outputs": []
    },
    {
      "cell_type": "markdown",
      "source": [
        "*Here is a similar set of code but using a try/except block*"
      ],
      "metadata": {
        "id": "XRJzFnduzVHQ"
      }
    },
    {
      "cell_type": "code",
      "source": [
        "try:\n",
        "    prompt = \"What...is the airspeed velocity of an unladen swallow?\\n\"\n",
        "    speed = input(prompt)\n",
        "    # What...is the airspeed velocity of an unladen swallow?\n",
        "    # What do you mean, an African or a European swallow?\n",
        "    print(int(speed))\n",
        "except:\n",
        "    print(\"Please enter a numeric value only.\")"
      ],
      "metadata": {
        "id": "6CNu8oh1xjC5"
      },
      "execution_count": null,
      "outputs": []
    },
    {
      "cell_type": "markdown",
      "source": [
        "When we are executing these statements in the Python interpreter, we get a new prompt from the interpreter, think \"oops\", and move on to our next statement.\n",
        "\n",
        "However if you place this code in a Python script and this error occurs, your script immediately stops in its tracks with a traceback. It does not execute the following statement.\n",
        "\n",
        "Here is a sample program to convert a Fahrenheit temperature to a Celsius temperature:"
      ],
      "metadata": {
        "id": "Sr7R1hCCIAk7"
      }
    },
    {
      "cell_type": "code",
      "source": [
        "inp = input('Enter Fahrenheit Temperature: ')\n",
        "fahr = float(inp)\n",
        "cel = (fahr - 32.0) * 5.0 / 9.0\n",
        "print(cel)\n",
        "\n",
        "# Code: http://www.py4e.com/code3/fahren.py"
      ],
      "metadata": {
        "id": "ThNtndBfIDEs"
      },
      "execution_count": null,
      "outputs": []
    },
    {
      "cell_type": "markdown",
      "source": [
        "If we execute this code and give it invalid input, it simply fails with an unfriendly error message:"
      ],
      "metadata": {
        "id": "qasnOcu3IKMa"
      }
    },
    {
      "cell_type": "markdown",
      "source": [
        "\n",
        "```\n",
        "python fahren.py\n",
        "Enter Fahrenheit Temperature:72\n",
        "22.22222222222222\n",
        "```\n",
        "\n"
      ],
      "metadata": {
        "id": "B_U-220LIPct"
      }
    },
    {
      "cell_type": "markdown",
      "source": [
        "\n",
        "```\n",
        "python fahren.py\n",
        "Enter Fahrenheit Temperature:fred\n",
        "Traceback (most recent call last):\n",
        "  File \"fahren.py\", line 2, in <module>\n",
        "    fahr = float(inp)\n",
        "ValueError: could not convert string to float: 'fred'\n",
        "```\n",
        "\n"
      ],
      "metadata": {
        "id": "GAdEF2hSITK4"
      }
    },
    {
      "cell_type": "markdown",
      "source": [
        "There is a conditional execution structure built into Python to handle these types of expected and unexpected errors called \"try / except\". The idea of `try` and `except` is that you know that some sequence of instruction(s) may have a problem and you want to add some statements to be executed if an error occurs. These extra statements (the except block) are ignored if there is no error.\n",
        "\n",
        "You can think of the `try` and `except` feature in Python as an \"insurance policy\" on a sequence of statements.\n",
        "\n",
        "We can rewrite our temperature converter as follows:"
      ],
      "metadata": {
        "id": "VEqrw6lZIai8"
      }
    },
    {
      "cell_type": "code",
      "source": [
        "inp = input('Enter Fahrenheit Temperature:')\n",
        "try:\n",
        "    fahr = float(inp)\n",
        "    cel = (fahr - 32.0) * 5.0 / 9.0\n",
        "    print(cel)\n",
        "except:\n",
        "    print('Please enter a number')\n",
        "\n",
        "# Code: http://www.py4e.com/code3/fahren2.py"
      ],
      "metadata": {
        "id": "47ZYDRKaIK97"
      },
      "execution_count": null,
      "outputs": []
    },
    {
      "cell_type": "markdown",
      "source": [
        "Python starts by executing the sequence of statements in the `try` block. If all goes well, it skips the except block and proceeds. If an exception occurs in the `try` block, Python jumps out of the `try` block and executes the sequence of statements in the `except` block."
      ],
      "metadata": {
        "id": "WXllCzasInZk"
      }
    },
    {
      "cell_type": "markdown",
      "source": [
        "\n",
        "```\n",
        "python fahren2.py\n",
        "Enter Fahrenheit Temperature:72\n",
        "22.22222222222222**\n",
        "```\n",
        "\n"
      ],
      "metadata": {
        "id": "vxMWfq7wIu-M"
      }
    },
    {
      "cell_type": "markdown",
      "source": [
        "\n",
        "```\n",
        "python fahren2.py\n",
        "Enter Fahrenheit Temperature:fred\n",
        "Please enter a number\n",
        "```\n",
        "\n"
      ],
      "metadata": {
        "id": "rTKseuYkI6t8"
      }
    },
    {
      "cell_type": "markdown",
      "source": [
        "Handling an exception with a `try` statement is called catching an exception. In this example, the `except` clause prints an error message. In general, catching an exception gives you a chance to fix the problem, or try again, or at least end the program gracefully."
      ],
      "metadata": {
        "id": "7Pj_G_EfJACd"
      }
    },
    {
      "cell_type": "markdown",
      "source": [
        "##4.8 Short-Circuit Evaluation of Logical Expressions\n"
      ],
      "metadata": {
        "id": "W4jSmmNmJLam"
      }
    },
    {
      "cell_type": "markdown",
      "source": [
        "When Python is processing a logical expression such as `x >= 2 and (x/y) > 2`, it evaluates the expression from left to right. Because of the definition of and, if x is less than 2, the expression `x >= 2` is False and so the whole expression is False regardless of whether `(x/y) > 2` evaluates to True or False.\n",
        "\n",
        "When Python detects that there is nothing to be gained by evaluating the rest of a logical expression, it stops its evaluation and does not do the computations in the rest of the logical expression. When the evaluation of a logical expression stops because the overall value is already known, it is called short-circuiting the evaluation.\n",
        "\n",
        "While this may seem like a fine point, the short-circuit behavior leads to a clever technique called the guardian pattern. Consider the following code sequence in the Python interpreter:"
      ],
      "metadata": {
        "id": "7JJkT1GDJRyL"
      }
    },
    {
      "cell_type": "code",
      "source": [
        "x = 6\n",
        "y = 2\n",
        "x >= 2 and (x/y) > 2\n",
        "# True\n"
      ],
      "metadata": {
        "id": "J_JwzNmQJZjO"
      },
      "execution_count": null,
      "outputs": []
    },
    {
      "cell_type": "code",
      "source": [
        "x = 1\n",
        "y = 0\n",
        "x >= 2 and (x/y) > 2\n",
        "# False\n"
      ],
      "metadata": {
        "id": "NokdMrZEJqoP"
      },
      "execution_count": null,
      "outputs": []
    },
    {
      "cell_type": "code",
      "source": [
        "x = 6\n",
        "y = 0\n",
        "x >= 2 and (x/y) > 2\n",
        "# Traceback (most recent call last):\n",
        "#   File \"<stdin>\", line 1, in <module>\n",
        "# ZeroDivisionError: division by zero"
      ],
      "metadata": {
        "id": "X6ItmrpIJnn6"
      },
      "execution_count": null,
      "outputs": []
    },
    {
      "cell_type": "markdown",
      "source": [
        "The third calculation failed because Python was evaluating `(x/y)` and y was zero, which causes a runtime error. But the second example did not fail because the first part of the expression x `>= 2` evaluated to False so the `(x/y)` was not ever executed due to the short-circuit rule and there was no error.\n",
        "\n",
        "We can construct the logical expression to strategically place a guard evaluation just before the evaluation that might cause an error as follows:"
      ],
      "metadata": {
        "id": "pBQFdAMvJw_H"
      }
    },
    {
      "cell_type": "code",
      "source": [
        "x = 1\n",
        "y = 0\n",
        "x >= 2 and y != 0 and (x/y) > 2\n",
        "# False"
      ],
      "metadata": {
        "id": "B0BgX0XIJ5oM"
      },
      "execution_count": null,
      "outputs": []
    },
    {
      "cell_type": "code",
      "source": [
        "x = 6\n",
        "y = 0\n",
        "x >= 2 and y != 0 and (x/y) > 2\n",
        "# False"
      ],
      "metadata": {
        "id": "JQCxGBBGJ-5R"
      },
      "execution_count": null,
      "outputs": []
    },
    {
      "cell_type": "code",
      "source": [
        "x >= 2 and (x/y) > 2 and y != 0\n",
        "# Traceback (most recent call last):\n",
        "#   File \"<stdin>\", line 1, in <module>\n",
        "# ZeroDivisionError: division by zero\n"
      ],
      "metadata": {
        "id": "7J9VN32SKD4e"
      },
      "execution_count": null,
      "outputs": []
    },
    {
      "cell_type": "markdown",
      "source": [
        "In the first logical expression, `x >= 2` is False so the evaluation stops at the and. In the second logical expression, `x >= 2` is True but `y != 0` is False so we never reach `(x/y)`.\n",
        "\n",
        "In the third logical expression, the `y != 0` is after the `(x/y)` calculation so the expression fails with an error.\n",
        "\n",
        "In the second expression, we say that y `!= 0` acts as a guard to insure that we only execute `(x/y)` if y is non-zero."
      ],
      "metadata": {
        "id": "NPkz1lO8KKQF"
      }
    },
    {
      "cell_type": "markdown",
      "source": [
        "\n",
        "\n",
        "---\n",
        "\n"
      ],
      "metadata": {
        "id": "4Vnqkl0p19XZ"
      }
    },
    {
      "cell_type": "markdown",
      "source": [
        "**See the class notes on Brightspace and the Runestone / Charles Severance Python for Everybdoy lectures on py4e.com for more information.**"
      ],
      "metadata": {
        "id": "ziuanP9I1_Y5"
      }
    },
    {
      "cell_type": "markdown",
      "source": [
        "\n",
        "\n",
        "---\n",
        "\n"
      ],
      "metadata": {
        "id": "GKC_U5rS2HR1"
      }
    }
  ]
}
