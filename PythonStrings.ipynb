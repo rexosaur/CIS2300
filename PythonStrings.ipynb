{
  "cells": [
    {
      "cell_type": "markdown",
      "metadata": {
        "id": "view-in-github",
        "colab_type": "text"
      },
      "source": [
        "<a href=\"https://colab.research.google.com/github/ProfessorPatrickSlatraigh/CIS2300/blob/main/PythonStrings_Fall_2024.ipynb\" target=\"_parent\"><img src=\"https://colab.research.google.com/assets/colab-badge.svg\" alt=\"Open In Colab\"/></a>"
      ]
    },
    {
      "cell_type": "markdown",
      "source": [
        "<b>Strings in Python</b>   \n",
        "\n",
        "*from '30 Days of Python: Day 4 - Strings', [Asabeneh Yetayah, on Github](https://github.com/Asabeneh/30-Days-Of-Python/blob/master/04_Day_Strings/04_strings.md), July 2021,*  \n",
        "*Dr. Charles Severance, [Python for Everyybody](https://www.py4e.com/lessons/) [Strings (Chapter 7)](https://www.py4e.com/lessons/strings)*  \n",
        "*... and, Professor Patrick | 2022, 2023, 2024, 2025*  \n"
      ],
      "metadata": {
        "id": "_zQgqFyYV9gg"
      },
      "id": "_zQgqFyYV9gg"
    },
    {
      "cell_type": "markdown",
      "source": [
        "# Python Strings  \n",
        "  \n",
        "*A copy of this notebook can be accessed at --*\n",
        "- **https://bit.ly/PythonStrings**"
      ],
      "metadata": {
        "id": "YOKjGNk9jUuK"
      },
      "id": "YOKjGNk9jUuK"
    },
    {
      "cell_type": "markdown",
      "source": [
        "\n",
        "\n",
        "---\n",
        "\n"
      ],
      "metadata": {
        "id": "44vKskDoj2UJ"
      },
      "id": "44vKskDoj2UJ"
    },
    {
      "cell_type": "markdown",
      "source": [
        "##Strings\n",
        "\n",
        "Text is a string data type. Any data type written as text is a string. Any data under single, double or triple quote are strings. There are different string methods and built-in functions to deal with string data types. To check the length of a string use the len() method.\n"
      ],
      "metadata": {
        "id": "PItv6l9CNC6_"
      },
      "id": "PItv6l9CNC6_"
    },
    {
      "cell_type": "markdown",
      "source": [
        "###Creating a String"
      ],
      "metadata": {
        "id": "I7xyO1LYM7Sp"
      },
      "id": "I7xyO1LYM7Sp"
    },
    {
      "cell_type": "code",
      "source": [
        "\n",
        "letter = 'P'                # A string could be a single character or a bunch of texts\n",
        "print(letter)               # P\n",
        "print(len(letter))          # 1\n",
        "greeting = 'Hello, World!'  # String could be made using a single or double quote,\"Hello, World!\"\n",
        "print(greeting)             # Hello, World!\n",
        "print(len(greeting))        # 13\n",
        "sentence = \"I hope you are enjoying your day\"\n",
        "print(sentence)\n"
      ],
      "metadata": {
        "id": "8Dbef860M7su"
      },
      "id": "8Dbef860M7su",
      "execution_count": null,
      "outputs": []
    },
    {
      "cell_type": "code",
      "source": [
        "sentence = 'I hope you are enjoying your day?\"'\n",
        "print(sentence)"
      ],
      "metadata": {
        "id": "wY73kxTw9Bzk"
      },
      "id": "wY73kxTw9Bzk",
      "execution_count": null,
      "outputs": []
    },
    {
      "cell_type": "markdown",
      "source": [
        "Multiline string is created by using triple single (''') or triple double quotes (\"\"\"). See the example below.\n"
      ],
      "metadata": {
        "id": "G7Oy9jV3M2XI"
      },
      "id": "G7Oy9jV3M2XI"
    },
    {
      "cell_type": "code",
      "source": [
        "\n",
        "multiline_string = '''I am a fashion designer and enjoy sewing.\n",
        "I didn't find anything as rewarding as creating style.\n",
        "That is why I created my own fashion line.'''\n",
        "print(multiline_string)\n",
        "print()\n",
        "# Another way of doing the same thing\n",
        "multiline_string = \"\"\"I am a fashion designer and enjoy sewing.\n",
        "I didn't find anything as rewarding as creating style.\n",
        "That is why I created my own fashion line.\"\"\"\n",
        "print(multiline_string)\n"
      ],
      "metadata": {
        "id": "PwULb53fMy28"
      },
      "id": "PwULb53fMy28",
      "execution_count": null,
      "outputs": []
    },
    {
      "cell_type": "markdown",
      "source": [
        "We can also take the content of a variable of another type and create a string with the `str()` function."
      ],
      "metadata": {
        "id": "OX1UuN4lqICP"
      },
      "id": "OX1UuN4lqICP"
    },
    {
      "cell_type": "code",
      "source": [
        "\n",
        "# creating a string from the float value of pi\n",
        "from math import pi  # we will learn more about importing objects later\n",
        "print('The value of pi is', pi)\n",
        "print('The type of pi is', type(pi))\n",
        "stringObject = str(pi)\n",
        "print('The string of pi is', stringObject)\n",
        "print('The type of stringObject is', type(stringObject))\n"
      ],
      "metadata": {
        "id": "TkhptUnhqRgE"
      },
      "id": "TkhptUnhqRgE",
      "execution_count": null,
      "outputs": []
    },
    {
      "cell_type": "markdown",
      "source": [
        "\n",
        "\n",
        "---\n",
        "\n"
      ],
      "metadata": {
        "id": "OGWCpcxTqHPk"
      },
      "id": "OGWCpcxTqHPk"
    },
    {
      "cell_type": "markdown",
      "source": [
        "### String Operations\n",
        "\n",
        "We can connect strings together. Merging or connecting strings is called **concatenation**. We can also repeat strings with a multipification factor in **repitition**.  See the examples below:\n"
      ],
      "metadata": {
        "id": "luPrNTTAMb-1"
      },
      "id": "luPrNTTAMb-1"
    },
    {
      "cell_type": "markdown",
      "source": [
        "#### Concatatenate Strings with `+`  "
      ],
      "metadata": {
        "id": "JGH_87T9n7WZ"
      },
      "id": "JGH_87T9n7WZ"
    },
    {
      "cell_type": "markdown",
      "source": [
        "The `+` operator can be used to append one string to another in concatenation."
      ],
      "metadata": {
        "id": "pfARdKQtoLEF"
      },
      "id": "pfARdKQtoLEF"
    },
    {
      "cell_type": "code",
      "metadata": {
        "id": "NeJ0g7qe7qdD"
      },
      "source": [
        "# concatenation\n",
        "\n",
        "# note that + concatenates strings\n",
        "\n",
        "str1 = \"hello\"\n",
        "str2 = \"world\"\n",
        "message = str1 + \" \" + str2 + \"!\"\n",
        "print(message)"
      ],
      "execution_count": null,
      "outputs": [],
      "id": "NeJ0g7qe7qdD"
    },
    {
      "cell_type": "code",
      "metadata": {
        "id": "vNMboqvf7yZr"
      },
      "source": [
        "# Notice the difference of the + operation when operating on text vs. numeric variables:\n",
        "\n",
        "x = 41\n",
        "x = x + 1\n",
        "print(x)\n",
        "print (type(x))"
      ],
      "execution_count": null,
      "outputs": [],
      "id": "vNMboqvf7yZr"
    },
    {
      "cell_type": "code",
      "metadata": {
        "id": "AWVUCXzdWs5C"
      },
      "source": [
        "x = 41.0\n",
        "x = x + 1\n",
        "print(x)\n",
        "print (type(x))"
      ],
      "execution_count": null,
      "outputs": [],
      "id": "AWVUCXzdWs5C"
    },
    {
      "cell_type": "code",
      "metadata": {
        "id": "8aMNxtyS73Fb"
      },
      "source": [
        "x = \"41\"\n",
        "x = x + \"1\"\n",
        "print(x)\n",
        "print(type(x))"
      ],
      "execution_count": null,
      "outputs": [],
      "id": "8aMNxtyS73Fb"
    },
    {
      "cell_type": "markdown",
      "source": [
        "We can concatenate multiple strings together.  Each string concatenated does not need to be a variable, as the following example demonstrates."
      ],
      "metadata": {
        "id": "ZtmnmScioVcw"
      },
      "id": "ZtmnmScioVcw"
    },
    {
      "cell_type": "code",
      "source": [
        "\n",
        "first_name = 'Taylor'\n",
        "last_name = \"Swift\"\n",
        "space = ' '\n",
        "full_name = first_name  +  \" \" + last_name\n",
        "print(full_name) # Taylor Swift\n",
        "# Checking the length of a string using len() built-in function\n",
        "print(len(first_name))  # 6\n",
        "print(len(last_name))   # 5\n",
        "print(len(first_name) > len(last_name)) # True\n",
        "print(len(full_name)) # 11\n"
      ],
      "metadata": {
        "id": "A1cjmjUxMXqE"
      },
      "id": "A1cjmjUxMXqE",
      "execution_count": null,
      "outputs": []
    },
    {
      "cell_type": "markdown",
      "source": [
        "#### Repeat Strings with `*`  "
      ],
      "metadata": {
        "id": "YYgf0MW6og18"
      },
      "id": "YYgf0MW6og18"
    },
    {
      "cell_type": "markdown",
      "source": [
        "The `*` operator can be used to repeat a string any number of times."
      ],
      "metadata": {
        "id": "xdilVBvVooy2"
      },
      "id": "xdilVBvVooy2"
    },
    {
      "cell_type": "code",
      "source": [
        "# example of string repetition\n",
        "\n",
        "stringValue = 'See you, '\n",
        "print(stringValue * 3)"
      ],
      "metadata": {
        "id": "2eExTY-qo6fE"
      },
      "id": "2eExTY-qo6fE",
      "execution_count": null,
      "outputs": []
    },
    {
      "cell_type": "markdown",
      "source": [
        "Note that the multiplication factor used for string repetition must be an integer"
      ],
      "metadata": {
        "id": "Lh48A0i2ouAh"
      },
      "id": "Lh48A0i2ouAh"
    },
    {
      "cell_type": "code",
      "source": [
        "\n",
        "# the following works...\n",
        "from math import pi  # we will learn more about importing objects later\n",
        "print(pi)\n"
      ],
      "metadata": {
        "id": "Y3_fF1oYpk2Q"
      },
      "id": "Y3_fF1oYpk2Q",
      "execution_count": null,
      "outputs": []
    },
    {
      "cell_type": "code",
      "source": [
        "\n",
        "# ... but, the following generates an error\n",
        "from math import pi  # we will learn more about importing objects later\n",
        "stringObject = 'pi = , '\n",
        "print(stringObject * pi)\n"
      ],
      "metadata": {
        "id": "JChO5qBlpRag"
      },
      "id": "JChO5qBlpRag",
      "execution_count": null,
      "outputs": []
    },
    {
      "cell_type": "markdown",
      "source": [
        "We can also create an expression that uses both `+` and `*` with strings.\n"
      ],
      "metadata": {
        "id": "KN8O8SQxqDYX"
      },
      "id": "KN8O8SQxqDYX"
    },
    {
      "cell_type": "code",
      "source": [
        "# combining string operators -- remember PEMDAS!\n",
        "stringObject1 = 'See you,'\n",
        "stringObject2 = \" at the party,\"\n",
        "stringObject3 = ' tonight, Richter!'\n",
        "print(stringObject1 + stringObject2 * 3 + stringObject3)"
      ],
      "metadata": {
        "id": "wAFbht3drEFD"
      },
      "id": "wAFbht3drEFD",
      "execution_count": null,
      "outputs": []
    },
    {
      "cell_type": "markdown",
      "source": [
        "\n",
        "\n",
        "---\n",
        "\n"
      ],
      "metadata": {
        "id": "jDx51cRLooJb"
      },
      "id": "jDx51cRLooJb"
    },
    {
      "cell_type": "markdown",
      "source": [
        "### Escape Sequences in Strings\n",
        "\n",
        "In Python and other programming languages \\ followed by a character is an escape sequence. Let us see the most common escape characters:\n",
        "\n",
        "- \\n: new line\n",
        "- \\t: Tab means(8 spaces)\n",
        "- \\\\\\\\: Back slash\n",
        "- \\\\': Single quote (')\n",
        "- \\\\\": Double quote (\")\n",
        "\n",
        "Now, let us see the use of the above escape sequences with examples.\n"
      ],
      "metadata": {
        "id": "olaZ3Z86MTQD"
      },
      "id": "olaZ3Z86MTQD"
    },
    {
      "cell_type": "code",
      "source": [
        "str1 = 'This isn\\'t a good example'\n",
        "print(str1) # This isn't a good example"
      ],
      "metadata": {
        "id": "ZM4eSjsj-4ol"
      },
      "id": "ZM4eSjsj-4ol",
      "execution_count": null,
      "outputs": []
    },
    {
      "cell_type": "markdown",
      "source": [
        "Let's try a few examples..."
      ],
      "metadata": {
        "id": "Y7uQoGVdsOg6"
      },
      "id": "Y7uQoGVdsOg6"
    },
    {
      "cell_type": "code",
      "metadata": {
        "id": "xtRwadLA97Zj"
      },
      "source": [
        "\n",
        "str2 = \"I want to print a backslash: \\\\\"\n",
        "print(str2)\n"
      ],
      "execution_count": null,
      "outputs": [],
      "id": "xtRwadLA97Zj"
    },
    {
      "cell_type": "code",
      "metadata": {
        "id": "XwESlLA398-b"
      },
      "source": [
        "\n",
        "str3 = 'This is a string within single quotes that can contain \"double quotes\" as part of the string'\n",
        "print(str3)\n"
      ],
      "execution_count": null,
      "outputs": [],
      "id": "XwESlLA398-b"
    },
    {
      "cell_type": "code",
      "metadata": {
        "id": "2pm1AeLa-C-F"
      },
      "source": [
        "\n",
        "str4 = 'If we want to have \\'single quotes\\' in single quoted string we should escape them'\n",
        "print(str4)\n"
      ],
      "execution_count": null,
      "outputs": [],
      "id": "2pm1AeLa-C-F"
    },
    {
      "cell_type": "code",
      "metadata": {
        "id": "RHyEtfec-GDk"
      },
      "source": [
        "\n",
        "str5 = \"Similarly, if we want to have \\\"double quotes\\\" in double quoted string we should escape them\\n\"\n",
        "print(str5)\n"
      ],
      "execution_count": null,
      "outputs": [],
      "id": "RHyEtfec-GDk"
    },
    {
      "cell_type": "markdown",
      "source": [
        "Here is an example that makes use of a mix of escape sequences."
      ],
      "metadata": {
        "id": "qFhLiHphsg-E"
      },
      "id": "qFhLiHphsg-E"
    },
    {
      "cell_type": "code",
      "source": [
        "\n",
        "print('I hope everyone is enjoying the Python stringObject.\\nAre you ?') # line break\n",
        "print('Days\\tTopics\\tExercises') # adding tab space or 4 spaces\n",
        "print('Day 1\\t5\\t5')\n",
        "print('Day 2\\t6\\t20')\n",
        "print('Day 3\\t5\\t23')\n",
        "print('Day 4\\t1\\t35')\n",
        "print('This is a backslash  symbol (\\\\)') # To write a backslash\n",
        "print('In every programming language it starts with \\\"Hello, World!\\\"') # to write a double quote inside a single quote\n"
      ],
      "metadata": {
        "id": "daScWMsAMNGh"
      },
      "id": "daScWMsAMNGh",
      "execution_count": null,
      "outputs": []
    },
    {
      "cell_type": "markdown",
      "source": [
        "<b><u>Output</b></u>  \n",
        "```\n",
        "I hope every one is enjoying the Python stringObject.\n",
        "Are you ?\n",
        "Days\tTopics\tExercises\n",
        "Day 1\t5\t    5\n",
        "Day 2\t6\t    20\n",
        "Day 3\t5\t    23\n",
        "Day 4\t1\t    35\n",
        "This is a backslash  symbol (\\)\n",
        "In every programming language it starts with \"Hello, World!\"\n",
        "```"
      ],
      "metadata": {
        "id": "h_hDjXjWlGXU"
      },
      "id": "h_hDjXjWlGXU"
    },
    {
      "cell_type": "markdown",
      "source": [
        "### String Formatting"
      ],
      "metadata": {
        "id": "z9TWYyPrMERd"
      },
      "id": "z9TWYyPrMERd"
    },
    {
      "cell_type": "markdown",
      "source": [
        "\n",
        "#### String Interpolation\n",
        "*(Python 3.6+)*\n",
        "\n",
        "String interpolation in Python is a method of embedding or inserting variables directly into a string. This approach is especially useful for dynamically generating text that includes values from variables, making code cleaner and more readable. Python supports several ways to accomplish string interpolation:\n",
        "\n",
        "- `f-strings`  \n",
        "- `.format()` method\n",
        "- `%` embedding <font color=red>*This is an older technique for formatting strings in Python that is explained in the appendix at the bottom of this notebook.*</font>\n"
      ],
      "metadata": {
        "id": "Q_bJsvqyLgjk"
      },
      "id": "Q_bJsvqyLgjk"
    },
    {
      "cell_type": "markdown",
      "source": [
        "`f-strings` are generally preferred for their readability and efficiency.\n",
        "String interpolation allows expressions and more complex formatting within strings, enhancing flexibility and reducing the need for manual string concatenation."
      ],
      "metadata": {
        "id": "MDTj1S-oyaYO"
      },
      "id": "MDTj1S-oyaYO"
    },
    {
      "cell_type": "markdown",
      "source": [
        "#### Formatting Strings with `f-strings`  \n",
        "*formatted string literals*  "
      ],
      "metadata": {
        "id": "pRxgCub1vPBM"
      },
      "id": "pRxgCub1vPBM"
    },
    {
      "cell_type": "markdown",
      "source": [
        "Introduced in Python 3.6, `f-strings` are the most popular method of string interpolation. You prefix the string with `f` and place variables or expressions within `{}`.\n"
      ],
      "metadata": {
        "id": "wRZnw_0Lvobj"
      },
      "id": "wRZnw_0Lvobj"
    },
    {
      "cell_type": "markdown",
      "source": [
        "Here is an example using `f` strings or formatted literals.  Notice that the type of the variable referenced does not need to be a string.  In the the following example, the `age` integer value `30` is converted to a string for embedding in place of `{age}` in the `f` string printed.  "
      ],
      "metadata": {
        "id": "uvlohtTpwBCF"
      },
      "id": "uvlohtTpwBCF"
    },
    {
      "cell_type": "code",
      "source": [
        "\n",
        "name = \"Alice\"\n",
        "age = 30\n",
        "message = f\"My name is {name} and I am {age} years old.\"\n",
        "print(message)  # Output: My name is Alice and I am 30 years old.\n"
      ],
      "metadata": {
        "id": "kpglvb3nvx_I"
      },
      "id": "kpglvb3nvx_I",
      "execution_count": null,
      "outputs": []
    },
    {
      "cell_type": "markdown",
      "source": [
        "Here is another set of examples using `f-strings`."
      ],
      "metadata": {
        "id": "n7ot-QOKv6Xj"
      },
      "id": "n7ot-QOKv6Xj"
    },
    {
      "cell_type": "code",
      "source": [
        "\n",
        "a = 4\n",
        "b = 3\n",
        "print(f'{a} + {b} = {a + b}')\n",
        "print(f'{a} - {b} = {a - b}')\n",
        "print(f'{a} * {b} = {a * b}')\n",
        "print(f'{a} / {b} = {a / b:.2f}')\n",
        "print(f'{a} % {b} = {a % b}')\n",
        "print(f'{a} // {b} = {a // b}')\n",
        "print(f'{a} ** {b} = {a ** b}')\n"
      ],
      "metadata": {
        "id": "QeeliWb0Lbm-"
      },
      "id": "QeeliWb0Lbm-",
      "execution_count": null,
      "outputs": []
    },
    {
      "cell_type": "markdown",
      "source": [
        "#### Formatting Strings with `.format()` Method  "
      ],
      "metadata": {
        "id": "sbbqTI9pvUjX"
      },
      "id": "sbbqTI9pvUjX"
    },
    {
      "cell_type": "markdown",
      "source": [
        "The `.format()` method allows you to insert variables by calling `.format()` on the string and using placeholders (`{}`) where the values should appear.\n",
        "\n"
      ],
      "metadata": {
        "id": "vLhrsYXQwvDR"
      },
      "id": "vLhrsYXQwvDR"
    },
    {
      "cell_type": "markdown",
      "source": [
        "Notice that in the following example, the `.format()` method is passed two arguments ( and ) and that each argument's value is embedded in the `{}` braces pair in sequential order, from left to right.  "
      ],
      "metadata": {
        "id": "Ew72-1rnw1zI"
      },
      "id": "Ew72-1rnw1zI"
    },
    {
      "cell_type": "code",
      "source": [
        "\n",
        "name = \"Bob\"\n",
        "age = 25\n",
        "message = \"My name is {} and I am {} years old.\".format(name, age)\n",
        "print(message)  # Output: My name is Bob and I am 25 years old.\n"
      ],
      "metadata": {
        "id": "PRFgBm37xRCE"
      },
      "id": "PRFgBm37xRCE",
      "execution_count": null,
      "outputs": []
    },
    {
      "cell_type": "markdown",
      "source": [
        "Try that same code but with the order of the arguments reversed.\n"
      ],
      "metadata": {
        "id": "LTu7a0-txJB6"
      },
      "id": "LTu7a0-txJB6"
    },
    {
      "cell_type": "code",
      "source": [
        "\n",
        "name = \"Bob\"\n",
        "age = 25\n",
        "message = \"My name is {} and I am {} years old.\".format(age, name)\n",
        "print(message)  # Output: My name is 25 and I am Bob years old.\n"
      ],
      "metadata": {
        "id": "ZnRr1mZ5xaAf"
      },
      "id": "ZnRr1mZ5xaAf",
      "execution_count": null,
      "outputs": []
    },
    {
      "cell_type": "markdown",
      "source": [
        "*You can see why care must be taken to avoid confusing argument sequences when using the `.format()` method -- there is a greater risk of error, and additional effort required in maintaining the code.  `f` strings have a clear advantage.*"
      ],
      "metadata": {
        "id": "o7KOZmlqxjSO"
      },
      "id": "o7KOZmlqxjSO"
    },
    {
      "cell_type": "markdown",
      "source": [
        "*The `%` embedding method is even more cumbersome.  We will not go over it here.  It is discussed in the appendix as a reference.*"
      ],
      "metadata": {
        "id": "fewPWBaByBRq"
      },
      "id": "fewPWBaByBRq"
    },
    {
      "cell_type": "markdown",
      "source": [
        "\n",
        "\n",
        "---\n",
        "\n"
      ],
      "metadata": {
        "id": "WLhyVF5QvT4l"
      },
      "id": "WLhyVF5QvT4l"
    },
    {
      "cell_type": "markdown",
      "source": [
        "### Python Strings as Sequences of Characters\n",
        "\n",
        "Python strings are sequences of characters, and share their basic methods of access with other Python ordered sequences of objects – lists and tuples. The simplest way of extracting single characters from strings (and individual members from any sequence) is to unpack them into corresponding variables.\n",
        "\n"
      ],
      "metadata": {
        "id": "94LfHjdYLSbr"
      },
      "id": "94LfHjdYLSbr"
    },
    {
      "cell_type": "markdown",
      "source": [
        "#### Unpacking Characters"
      ],
      "metadata": {
        "id": "BaaFwEWXLPvU"
      },
      "id": "BaaFwEWXLPvU"
    },
    {
      "cell_type": "code",
      "source": [
        "\n",
        "word = 'Python'\n",
        "a,b,c,d,e,f = word # unpacking sequence characters into variables\n",
        "print(a) # P\n",
        "print(b) # y\n",
        "print(c) # t\n",
        "print(d) # h\n",
        "print(e) # o\n",
        "print(f) # n\n"
      ],
      "metadata": {
        "id": "uFNI-qLQLKT1"
      },
      "id": "uFNI-qLQLKT1",
      "execution_count": null,
      "outputs": []
    },
    {
      "cell_type": "markdown",
      "source": [
        "#### Accessing Characters in Strings by Index\n",
        "\n",
        "In programming counting starts from zero. Therefore the first letter of a string is at zero index and the last letter of a string is the length of a string minus one."
      ],
      "metadata": {
        "id": "5am8V51kLAFq"
      },
      "id": "5am8V51kLAFq"
    },
    {
      "cell_type": "markdown",
      "source": [
        "![StringSequence.png](data:image/png;base64,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)"
      ],
      "metadata": {
        "id": "ihWiJm0QK339"
      },
      "id": "ihWiJm0QK339"
    },
    {
      "cell_type": "markdown",
      "metadata": {
        "id": "s_LQxSBH-_OM"
      },
      "source": [
        "**Indexing and Slicing: Accessing parts of the string**\n",
        "\n",
        "*Indexing*\n",
        "\n",
        "Strings can be indexed (subscripted), with the first character having index 0."
      ],
      "id": "s_LQxSBH-_OM"
    },
    {
      "cell_type": "code",
      "metadata": {
        "id": "NMutrhpW_JHj"
      },
      "source": [
        "word = \"Python\"\n",
        "print(word)"
      ],
      "execution_count": null,
      "outputs": [],
      "id": "NMutrhpW_JHj"
    },
    {
      "cell_type": "code",
      "metadata": {
        "id": "eA-1-Daz_KIm"
      },
      "source": [
        "word[0]  # character in position 0\n",
        "print(word[0])"
      ],
      "execution_count": null,
      "outputs": [],
      "id": "eA-1-Daz_KIm"
    },
    {
      "cell_type": "code",
      "metadata": {
        "id": "h_UxzEBS_LFz"
      },
      "source": [
        "word[1]\n",
        "print(word[1])"
      ],
      "execution_count": null,
      "outputs": [],
      "id": "h_UxzEBS_LFz"
    },
    {
      "cell_type": "code",
      "metadata": {
        "id": "RJFLNtXq_NyE"
      },
      "source": [
        "word[5]  # character in position 5\n",
        "print(word[5])"
      ],
      "execution_count": null,
      "outputs": [],
      "id": "RJFLNtXq_NyE"
    },
    {
      "cell_type": "markdown",
      "metadata": {
        "id": "m6QKaXak_P4b"
      },
      "source": [
        "**Negative indexing**\n",
        "\n",
        "Indices may also be negative numbers, to start counting from the right:"
      ],
      "id": "m6QKaXak_P4b"
    },
    {
      "cell_type": "code",
      "metadata": {
        "id": "jVKMT9Pu_Swt"
      },
      "source": [
        "word[-1]  # last character\n",
        "print(word[-1])"
      ],
      "execution_count": null,
      "outputs": [],
      "id": "jVKMT9Pu_Swt"
    },
    {
      "cell_type": "code",
      "metadata": {
        "id": "0uhFwRg8_TSC"
      },
      "source": [
        "word[-2]  # second-last character\n",
        "print(word[-2])"
      ],
      "execution_count": null,
      "outputs": [],
      "id": "0uhFwRg8_TSC"
    },
    {
      "cell_type": "code",
      "metadata": {
        "id": "LipPotqg_WV8"
      },
      "source": [
        "word[-6]\n",
        "print(word[-6])"
      ],
      "execution_count": null,
      "outputs": [],
      "id": "LipPotqg_WV8"
    },
    {
      "cell_type": "code",
      "source": [
        "\n",
        "word = 'Python'\n",
        "first_letter = word[0]\n",
        "print(first_letter) # P\n",
        "second_letter = word[1]\n",
        "print(second_letter) # y\n",
        "last_index = len(word) - 1\n",
        "last_letter = word[last_index]\n",
        "print(last_letter) # n\n"
      ],
      "metadata": {
        "id": "uRI5GcoHK1Mz"
      },
      "id": "uRI5GcoHK1Mz",
      "execution_count": null,
      "outputs": []
    },
    {
      "cell_type": "markdown",
      "source": [
        "If we want to start from the right end we can use negative indexing. -1 is the last index."
      ],
      "metadata": {
        "id": "UF78gOMHKloY"
      },
      "id": "UF78gOMHKloY"
    },
    {
      "cell_type": "code",
      "source": [
        "\n",
        "word = 'Python'\n",
        "last_letter = word[-1]\n",
        "print(last_letter) # n\n",
        "second_last = word[-2]\n",
        "print(second_last) # o\n"
      ],
      "metadata": {
        "id": "p2UVUqxVKhDv"
      },
      "id": "p2UVUqxVKhDv",
      "execution_count": null,
      "outputs": []
    },
    {
      "cell_type": "markdown",
      "source": [
        "#### Slicing Python Strings\n"
      ],
      "metadata": {
        "id": "YBrENLAPKbRC"
      },
      "id": "YBrENLAPKbRC"
    },
    {
      "cell_type": "markdown",
      "metadata": {
        "id": "YNLK2BcR_dZ0"
      },
      "source": [
        "In addition to indexing, slicing is also supported. While indexing is used to obtain individual characters, slicing allows you to obtain a substring:"
      ],
      "id": "YNLK2BcR_dZ0"
    },
    {
      "cell_type": "code",
      "source": [
        "word = \"Python\"\n",
        "print(word)"
      ],
      "metadata": {
        "id": "9ul6c2aE3mZR"
      },
      "id": "9ul6c2aE3mZR",
      "execution_count": null,
      "outputs": []
    },
    {
      "cell_type": "code",
      "metadata": {
        "id": "lEGnRmcc_hec"
      },
      "source": [
        "word[0:2]  # characters from position 0 (included) to 2 (excluded)\n",
        "print(word)\n",
        "print(word[0:2])"
      ],
      "execution_count": null,
      "outputs": [],
      "id": "lEGnRmcc_hec"
    },
    {
      "cell_type": "code",
      "metadata": {
        "id": "c-vZ4enO_ikd"
      },
      "source": [
        "word[2:5]  # characters from position 2 (included) to 5 (excluded)\n",
        "print(word)\n",
        "print(word[2:5])"
      ],
      "execution_count": null,
      "outputs": [],
      "id": "c-vZ4enO_ikd"
    },
    {
      "cell_type": "code",
      "metadata": {
        "id": "QqDml4cM_jhl"
      },
      "source": [
        "word[2:]  # characters from position 2 (included) to the end\n",
        "print(word[2:])"
      ],
      "execution_count": null,
      "outputs": [],
      "id": "QqDml4cM_jhl"
    },
    {
      "cell_type": "code",
      "metadata": {
        "id": "-SR2fWR6_kbc"
      },
      "source": [
        "word[:3]  # characters from beginning (position 0) to position 3 (excluded)\n",
        "print(word[:3])"
      ],
      "execution_count": null,
      "outputs": [],
      "id": "-SR2fWR6_kbc"
    },
    {
      "cell_type": "code",
      "metadata": {
        "id": "Dk2UmwqS_lZs"
      },
      "source": [
        "word[-3:]  # last three characters\n",
        "print(word[-3:])"
      ],
      "execution_count": null,
      "outputs": [],
      "id": "Dk2UmwqS_lZs"
    },
    {
      "cell_type": "code",
      "metadata": {
        "id": "RlmeDtZp_mVe"
      },
      "source": [
        "word[-3:-1]  # penultimate two characters\n",
        "print(word[-3:-1])"
      ],
      "execution_count": null,
      "outputs": [],
      "id": "RlmeDtZp_mVe"
    },
    {
      "cell_type": "code",
      "metadata": {
        "id": "wrmj4CjM_nbN"
      },
      "source": [
        "word[1:-1]\n",
        "print(word[1:-1])"
      ],
      "execution_count": null,
      "outputs": [],
      "id": "wrmj4CjM_nbN"
    },
    {
      "cell_type": "code",
      "source": [
        "\n",
        "word = 'Python'\n",
        "first_three = word[0:3] # starts at zero index and up to 3 but not include 3\n",
        "print(first_three) #Pyt\n",
        "last_three = word[3:6]\n",
        "print(last_three) # hon\n",
        "# Another way\n",
        "last_three = word[-3:]\n",
        "print(last_three)   # hon\n",
        "last_three = word[3:]\n",
        "print(last_three)   # hon\n"
      ],
      "metadata": {
        "id": "32K-00rUKYFS"
      },
      "id": "32K-00rUKYFS",
      "execution_count": null,
      "outputs": []
    },
    {
      "cell_type": "markdown",
      "source": [
        "#### Reversing a String\n",
        "\n",
        "We can easily reverse strings in python.\n"
      ],
      "metadata": {
        "id": "mIqNJHDsKTTd"
      },
      "id": "mIqNJHDsKTTd"
    },
    {
      "cell_type": "code",
      "source": [
        "\n",
        "greeting = 'Hello, World!'\n",
        "print(greeting[::-1]) # !dlroW ,olleH\n"
      ],
      "metadata": {
        "id": "rmK1BVKQKPe5"
      },
      "id": "rmK1BVKQKPe5",
      "execution_count": null,
      "outputs": []
    },
    {
      "cell_type": "markdown",
      "source": [
        "#### Skipping Characters While Slicing\n",
        "\n",
        "It is possible to skip characters while slicing by passing step argument to slice method.\n",
        "\n"
      ],
      "metadata": {
        "id": "D9aHNM8EJ_IZ"
      },
      "id": "D9aHNM8EJ_IZ"
    },
    {
      "cell_type": "code",
      "source": [
        "\n",
        "word = 'Python'\n",
        "pto = word[0:6:2] #\n",
        "print(pto) # Pto\n"
      ],
      "metadata": {
        "id": "gy2cQ2HJJ4TB"
      },
      "id": "gy2cQ2HJJ4TB",
      "execution_count": null,
      "outputs": []
    },
    {
      "cell_type": "markdown",
      "metadata": {
        "id": "UXMIUOSh_sEu"
      },
      "source": [
        "**Exercise**\n",
        "\n",
        "Assign the string 'Information and Data Management' to a Python variable.\n",
        "Print the word 'Information' by using the indexing/slicing approach.\n",
        "Print the word 'Data' by using the negative indexing/slicing approach."
      ],
      "id": "UXMIUOSh_sEu"
    },
    {
      "cell_type": "code",
      "metadata": {
        "id": "en6pJjjoAIWs"
      },
      "source": [
        "# here is my solution"
      ],
      "execution_count": null,
      "outputs": [],
      "id": "en6pJjjoAIWs"
    },
    {
      "cell_type": "markdown",
      "source": [
        "\n",
        "\n",
        "---\n",
        "\n"
      ],
      "metadata": {
        "id": "ZQEiXZTLJ5TP"
      },
      "id": "ZQEiXZTLJ5TP"
    },
    {
      "cell_type": "markdown",
      "source": [
        "### <font color=\"#D2691E\">BREAK</font>\n",
        "\n",
        "<font color=\"#D2691E\">Take a break before we proceed to discussing many of the methods that can be used with strings.</font>\n"
      ],
      "metadata": {
        "id": "DJkx6_-K9ATp"
      },
      "id": "DJkx6_-K9ATp"
    },
    {
      "cell_type": "markdown",
      "source": [
        "![CIS9650_PythonStrings_Fall_2024.png](data:image/png;base64,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)"
      ],
      "metadata": {
        "id": "VScrO0Nq_0Ti"
      },
      "id": "VScrO0Nq_0Ti"
    },
    {
      "cell_type": "markdown",
      "source": [
        "\n",
        "\n",
        "---\n",
        "\n"
      ],
      "metadata": {
        "id": "TzhnVlWyA-je"
      },
      "id": "TzhnVlWyA-je"
    },
    {
      "cell_type": "markdown",
      "source": [
        "### String Methods\n",
        "\n",
        "There are many string methods which allow us to format strings. See some of the string methods in the following example:\n"
      ],
      "metadata": {
        "id": "jufxPvvRJuj-"
      },
      "id": "jufxPvvRJuj-"
    },
    {
      "cell_type": "markdown",
      "source": [
        "#### String Methods - *Formatting*"
      ],
      "metadata": {
        "id": "46qlEMiMO2I9"
      },
      "id": "46qlEMiMO2I9"
    },
    {
      "cell_type": "markdown",
      "source": [
        "- strip(): Removes all given characters starting from the beginning and end of the string"
      ],
      "metadata": {
        "id": "4kTRaaYFeGCq"
      },
      "id": "4kTRaaYFeGCq"
    },
    {
      "cell_type": "code",
      "source": [
        "\n",
        "stringObject ='thirty days of pythoonnn'\n",
        "print(stringObject.strip('noth')) # 'irty days of py'\n"
      ],
      "metadata": {
        "id": "XrRlnmeXeC1a"
      },
      "id": "XrRlnmeXeC1a",
      "execution_count": null,
      "outputs": []
    },
    {
      "cell_type": "markdown",
      "source": [
        "- lower(): Converts the characters of the string to lower case"
      ],
      "metadata": {
        "id": "BF8aGcBQQmEy"
      },
      "id": "BF8aGcBQQmEy"
    },
    {
      "cell_type": "code",
      "source": [
        "\n",
        "stringObject ='Thirty Days of Python'\n",
        "print(stringObject.lower()) # 'thirty days of python'\n"
      ],
      "metadata": {
        "id": "AsCKqgsSQxCi"
      },
      "id": "AsCKqgsSQxCi",
      "execution_count": null,
      "outputs": []
    },
    {
      "cell_type": "markdown",
      "source": [
        "- upper(): Converts the characters of the string to UPPER CASE"
      ],
      "metadata": {
        "id": "u_TTx2BmQ2mt"
      },
      "id": "u_TTx2BmQ2mt"
    },
    {
      "cell_type": "code",
      "source": [
        "\n",
        "stringObject ='Thirty days of python'\n",
        "print(stringObject.upper()) # 'THIRTY DAYS OF PYTHON'\n"
      ],
      "metadata": {
        "id": "5EFABwczRAEA"
      },
      "id": "5EFABwczRAEA",
      "execution_count": null,
      "outputs": []
    },
    {
      "cell_type": "markdown",
      "source": [
        "- capitalize(): Converts the first character of the string to capital letter"
      ],
      "metadata": {
        "id": "aROhCfddJqCF"
      },
      "id": "aROhCfddJqCF"
    },
    {
      "cell_type": "code",
      "source": [
        "\n",
        "stringObject ='thirty days of python'\n",
        "print(stringObject.capitalize()) # 'Thirty days of python'\n"
      ],
      "metadata": {
        "id": "UIGJQcceJli1"
      },
      "id": "UIGJQcceJli1",
      "execution_count": null,
      "outputs": []
    },
    {
      "cell_type": "markdown",
      "source": [
        "- title(): Returns a title cased string"
      ],
      "metadata": {
        "id": "YTvLbI8NYzuu"
      },
      "id": "YTvLbI8NYzuu"
    },
    {
      "cell_type": "code",
      "source": [
        "\n",
        "stringObject ='thirty days of python'\n",
        "print(stringObject.title()) # Thirty Days Of Python\n"
      ],
      "metadata": {
        "id": "cAQqq8zMYwiN"
      },
      "id": "cAQqq8zMYwiN",
      "execution_count": null,
      "outputs": []
    },
    {
      "cell_type": "markdown",
      "source": [
        "- swapcase(): Converts all uppercase characters to lowercase and all lowercase characters to uppercase characters"
      ],
      "metadata": {
        "id": "rdlj6jAzYrwR"
      },
      "id": "rdlj6jAzYrwR"
    },
    {
      "cell_type": "code",
      "source": [
        "\n",
        "stringObject ='thirty days of python'\n",
        "print(stringObject.swapcase())   # THIRTY DAYS OF PYTHON\n",
        "stringObject ='Thirty Days Of Python'\n",
        "print(stringObject.swapcase())  # tHIRTY dAYS oF pYTHON\n"
      ],
      "metadata": {
        "id": "qNevm-3jYoBg"
      },
      "id": "qNevm-3jYoBg",
      "execution_count": null,
      "outputs": []
    },
    {
      "cell_type": "markdown",
      "source": [
        "- expandtabs(): Replaces tab character with spaces, default tab size is 8.\n",
        " It takes tab size argument"
      ],
      "metadata": {
        "id": "W14wpCMvJM0q"
      },
      "id": "W14wpCMvJM0q"
    },
    {
      "cell_type": "code",
      "source": [
        "\n",
        "stringObject ='thirty\\tdays\\tof\\tpython'\n",
        "print(stringObject.expandtabs())   # 'thirty  days    of      python'\n",
        "print(stringObject.expandtabs(10)) # 'thirty    days      of        python'\n"
      ],
      "metadata": {
        "id": "rKHlZmnwJJuu"
      },
      "id": "rKHlZmnwJJuu",
      "execution_count": null,
      "outputs": []
    },
    {
      "cell_type": "markdown",
      "source": [
        "- format(): An alternate means of embedding variable values in a string.  See the section of this notebook on `f-strings` for a preferred technique.  "
      ],
      "metadata": {
        "id": "quuRwugo5RIZ"
      },
      "id": "quuRwugo5RIZ"
    },
    {
      "cell_type": "code",
      "source": [
        "\n",
        "first_name = 'Taylor'\n",
        "last_name = 'Swift'\n",
        "age = 250\n",
        "job = 'cyclist'\n",
        "country = 'Finland'\n",
        "sentence = 'I am {} {}. I am a {}. I am {} years old. I live in {}.'.format(first_name, last_name, job, age, country)\n",
        "print(sentence) # I am Taylor Swift. I am 250 years old. I am a teacher. I live in Finland.\n"
      ],
      "metadata": {
        "id": "HftT9CIVIdsi"
      },
      "id": "HftT9CIVIdsi",
      "execution_count": null,
      "outputs": []
    },
    {
      "cell_type": "code",
      "source": [
        "radius = 10\n",
        "pi = 3.14\n",
        "area = pi * radius ** 2\n",
        "result = 'The area of a circle with radius {} is {}'.format(str(radius), str(area))\n",
        "print(result) # The area of a circle with radius 10 is 314"
      ],
      "metadata": {
        "id": "77s9BDVX5utH"
      },
      "id": "77s9BDVX5utH",
      "execution_count": null,
      "outputs": []
    },
    {
      "cell_type": "markdown",
      "source": [
        "#### String Methods - *Evaluation*  "
      ],
      "metadata": {
        "id": "5ZvfT89SPfP7"
      },
      "id": "5ZvfT89SPfP7"
    },
    {
      "cell_type": "markdown",
      "source": [
        "- count(): returns occurrences of substring in string, count(substring, start=.., end=..). The start is a starting indexing for counting and end is the last index to count."
      ],
      "metadata": {
        "id": "oMXNWo9GJhX9"
      },
      "id": "oMXNWo9GJhX9"
    },
    {
      "cell_type": "code",
      "source": [
        "\n",
        "stringObject ='thirty days of python'\n",
        "print(stringObject.count('y')) # 3\n",
        "print(stringObject.count('y', 7, 14)) # 1,\n",
        "print(stringObject.count('th')) # 2`\n"
      ],
      "metadata": {
        "id": "YlfJoB1eJbss"
      },
      "id": "YlfJoB1eJbss",
      "execution_count": null,
      "outputs": []
    },
    {
      "cell_type": "markdown",
      "source": [
        "#### String Methods - *Search*  "
      ],
      "metadata": {
        "id": "RfJRnoDQPWHe"
      },
      "id": "RfJRnoDQPWHe"
    },
    {
      "cell_type": "markdown",
      "source": [
        "- find(): Returns the index of the first occurrence of a substring, if not found returns -1"
      ],
      "metadata": {
        "id": "9Qzzj6k1I8uZ"
      },
      "id": "9Qzzj6k1I8uZ"
    },
    {
      "cell_type": "code",
      "source": [
        "\n",
        "stringObject ='thirty days of python'\n",
        "print(stringObject.find('y'))  # 5\n",
        "print(stringObject.find('th')) # 0\n",
        "print(stringObject.find('z')) # -1\n"
      ],
      "metadata": {
        "id": "cCTJl1chI5ot"
      },
      "id": "cCTJl1chI5ot",
      "execution_count": null,
      "outputs": []
    },
    {
      "cell_type": "markdown",
      "source": [
        "- rfind(): Returns the index of the last occurrence of a substring, if not found returns -1"
      ],
      "metadata": {
        "id": "EMNjvGcjI0xQ"
      },
      "id": "EMNjvGcjI0xQ"
    },
    {
      "cell_type": "code",
      "source": [
        "\n",
        "stringObject ='thirty days of python'\n",
        "print(stringObject.rfind('y'))  # 16\n",
        "print(stringObject.rfind('th')) # 17\n"
      ],
      "metadata": {
        "id": "-b49AT7sIv62"
      },
      "id": "-b49AT7sIv62",
      "execution_count": null,
      "outputs": []
    },
    {
      "cell_type": "markdown",
      "source": [
        "- index(): Returns the lowest index of a substring, additional arguments indicate starting and ending index (default 0 and string length - 1). If the substring is not found it raises a valueError.\n"
      ],
      "metadata": {
        "id": "aWWLgeavIYso"
      },
      "id": "aWWLgeavIYso"
    },
    {
      "cell_type": "code",
      "source": [
        "\n",
        "stringObject ='thirty days of python'\n",
        "sub_string = 'da'\n",
        "print(stringObject.index(sub_string,))  # 7\n"
      ],
      "metadata": {
        "id": "1mGYLBbJ_QHA"
      },
      "id": "1mGYLBbJ_QHA",
      "execution_count": null,
      "outputs": []
    },
    {
      "cell_type": "code",
      "source": [
        "print(stringObject.index(sub_string, 9)) # error"
      ],
      "metadata": {
        "id": "3iWYZn4lF6W_"
      },
      "id": "3iWYZn4lF6W_",
      "execution_count": null,
      "outputs": []
    },
    {
      "cell_type": "markdown",
      "source": [
        "- rindex(): Returns the highest index of a substring, additional arguments indicate starting and ending index (default 0 and string length - 1)"
      ],
      "metadata": {
        "id": "Uc6Y-b6Q_F8Z"
      },
      "id": "Uc6Y-b6Q_F8Z"
    },
    {
      "cell_type": "code",
      "source": [
        "\n",
        "stringObject ='thirty days of python'\n",
        "sub_string = 'da'\n",
        "print(stringObject.rindex(sub_string))  # 7\n",
        "print(stringObject.rindex('on', 8)) # 19\n"
      ],
      "metadata": {
        "id": "n87hlfm4_C9T"
      },
      "id": "n87hlfm4_C9T",
      "execution_count": null,
      "outputs": []
    },
    {
      "cell_type": "code",
      "source": [
        "print(stringObject.rindex(sub_string, 9)) # error"
      ],
      "metadata": {
        "id": "aGln4_2eF_Ps"
      },
      "id": "aGln4_2eF_Ps",
      "execution_count": null,
      "outputs": []
    },
    {
      "cell_type": "markdown",
      "source": [
        "#### String Methods - *Boolean*"
      ],
      "metadata": {
        "id": "LaJzgjdKPBh1"
      },
      "id": "LaJzgjdKPBh1"
    },
    {
      "cell_type": "markdown",
      "source": [
        "- startswith(): Checks if String Starts with the Specified String"
      ],
      "metadata": {
        "id": "Eh0lJPYjYegd"
      },
      "id": "Eh0lJPYjYegd"
    },
    {
      "cell_type": "code",
      "source": [
        "\n",
        "stringObject ='thirty days of python'\n",
        "print(stringObject.startswith('thirty')) # True\n",
        "\n",
        "stringObject ='30 days of python'\n",
        "print(stringObject.startswith('thirty')) # False\n"
      ],
      "metadata": {
        "id": "Ow568Ro8Yaon"
      },
      "id": "Ow568Ro8Yaon",
      "execution_count": null,
      "outputs": []
    },
    {
      "cell_type": "markdown",
      "source": [
        "- endswith(): Checks if a string ends with a specified ending"
      ],
      "metadata": {
        "id": "Osk1ndljcxIs"
      },
      "id": "Osk1ndljcxIs"
    },
    {
      "cell_type": "code",
      "source": [
        "\n",
        "stringObject ='thirty days of python'\n",
        "print(stringObject.endswith('on'))   # True\n",
        "print(stringObject.endswith('tion')) # False\n"
      ],
      "metadata": {
        "id": "dwyUtbKUcxIt"
      },
      "execution_count": null,
      "outputs": [],
      "id": "dwyUtbKUcxIt"
    },
    {
      "cell_type": "markdown",
      "source": [
        "- isalnum(): Checks alphanumeric character"
      ],
      "metadata": {
        "id": "rnsZS1Hf-8pF"
      },
      "id": "rnsZS1Hf-8pF"
    },
    {
      "cell_type": "code",
      "source": [
        "\n",
        "stringObject ='ThirtyDaysPython'\n",
        "print(stringObject.isalnum()) # True\n",
        "\n",
        "stringObject ='30DaysPython'\n",
        "print(stringObject.isalnum()) # True\n",
        "\n",
        "stringObject ='thirty days of python'\n",
        "print(stringObject.isalnum()) # False, space is not an alphanumeric character\n",
        "\n",
        "stringObject ='thirty days of python 2019'\n",
        "print(stringObject.isalnum()) # False\n"
      ],
      "metadata": {
        "id": "pnL14TNf-50e"
      },
      "id": "pnL14TNf-50e",
      "execution_count": null,
      "outputs": []
    },
    {
      "cell_type": "markdown",
      "source": [
        "- isalpha(): Checks if all string elements are alphabet characters (a-z and A-Z)"
      ],
      "metadata": {
        "id": "Qz0O_wFW-08l"
      },
      "id": "Qz0O_wFW-08l"
    },
    {
      "cell_type": "code",
      "source": [
        "\n",
        "stringObject ='thirty days of python'\n",
        "print(stringObject.isalpha()) # False, space is once again excluded\n",
        "stringObject ='ThirtyDaysPython'\n",
        "print(stringObject.isalpha()) # True\n",
        "num = '123'\n",
        "print(num.isalpha())      # False\n"
      ],
      "metadata": {
        "id": "Ct2J7Usz-x9x"
      },
      "id": "Ct2J7Usz-x9x",
      "execution_count": null,
      "outputs": []
    },
    {
      "cell_type": "markdown",
      "source": [
        "- isdecimal(): Checks if all characters in a string are decimal (0-9)"
      ],
      "metadata": {
        "id": "F70PNCBb-tNf"
      },
      "id": "F70PNCBb-tNf"
    },
    {
      "cell_type": "code",
      "source": [
        "\n",
        "stringObject ='thirty days of python'\n",
        "print(stringObject.isdecimal())  # False\n",
        "stringObject ='123'\n",
        "print(stringObject.isdecimal())  # True\n",
        "stringObject ='\\u00B2'\n",
        "print(stringObject.isdigit())   # False\n",
        "stringObject ='12 3'\n",
        "print(stringObject.isdecimal())  # False, space not allowed\n"
      ],
      "metadata": {
        "id": "TbIBAmsB-p5E"
      },
      "id": "TbIBAmsB-p5E",
      "execution_count": null,
      "outputs": []
    },
    {
      "cell_type": "markdown",
      "source": [
        "- isdigit(): Checks if all characters in a string are numbers (0-9 and some other unicode characters for numbers)"
      ],
      "metadata": {
        "id": "Y8rFYrNIe3qo"
      },
      "id": "Y8rFYrNIe3qo"
    },
    {
      "cell_type": "code",
      "source": [
        "\n",
        "stringObject ='Thirty'\n",
        "print(stringObject.isdigit()) # False\n",
        "stringObject ='30'\n",
        "print(stringObject.isdigit())   # True\n",
        "stringObject ='\\u00B2'\n",
        "print(stringObject.isdigit())   # True\n"
      ],
      "metadata": {
        "id": "X-38YsaXe0ma"
      },
      "id": "X-38YsaXe0ma",
      "execution_count": null,
      "outputs": []
    },
    {
      "cell_type": "markdown",
      "source": [
        "- isnumeric(): Checks if all characters in a string are numbers or number related (just like isdigit(), just accepts more symbols, like ½)"
      ],
      "metadata": {
        "id": "rIoYpp_yexCZ"
      },
      "id": "rIoYpp_yexCZ"
    },
    {
      "cell_type": "code",
      "source": [
        "\n",
        "num = '10'\n",
        "print(num.isnumeric()) # True\n",
        "num = '\\u00BD' # ½\n",
        "print(num.isnumeric()) # True\n",
        "num = '10.5'\n",
        "print(num.isnumeric()) # False\n"
      ],
      "metadata": {
        "id": "CXFQCIYIet3E"
      },
      "id": "CXFQCIYIet3E",
      "execution_count": null,
      "outputs": []
    },
    {
      "cell_type": "markdown",
      "source": [
        "- isidentifier(): Checks for a valid identifier - it checks if a string is a valid variable name"
      ],
      "metadata": {
        "id": "MYVv-hYGeqp3"
      },
      "id": "MYVv-hYGeqp3"
    },
    {
      "cell_type": "code",
      "source": [
        "\n",
        "stringObject ='30DaysOfPython'\n",
        "print(stringObject.isidentifier()) # False, because it starts with a number\n",
        "stringObject ='thirty_days_of_python'\n",
        "print(stringObject.isidentifier()) # True\n"
      ],
      "metadata": {
        "id": "mGrPwABNempp"
      },
      "id": "mGrPwABNempp",
      "execution_count": null,
      "outputs": []
    },
    {
      "cell_type": "markdown",
      "source": [
        "- islower(): Checks if all alphabet characters in the string are lowercase"
      ],
      "metadata": {
        "id": "XMUthoeOeiqd"
      },
      "id": "XMUthoeOeiqd"
    },
    {
      "cell_type": "code",
      "source": [
        "\n",
        "stringObject ='thirty days of python'\n",
        "print(stringObject.islower()) # True\n",
        "stringObject ='Thirty days of python'\n",
        "print(stringObject.islower()) # False\n"
      ],
      "metadata": {
        "id": "CCq7DpJrecw8"
      },
      "id": "CCq7DpJrecw8",
      "execution_count": null,
      "outputs": []
    },
    {
      "cell_type": "markdown",
      "source": [
        "- isupper(): Checks if all alphabet characters in the string are uppercase"
      ],
      "metadata": {
        "id": "B8jcFu1XeY-3"
      },
      "id": "B8jcFu1XeY-3"
    },
    {
      "cell_type": "code",
      "source": [
        "\n",
        "stringObject ='thirty days of python'\n",
        "print(stringObject.isupper()) #  False\n",
        "stringObject ='THIRTY DAYS OF PYTHON'\n",
        "print(stringObject.isupper()) # True\n"
      ],
      "metadata": {
        "id": "dtk3SGeVeV0j"
      },
      "id": "dtk3SGeVeV0j",
      "execution_count": null,
      "outputs": []
    },
    {
      "cell_type": "markdown",
      "source": [
        "#### String Methods - *Slice and Set Operations*"
      ],
      "metadata": {
        "id": "xQr7JAn8PIto"
      },
      "id": "xQr7JAn8PIto"
    },
    {
      "cell_type": "markdown",
      "source": [
        "Let's look at splitting and joining strings, using the `.split()` and `.join()` functions.\n",
        "\n",
        "* `longstring.split(separator)`: split the first string (longstring) at every occurrence of the second string (separator).  Returns a list (see below).\n",
        "* `connector.join(list)`: join is the \"reverse\" of split, and joins all the elements of the list, using the connector string in front. Returns a string."
      ],
      "metadata": {
        "id": "_kG6YtJY0MRR"
      },
      "id": "_kG6YtJY0MRR"
    },
    {
      "cell_type": "markdown",
      "source": [
        "- `split()`: Splits the string, using given string or space as a separator and returns a list of strings that resulted from the splitting.\n"
      ],
      "metadata": {
        "id": "IlSmuQCbY8cS"
      },
      "id": "IlSmuQCbY8cS"
    },
    {
      "cell_type": "code",
      "metadata": {
        "id": "0jN7V4Fd-RBU"
      },
      "source": [
        "print(\"practical data science\".split(\" \"))"
      ],
      "execution_count": null,
      "outputs": [],
      "id": "0jN7V4Fd-RBU"
    },
    {
      "cell_type": "markdown",
      "source": [
        "If we do not give the `.split()` method an argument, it uses a space (' ') as the delimiter for splitting."
      ],
      "metadata": {
        "id": "rVHZDP650ua8"
      },
      "id": "rVHZDP650ua8"
    },
    {
      "cell_type": "code",
      "source": [
        "\n",
        "stringObject ='thirty days of python'\n",
        "print(stringObject.split()) # ['thirty', 'days', 'of', 'python']\n"
      ],
      "metadata": {
        "id": "LBwFqIH3Y5h0"
      },
      "execution_count": null,
      "outputs": [],
      "id": "LBwFqIH3Y5h0"
    },
    {
      "cell_type": "markdown",
      "source": [
        "We can choose any character or sequence of characters to use as the argument for the `.split()` method."
      ],
      "metadata": {
        "id": "CWxlLsdJ07w2"
      },
      "id": "CWxlLsdJ07w2"
    },
    {
      "cell_type": "code",
      "source": [
        "\n",
        "stringObject ='thirty, days, of, python'\n",
        "print(stringObject.split(', ')) # ['thirty', 'days', 'of', 'python']\n"
      ],
      "metadata": {
        "id": "pRu__Fbu02yA"
      },
      "id": "pRu__Fbu02yA",
      "execution_count": null,
      "outputs": []
    },
    {
      "cell_type": "code",
      "metadata": {
        "id": "rw0Hrw76-Ywr"
      },
      "source": [
        "str_a =\"First Name\\tLast Name\\tEmail\"\n",
        "str_b =\"Aaron\\tRodgers\\taaron@nfl.com\"\n",
        "str_c =\"Giannis\\tAntetokounmpo\\tgiannis@nba.com\"\n",
        "print(str_a.split('\\t'))\n",
        "print(str_b.split('\\t'))\n",
        "print(str_c.split('\\t'))"
      ],
      "execution_count": null,
      "outputs": [],
      "id": "rw0Hrw76-Ywr"
    },
    {
      "cell_type": "code",
      "metadata": {
        "id": "UI8oUEP6-g08"
      },
      "source": [
        "#Notice that when we split a string and the delimiter\n",
        "#character does not appear, then we get back the string\n",
        "#itself, but converted into a list with a single element.\n",
        "\n",
        "print(\"hello\".split(\" \"))\n"
      ],
      "execution_count": null,
      "outputs": [],
      "id": "UI8oUEP6-g08"
    },
    {
      "cell_type": "markdown",
      "metadata": {
        "id": "Y90q7Y-A-w97"
      },
      "source": [
        "**Exercise**\n",
        "\n",
        "Consider the string billgates@microsoft.com. Write code that finds the username of the email address and the domain of the email address, using the split() command."
      ],
      "id": "Y90q7Y-A-w97"
    },
    {
      "cell_type": "code",
      "metadata": {
        "id": "CYEGia-kZh2J"
      },
      "source": [
        "# here is my solution"
      ],
      "execution_count": null,
      "outputs": [],
      "id": "CYEGia-kZh2J"
    },
    {
      "cell_type": "markdown",
      "source": [
        "We can also use the `.join()` method on a **connector** string and join together the strings provided as a list of arguments."
      ],
      "metadata": {
        "id": "B87jgmDl1wBU"
      },
      "id": "B87jgmDl1wBU"
    },
    {
      "cell_type": "markdown",
      "source": [
        "- join(): Returns a concatenated string"
      ],
      "metadata": {
        "id": "7MqY8byCeROA"
      },
      "id": "7MqY8byCeROA"
    },
    {
      "cell_type": "code",
      "source": [
        "\n",
        "web_tech = ['HTML', 'CSS', 'JavaScript', 'React']\n",
        "result = ' '.join(web_tech)\n",
        "print(result) # 'HTML CSS JavaScript React'\n"
      ],
      "metadata": {
        "id": "k98oyVyFeNgs"
      },
      "id": "k98oyVyFeNgs",
      "execution_count": null,
      "outputs": []
    },
    {
      "cell_type": "code",
      "source": [
        "\n",
        "web_tech = ['HTML', 'CSS', 'JavaScript', 'React']\n",
        "result = '#*#'.join(web_tech)\n",
        "print(result) # 'HTML# CSS# JavaScript# React'\n"
      ],
      "metadata": {
        "id": "zNvUs0YYl4iy"
      },
      "id": "zNvUs0YYl4iy",
      "execution_count": null,
      "outputs": []
    },
    {
      "cell_type": "markdown",
      "source": [
        "We can search for a character or sequence of characters (a sub-string) within a string and replace instances of it with a new string, provided as a second argument to the `.replace()` method.  "
      ],
      "metadata": {
        "id": "ubc7qwgi2K4O"
      },
      "id": "ubc7qwgi2K4O"
    },
    {
      "cell_type": "markdown",
      "source": [
        "- replace(): Replaces a substring with a given string"
      ],
      "metadata": {
        "id": "cB1wTsE8d9Xm"
      },
      "id": "cB1wTsE8d9Xm"
    },
    {
      "cell_type": "code",
      "source": [
        "\n",
        "stringObject ='thirty days of python'\n",
        "print(stringObject.replace('python', 'coding')) # 'thirty days of coding'\n"
      ],
      "metadata": {
        "id": "Syfl4sHod4vZ"
      },
      "id": "Syfl4sHod4vZ",
      "execution_count": null,
      "outputs": []
    },
    {
      "cell_type": "markdown",
      "source": [
        "If we provide an empty string as the second argument to the `.replace()` method, we essentially remove any instances of the sub-string from the string."
      ],
      "metadata": {
        "id": "a1lXoQgV2eM5"
      },
      "id": "a1lXoQgV2eM5"
    },
    {
      "cell_type": "code",
      "source": [
        "\n",
        "stringObject ='I was typo typing and typo made typo many mistakes typo.'\n",
        "print(stringObject.replace(\" typo\", \"\")) # 'I was typing and made many mistakes.'\n"
      ],
      "metadata": {
        "id": "PUJbcmBa2f7z"
      },
      "id": "PUJbcmBa2f7z",
      "execution_count": null,
      "outputs": []
    },
    {
      "cell_type": "markdown",
      "source": [
        "\n",
        "\n",
        "---\n",
        "\n"
      ],
      "metadata": {
        "id": "7eD8gKvw6-cX"
      },
      "id": "7eD8gKvw6-cX"
    },
    {
      "cell_type": "markdown",
      "source": [
        "**Exercise**  \n",
        "  \n",
        "Using the `glkBabe` string of the lyrics to \"Good Luck Babe\", what Python code could be used to determine how many times the word 'good' is used?  Write your code so that the word 'good' is counted regardless of the case in which it occurs (lower, upper, title, etc.)  "
      ],
      "metadata": {
        "id": "3W23fGNY7AEa"
      },
      "id": "3W23fGNY7AEa"
    },
    {
      "cell_type": "code",
      "source": [
        "glkBabe = ''' \"Good Luck, Babe!\"\n",
        "It's fine, it's cool\n",
        "You can say that we are nothing, but you know the truth\n",
        "And guess I'm the fool\n",
        "With her arms out like an angel through the car sunroof\n",
        "\n",
        "I don't wanna call it off\n",
        "But you don't wanna call it love\n",
        "You only wanna be the one that I call \"baby\"\n",
        "\n",
        "You can kiss a hundred boys in bars\n",
        "Shoot another shot, try to stop the feeling\n",
        "You can say it's just the way you are\n",
        "Make a new excuse, another stupid reason\n",
        "Good luck, babe (Well, good luck)\n",
        "Well, good luck, babe (Well, good luck)\n",
        "You'd have to stop the world just to stop the feeling\n",
        "Good luck, babe (Well, good luck)\n",
        "Well, good luck, babe (Well, good luck)\n",
        "You'd have to stop the world just to stop the feeling\n",
        "\n",
        "I'm cliché, who cares?\n",
        "It's a sexually explicit kind of love affair\n",
        "And I cry, it's not fair\n",
        "I just need a little lovin', I just need a little air\n",
        "\n",
        "Think I'm gonna call it off\n",
        "Even if you call it love\n",
        "I just wanna love someone who calls me \"baby\"\n",
        "\n",
        "You can kiss a hundred boys in bars\n",
        "Shoot another shot, try to stop the feeling\n",
        "You can say it's just the way you are\n",
        "Make a new excuse, another stupid reason\n",
        "Good luck, babe (Well, good luck)\n",
        "Well, good luck, babe (Well, good luck)\n",
        "You'd have to stop the world just to stop the feeling\n",
        "Good luck, babe (Well, good luck)\n",
        "Well, good luck, babe (Well, good luck)\n",
        "You'd have to stop the world just to stop the feeling\n",
        "\n",
        "When you wake up next to him in the middle of the night\n",
        "With your head in your hands, you're nothing more than his wife\n",
        "And when you think about me, all of those years ago\n",
        "You're standing face to face with \"I told you so\"\n",
        "You know I hate to say it, I told you so\n",
        "You know I hate to say, but I told you so\n",
        "'''"
      ],
      "metadata": {
        "id": "mWmClSoS7jnW"
      },
      "id": "mWmClSoS7jnW",
      "execution_count": null,
      "outputs": []
    },
    {
      "cell_type": "code",
      "source": [
        "# My code here\n"
      ],
      "metadata": {
        "id": "QygDzlW174ZQ"
      },
      "id": "QygDzlW174ZQ",
      "execution_count": null,
      "outputs": []
    },
    {
      "cell_type": "markdown",
      "source": [
        "\n",
        "\n",
        "---\n",
        "\n"
      ],
      "metadata": {
        "id": "ArSiRu20XPUR"
      },
      "id": "ArSiRu20XPUR"
    },
    {
      "cell_type": "markdown",
      "source": [
        "Here are some more exercises..."
      ],
      "metadata": {
        "id": "Am-8LBIu8o16"
      },
      "id": "Am-8LBIu8o16"
    },
    {
      "cell_type": "markdown",
      "source": [
        "\n",
        "## 💻 Exercises - Strings\n",
        "\n",
        "1. Concatenate the string 'Thirty', 'Days', 'Of', 'Python' to a single string, 'Thirty Days Of Python'.\n",
        "2. Concatenate the string 'Coding', 'For' , 'All' to a single string, 'Coding For All'.\n",
        "3. Declare a variable named company and assign it to an initial value \"Coding For All\".\n",
        "4. Print the variable company using _print()_.\n",
        "5. Print the length of the company string using _len()_ method and _print()_.\n",
        "6. Change all the characters to uppercase letters using _upper()_ method.\n",
        "7. Change all the characters to lowercase letters using _lower()_ method.\n",
        "8. Use capitalize(), title(), swapcase() methods to format the value of the string _Coding For All_.\n",
        "9. Cut(slice) out the first word of _Coding For All_ string.\n",
        "10. Check if _Coding For All_ string contains a word Coding using the method index, find or other methods.\n",
        "11. Replace the word coding in the string 'Coding For All' to Python.\n",
        "12. Change Python for Everyone to Python for All using the replace method or other methods.\n",
        "13. Split the string 'Coding For All' using space as the separator (split()) .\n",
        "14. \"Facebook, Google, Microsoft, Apple, IBM, Oracle, Amazon\" split the string at the comma.\n",
        "15. What is the character at index 0 in the string _Coding For All_.\n",
        "16. What is the last index of the string _Coding For All_.\n",
        "17. What character is at index 10 in \"Coding For All\" string.\n",
        "18. Create an acronym or an abbreviation for the name 'Python For Everyone'.\n",
        "19. Create an acronym or an abbreviation for the name 'Coding For All'.\n",
        "20. Use index to determine the position of the first occurrence of C in Coding For All.\n",
        "21. Use index to determine the position of the first occurrence of F in Coding For All.\n",
        "22. Use rfind to determine the position of the last occurrence of l in Coding For All People.\n",
        "23. Use index or find to find the position of the first occurrence of the word 'because' in the following sentence: 'You cannot end a sentence with because because because is a conjunction'\n",
        "24. Use rindex to find the position of the last occurrence of the word because in the following sentence: 'You cannot end a sentence with because because because is a conjunction'\n",
        "25. Slice out the phrase 'because because because' in the following sentence: 'You cannot end a sentence with because because because is a conjunction'\n",
        "26. Find the position of the first occurrence of the word 'because' in the following sentence: 'You cannot end a sentence with because because because is a conjunction'\n",
        "27. Slice out the phrase 'because because because' in the following sentence: 'You cannot end a sentence with because because because is a conjunction'\n",
        "28. Does '\\'Coding For All' start with a substring _Coding_?\n",
        "29. Does 'Coding For All' end with a substring _coding_?\n",
        "30. '&nbsp;&nbsp; Coding For All &nbsp;&nbsp;&nbsp; &nbsp;' &nbsp;, remove the left and right trailing spaces in the given string.\n",
        "31. Which one of the following variables return True when we use the method isidentifier():\n",
        "    - 30DaysOfPython\n",
        "    - thirty_days_of_python\n",
        "32. The following list contains the names of some of python libraries: ['Django', 'Flask', 'Bottle', 'Pyramid', 'Falcon']. Join the list with a hash with space string.\n",
        "33. Use the new line escape sequence to separate the following sentences.\n",
        "    \n",
        "    I am enjoying this stringObject.\n",
        "    I just wonder what is next.\n",
        "    \n",
        "34. Use a tab escape sequence to write the following lines.\n",
        "    \n",
        "    Name      Age     Country   City\n",
        "    Taylor  250     Finland   Helsinki\n",
        "    \n",
        "35. Use the string formatting method to display the following:"
      ],
      "metadata": {
        "id": "oKCK7T4LXN6j"
      },
      "id": "oKCK7T4LXN6j"
    },
    {
      "cell_type": "markdown",
      "source": [
        "```\n",
        "radius = 10\n",
        "area = 3.14 * radius ** 2\n",
        "The area of a circle with radius 10 is 314 meters square.\n",
        "```"
      ],
      "metadata": {
        "id": "U2q_HJa7mEDf"
      },
      "id": "U2q_HJa7mEDf"
    },
    {
      "cell_type": "markdown",
      "id": "1cbbbe9f",
      "metadata": {
        "id": "1cbbbe9f"
      },
      "source": [
        "36. Make the following using string formatting methods:"
      ]
    },
    {
      "cell_type": "markdown",
      "source": [
        "```\n",
        "8 + 6 = 14\n",
        "8 - 6 = 2\n",
        "8 * 6 = 48\n",
        "8 / 6 = 1.33\n",
        "8 % 6 = 2\n",
        "8 // 6 = 1\n",
        "8 ** 6 = 262144\n",
        "```"
      ],
      "metadata": {
        "id": "8Ch70k0ul-rA"
      },
      "id": "8Ch70k0ul-rA"
    },
    {
      "cell_type": "markdown",
      "source": [
        "\n",
        "\n",
        "---\n",
        "\n"
      ],
      "metadata": {
        "id": "QZ_QEY0xOrsD"
      },
      "id": "QZ_QEY0xOrsD"
    },
    {
      "cell_type": "markdown",
      "source": [
        "##Appendix - An Older Way to Format Strings"
      ],
      "metadata": {
        "id": "GLdwQ8oJtBT1"
      },
      "id": "GLdwQ8oJtBT1"
    },
    {
      "cell_type": "markdown",
      "source": [
        "You may run into older programs, written before Python 3.6, that formatted strings in a different way.  The old way of formatting strings can be awkward to work with, but an example is presented here so that you can understand it and be aware of it.  Do not write your programs using this technique because it will make maintenance of your code by others cumbersome."
      ],
      "metadata": {
        "id": "C2vD2vE2tIbc"
      },
      "id": "C2vD2vE2tIbc"
    },
    {
      "cell_type": "markdown",
      "source": [
        "#### <font color=red>Old Style String Formatting</font>    \n",
        "<font color=red>`(% Operator)`</font>\n",
        "\n",
        "In Python there are many ways of formatting strings. In this section, we will an older technique.  This older method uses % to insert values. Although it’s less common in modern Python, it’s still supported for backward compatibility.  \n",
        "  \n",
        "The \"%\" operator is used to format a set of variables enclosed in a \"tuple\" (a fixed size list), together with a format string, which contains normal text together with \"argument specifiers\", special symbols like \"%s\", \"%d\", \"%f\", \"%.<small>number of digits</small>f\".\n",
        "\n",
        "- %s - String (or any object with a string representation, like numbers)\n",
        "- %d - Integers\n",
        "- %f - Floating point numbers\n",
        "- \"%.<small>number of digits</small>f\" - Floating point numbers with fixed precision\n"
      ],
      "metadata": {
        "id": "TbARLRhYL_su"
      },
      "id": "TbARLRhYL_su"
    },
    {
      "cell_type": "code",
      "source": [
        "\n",
        "name = \"Charlie\"\n",
        "age = 28\n",
        "# note the use of `s` to denote a string and `d` for integer in the next line\n",
        "message = \"My name is %s and I am %d years old.\" % (name, age)\n",
        "print(message)  # Output: My name is Charlie and I am 28 years old.\n"
      ],
      "metadata": {
        "id": "o6zXWclAy8dE"
      },
      "id": "o6zXWclAy8dE",
      "execution_count": null,
      "outputs": []
    },
    {
      "cell_type": "markdown",
      "source": [
        "Here are some more examples."
      ],
      "metadata": {
        "id": "DXEmrCRczOWi"
      },
      "id": "DXEmrCRczOWi"
    },
    {
      "cell_type": "code",
      "source": [
        "\n",
        "# Strings only\n",
        "first_name = 'Taylor'\n",
        "last_name = 'Swift'\n",
        "word = 'Python'\n",
        "formated_string = 'I am %s %s. I teach %s' %(first_name, last_name, word)\n",
        "print(formated_string)\n"
      ],
      "metadata": {
        "id": "Tf80vXFuL5Yh"
      },
      "execution_count": null,
      "outputs": [],
      "id": "Tf80vXFuL5Yh"
    },
    {
      "cell_type": "code",
      "source": [
        "\n",
        "# Strings  and numbers\n",
        "radius = 10\n",
        "pi = 3.14\n",
        "area = pi * radius ** 2\n",
        "formated_string = 'The area of circle with a radius %d is %.2f.' %(radius, area) # 2 refers the 2 significant digits after the point\n",
        "print(formated_string) # The area of circle with a radius 10 is 314.00.\n"
      ],
      "metadata": {
        "id": "aecgXwEbzVpv"
      },
      "id": "aecgXwEbzVpv",
      "execution_count": null,
      "outputs": []
    },
    {
      "cell_type": "code",
      "source": [
        "\n",
        "# Strings  and numbers\n",
        "python_libraries = ['Django', 'Flask', 'NumPy', 'Matplotlib','Pandas']\n",
        "formated_string = 'The following are python libraries:%s' % (python_libraries)\n",
        "print(formated_string) # \"The following are python libraries:['Django', 'Flask', 'NumPy', 'Matplotlib','Pandas']\"\n"
      ],
      "metadata": {
        "id": "4RruufMzzWf4"
      },
      "id": "4RruufMzzWf4",
      "execution_count": null,
      "outputs": []
    },
    {
      "cell_type": "markdown",
      "source": [
        "\n",
        "---\n",
        "\n"
      ],
      "metadata": {
        "id": "cH_dNMl5tn0r"
      },
      "id": "cH_dNMl5tn0r"
    }
  ],
  "metadata": {
    "jupytext": {
      "cell_metadata_filter": "-all",
      "main_language": "sh",
      "notebook_metadata_filter": "-all"
    },
    "colab": {
      "provenance": [],
      "include_colab_link": true
    },
    "language_info": {
      "name": "python"
    },
    "kernelspec": {
      "name": "python3",
      "display_name": "Python 3"
    }
  },
  "nbformat": 4,
  "nbformat_minor": 5
}
