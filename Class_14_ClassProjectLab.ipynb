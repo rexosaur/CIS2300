{
  "nbformat": 4,
  "nbformat_minor": 0,
  "metadata": {
    "colab": {
      "provenance": [],
      "include_colab_link": true
    },
    "kernelspec": {
      "name": "python3",
      "display_name": "Python 3"
    }
  },
  "cells": [
    {
      "cell_type": "markdown",
      "metadata": {
        "id": "view-in-github",
        "colab_type": "text"
      },
      "source": [
        "<a href=\"https://colab.research.google.com/github/ProfessorPatrickSlatraigh/CIS2300/blob/main/CST2312_H11_Spr2025_Class_14_ClassProjectLab.ipynb\" target=\"_parent\"><img src=\"https://colab.research.google.com/assets/colab-badge.svg\" alt=\"Open In Colab\"/></a>"
      ]
    },
    {
      "cell_type": "markdown",
      "metadata": {
        "id": "geogQir6sKrY"
      },
      "source": [
        "# **CST2312 Lab: Class Project - Data Sources**\n",
        "**Spring 2025 - HD32, Class 14**\n",
        "\n",
        "This notebook on Colab at [`https://bit.ly/cst2312cl14`](https://bit.ly/cst2312cl14)\n",
        "\n",
        "Updated content as of | 15-Mar-2023 | 20-Mar-2025 |   \n",
        "\n",
        "\n",
        "\n",
        "\n",
        "\n"
      ]
    },
    {
      "cell_type": "markdown",
      "source": [
        "\n",
        "\n",
        "---\n",
        "\n"
      ],
      "metadata": {
        "id": "AoV2g05yiMSl"
      }
    },
    {
      "cell_type": "markdown",
      "source": [
        "#RESOURCES    \n",
        "**<h2>Data Sources to Consider</h2>**   \n",
        "\n",
        "* **General/Broad Data Sources** - Data sources across disciplines, time periods, and geographies\n",
        "* **Free API Data Sources, Including News Feeds** - A variety of free Application Program Interface (API) sources organized by category, including current news sources  \n",
        "* **Government and Political** -- Many global datasets; UN financial institution with investments and data on developing countries     \n",
        "* **Business and Commerce** - Better Business Bureau provides several APIs to research businesses, customer reviews, and complaints    \n",
        "* **Curated Lists of Job Search APIs** -- links to various APIs for job boards and other job search resources.    \n",
        "* **Finance** - Time-series market data and a variety of data sources about public companies    \n",
        "* **Real Estate and Rentals** - AirBnB and other real estate and rental data    \n",
        "* **Social Media** - Social media postings and data from Twitter, etc.   \n",
        "* **Literary and Arts** - Open-source text of works of literature    \n",
        "* **Crime and Safety** - Aggregated law enforcement data from across the United States    \n",
        "* **Health and Wellness Data** - Various data sources     \n",
        "* **Weather and Climate** - Various data sources    \n",
        "* **Travel and Transport** - AirBnB, travel, and transport data sources    \n",
        "* **Traffic** - Data sources for information on traffic conditions -- some data may be in [Keyhole Markup Language **KML**](https://en.wikipedia.org/wiki/Keyhole_Markup_Language)  or  [Keyhole Markup Zipped **KMZ**](https://en.wikipedia.org/wiki/KMZ) formats.     \n",
        "* **Geolocation** - Data sources on Named Entity : Longitude/Lattitude maps, and other location-specific data   \n",
        "   \n",
        "\n",
        "*note: **Google** curates a [catalog of open data sources](google.com/publicdata/directory)*\n"
      ],
      "metadata": {
        "id": "-YoveV6YiBs_"
      }
    },
    {
      "cell_type": "markdown",
      "source": [
        "###<u>General/Broad Data Sources</u>    \n"
      ],
      "metadata": {
        "id": "U8y5BPxJiBtA"
      }
    },
    {
      "cell_type": "markdown",
      "source": [
        "####Data World    \n",
        "\n",
        "Data aggregator and tool provide with (free) limited Community Edition, (paid) Professional Edition, and (paid) Enterprise Plans at:  [data.world](https://data.world/pricing)"
      ],
      "metadata": {
        "id": "9QwiQm12iBtA"
      }
    },
    {
      "cell_type": "markdown",
      "source": [
        "####Google Dataset Search    \n",
        "\n",
        "Facility provided by Google to search specifically for open data sets, available at:    \n",
        "\n",
        "`https://datasetsearch.research.google.com/`    \n",
        "\n"
      ],
      "metadata": {
        "id": "oVYtih_jiBtB"
      }
    },
    {
      "cell_type": "markdown",
      "source": [
        "####Google Catalog of Open Data    \n",
        "\n",
        "place Google Catalog of Open Data info and links here.\n",
        "\n",
        "See `https://www.google.com/publicdata/directory` for the home page.    \n",
        "\n",
        "\n"
      ],
      "metadata": {
        "id": "PSV0oxMXiBtB"
      }
    },
    {
      "cell_type": "markdown",
      "source": [
        "####Kaggle     \n",
        "\n",
        "The following dataset contains five years of data regarding Netflix's stock prices. Ranging from February 5th, 2018 - February 5th, 2022.\n",
        "\n",
        "https://www.kaggle.com/datasets/jainilcoder/netflix-stock-price-prediction"
      ],
      "metadata": {
        "id": "_Z8j-I1KiBtB"
      }
    },
    {
      "cell_type": "markdown",
      "source": [
        "####Our World in Data (OWID)    \n",
        "\n",
        "\n",
        "See the OWID Frequently Asked Questions at: https://ourworldindata.org/faqs    \n"
      ],
      "metadata": {
        "id": "LnWO5UIwiBtB"
      }
    },
    {
      "cell_type": "markdown",
      "source": [
        "####Scholarly Research\n",
        "\n",
        "*from CUNY Mina Rees Library*\n",
        "\n",
        "\n",
        "See: https://libguides.gc.cuny.edu/c.php?g=405353&p=4857784\n",
        "\n",
        "*...or search for 'CUNY, Library Guides, Digital Tools and Techniques, Scholarly Research APIs'*    \n"
      ],
      "metadata": {
        "id": "8dsFvBTwiBtB"
      }
    },
    {
      "cell_type": "markdown",
      "source": [
        "####Statista     \n",
        "\n",
        "Paid service for customized research data and online commerce data at: [statista.com.](https://www.statista.com)    \n",
        "\n",
        "a portal for all things statistical including data that can be downloaded in a variety of file formats, reports, and infographics.    \n",
        "\n",
        "Statista is geared to students as well as professionals. Unlike many of our other resources, Statista has business and marketing data.    \n",
        "\n",
        "Access within the CityTech network may be available at:    \n",
        "`http://citytech.ezproxy.cuny.edu:2048/login?url=http://www.statista.com`\n",
        "\n"
      ],
      "metadata": {
        "id": "1j9QGxMEiBtB"
      }
    },
    {
      "cell_type": "markdown",
      "source": [
        "####UCI - University of California Irvine    \n",
        "\n",
        "[UCI Machine Learning Repository](https://archive-beta.ics.uci.edu/) is a popular platform for finding datasets for any data science project. Just like Kaggle, you can search for any dataset here by searching for your project topic. You will also find popular and new datasets here that you can use to practice as a beginner in data science.    \n"
      ],
      "metadata": {
        "id": "A4SDE-M7iBtB"
      }
    },
    {
      "cell_type": "markdown",
      "source": [
        "###<u>Free API Data Sources, Including News Feeds</u>  \n",
        "  \n",
        "A variety of free Application Program Interface (API) sources organized by category, including current news sources  \n"
      ],
      "metadata": {
        "id": "_eo1CJmHiBtC"
      }
    },
    {
      "cell_type": "markdown",
      "source": [
        "####<u>API Sources By Category</b>  \n",
        "  "
      ],
      "metadata": {
        "id": "FbCZN_ojiBtC"
      }
    },
    {
      "cell_type": "markdown",
      "source": [
        "Select a category and review available sources at: https://free-apis.github.io/#/categories"
      ],
      "metadata": {
        "id": "LkiXft3hiBtC"
      }
    },
    {
      "cell_type": "markdown",
      "source": [
        "####<u>Free APIs For News Sources</u>    \n",
        "  "
      ],
      "metadata": {
        "id": "bAoFctFriBtC"
      }
    },
    {
      "cell_type": "markdown",
      "source": [
        "Review the sources at: https://free-apis.github.io/#/categories/News  \n",
        "  "
      ],
      "metadata": {
        "id": "rNonmGhxiBtC"
      }
    },
    {
      "cell_type": "markdown",
      "source": [
        "###<u>Government and Political Data</u>    "
      ],
      "metadata": {
        "id": "6QNx4aExiBtC"
      }
    },
    {
      "cell_type": "markdown",
      "source": [
        "####**Worldwide**"
      ],
      "metadata": {
        "id": "N6pE_i_KiBtD"
      }
    },
    {
      "cell_type": "markdown",
      "source": [
        "####United Nations (UNdata)       \n",
        "\n",
        "\n",
        "\n",
        "**UNdata API** provides dynamic, programmatic access to data within the UNdata platform. Developers can use the API to dynamically query UNdata to obtain the latest data and display the result on a Web page, download to local storage for further processing, etc.\n",
        "\n",
        "**UNdata API** is powered by Eurostat’s SDMX Reference Infrastructure (SDMX-RI). The API is implemented as a REST and SOAP Web Service that can be used to query the datamarts using the SDMX standard. The API is governed by UNdata Terms of Use.\n",
        "\n",
        "**How To Use UNdata API**\n",
        "If you want to query data from UNData API we have two options for you. You can use REST API or the SOAP web service. In any of these cases it is recommended that you get familiarized with the main SDMX artifacts such as DataFlow, Codelist, Agency, Structure, etc.     \n",
        "\n",
        "\n",
        "Details at:  http://data.un.org/Host.aspx?Content=API    \n",
        "\n"
      ],
      "metadata": {
        "id": "j-iYpqn-iBtD"
      }
    },
    {
      "cell_type": "markdown",
      "source": [
        "####**United States of America**"
      ],
      "metadata": {
        "id": "HbIu4LKiiBtE"
      }
    },
    {
      "cell_type": "markdown",
      "source": [
        "####Data.gov    \n",
        "\n",
        "The [Data.gov](https://data.gov ) program was started by the President of the United States in 2009 to provide open access to unclassified government data. These data are produced by all departments including:    \n",
        "\n",
        "* Executive Branch    \n",
        "* White House    \n",
        "* Cabinet Level Departments    \n",
        "* and other levels of governments    \n",
        "\n",
        "\n",
        "The datasets uploaded here can be used for Data Science projects like:\n",
        "* Economic Growth\n",
        "* Environmental Changes\n",
        "* Quality of Life and many more.     \n",
        "\n",
        "Like the data.gov you can also get data from other countries for the same data science project ideas on a different country, such as:    \n",
        "\n",
        "* **[data.gov.uk](https://data.gov.uk)**    \n",
        "* **[open.canada.ca](https://open.canada.ca)**    \n",
        "\n"
      ],
      "metadata": {
        "id": "cpRuHx-NiBtE"
      }
    },
    {
      "cell_type": "markdown",
      "source": [
        "####U.S. Census Bureau Data     \n",
        "\n",
        "Like other countries, the US Census is also held in every ten years. The data collected by the US Census is available at [census.gov](https://census.gov). This dataset can be used if you want to do any marketing or advertising related data science project. You can use this data for classification related projects also, where you can classify people according to:    \n",
        "\n",
        "* Age    \n",
        "* Income    \n",
        "* Household Size    \n",
        "* Gender    \n",
        "* Education    \n",
        "\n"
      ],
      "metadata": {
        "id": "8VhcLe4ZiBtE"
      }
    },
    {
      "cell_type": "markdown",
      "source": [
        "####US Census: Current Population Survey - CPS\n",
        "\n",
        "\n",
        "The [Current Population Survey - CPS](https://census.gov/programs-surveys/cps.html) is sponsored jointly by the U.S. Census Bureau and the U.S. Bureau of Labor Statistics (BLS). It is the primary source of labor force statistics for the population of the United States.   \n",
        "    \n",
        "    \n",
        "The CPS is a monthly household survey of about 60,000 households used to gather labor-related data. It is the basis of the unemployment number published by BLS. Along with labor force status (employed, unemployed, not in the  labor force), the CPS collects information on earnings in the 4th and 8th month of interview. The income measured in the CPS reflects the weekly earnings of wage and salary workers of the week of the 12th of the month. The CPS earnings include:    \n",
        "    \n",
        "* overtime    \n",
        "* commission    \n",
        "* tips    \n",
        "* *excludes self-employed earnings*        \n",
        "    "
      ],
      "metadata": {
        "id": "50QME_wSiBtE"
      }
    },
    {
      "cell_type": "markdown",
      "source": [
        "####**New York**"
      ],
      "metadata": {
        "id": "eqOxXBbAiBtF"
      }
    },
    {
      "cell_type": "markdown",
      "source": [
        "#### NYC Open Data    \n",
        "\n",
        "*accessible with Socrata*\n",
        "\n",
        "\n",
        "Example - 311 Service Requests from 2010 to Present :\n",
        "\n",
        "https://dev.socrata.com/foundry/data.cityofnewyork.us/erm2-nwe9\n",
        "\n",
        "Socrata Developer's Account :\n",
        "\n",
        "https://dev.socrata.com/\n",
        "\n",
        "Accessing NYC Open Data on LVNGD Blog*\n",
        "\n",
        "https://lvngd.com/blog/accessing-nyc-open-data-with-python-and-the-socrata-open-data-api/\n",
        "\n",
        "*note: the LVNGD blog is outdated with respect to some small details but presents the concepts clearly.*     \n",
        "\n"
      ],
      "metadata": {
        "id": "dwCIiqOiiBtF"
      }
    },
    {
      "cell_type": "markdown",
      "source": [
        "**[See the NYC Open Data Gallery](https://opendata.cityofnewyork.us/projects/) for great ideas about data science projects using open data.**    \n"
      ],
      "metadata": {
        "id": "3sgclJWQiBtF"
      }
    },
    {
      "cell_type": "markdown",
      "source": [
        "###<u>Business and Commercial Data</u>"
      ],
      "metadata": {
        "id": "MEi8o5NaiBtF"
      }
    },
    {
      "cell_type": "markdown",
      "source": [
        "####Better Business Bureau (BBB)    \n",
        "\n",
        "Provides information on businesses in the U.S. at [several APIs](https://apievangelist.com/2016/08/04/thinking-about-the-better-business-bureau-api-in-context-of-the-overall-api-economy/), including:    \n",
        "\n",
        "* **[Organization Search](https://developers.bbb.org/documentation/endpoints/organization-search/)** - This endpoint will allow you to search for Organizations that are known to the BBB.  Organizations may include businesses or charities.    \n",
        "* **[Organization Collections](https://developers.bbb.org/documentation/endpoints/organization-collections/)** - BBB Partners will need to be able to identify collections of Organizations that they care about and be able to manage those collections and receive Organization info and updates on them as needed.     \n",
        "* **[Bulk Retrieval](https://developers.bbb.org/documentation/endpoints/bulk-retrieval/)** - This section defines the message specification that will be sent back to the API partners who request a bulk data transfer.     \n",
        "* **[Push Notifications](https://developers.bbb.org/documentation/endpoints/push-notifications/)** - BBB Partners have the need to be notified when BBB data updates occur for the records or a collection of records they are currently subscribed to.     \n",
        "* **[BBB Investigation/Application for Accreditation](https://developers.bbb.org/documentation/endpoints/bbb-investigation-application-for-accreditation/)** - This endpoint allows submission of organizations for BBB investigation and application for BBB accreditation.     \n",
        "\n"
      ],
      "metadata": {
        "id": "d38ImxWNiBtF"
      }
    },
    {
      "cell_type": "markdown",
      "source": [
        "####UN ILOSTAT    \n",
        "**[International Labour Statistics](https://ilostat.ilo.org/)**    \n",
        "\n",
        "**from the United Nations**    \n",
        "\n"
      ],
      "metadata": {
        "id": "n6UBKKWAiBtF"
      }
    },
    {
      "cell_type": "markdown",
      "source": [
        "####U.S. Bureau of Labor Statistics (BLS)    \n",
        "\n",
        "The Bureau of Labor Statistics' (**BLS**) Public Data Application Programming Interface (**API**) gives the public access to economic data from all **BLS** programs. It is the Bureau's hope that talented developers and programmers will use the **BLS** Public Data API to create original, inventive applications with published **BLS** data.\n",
        "\n",
        "The **BLS** Public Data API is currently available in two versions. Version 2.0 requires registration and allows users to access more data more frequently. Users may add calculations and annual averages to requests, and series description information is available for many **BLS** surveys. Version 1.0 is a more limited API that does not require registration and is open for public use.\n",
        "\n",
        "Using **BLS** API Signatures, developers and programmers can retrieve published historical timeseries data in JSON data-interchange or XLSX format. The **BLS** Public API utilizes two HTTP request-response mechanisms to retrieve data: GET and POST. GET requests data from a specified source. POST submits data to a specified resource to be processed. The BLS Public Data API uses GET to request a single piece of information and POST for all other requests.\n",
        "\n",
        "*note: more online at https://www.bls.gov/*"
      ],
      "metadata": {
        "id": "M_scHEc9iBtG"
      }
    },
    {
      "cell_type": "markdown",
      "source": [
        "####Website Credibility  \n",
        "\n",
        "[<b>APIvoid.com</b>](https://www.apivoid.com/api/site-trustworthiness/)   \n",
        "\n",
        "Check the credibility of websites.  25 free API queries with registration.  After that, this is a paid service.  \n"
      ],
      "metadata": {
        "id": "lodZIj2uiBtG"
      }
    },
    {
      "cell_type": "markdown",
      "source": [
        "###<u>Curated Lists of Job Search APIs</u>    \n"
      ],
      "metadata": {
        "id": "Rj8VuDrUiBtG"
      }
    },
    {
      "cell_type": "markdown",
      "source": [
        "####'Job Search API Basics' by [Google](https://cloud.google.com/talent-solution/job-search/v3/docs/basics)     "
      ],
      "metadata": {
        "id": "qeq3GjX2iBtG"
      }
    },
    {
      "cell_type": "markdown",
      "source": [
        "####'90 Job Search APIs' by [AImultiple](https://aimultiple.com/job-search-api)      \n",
        "\n"
      ],
      "metadata": {
        "id": "2BxtE9E1iBtG"
      }
    },
    {
      "cell_type": "markdown",
      "source": [
        "####'Monster Job Search API Toolkit' by [Programmable Web](https://www.programmableweb.com/api/monster-web-services-toolkit-rpc-api-v1)      \n"
      ],
      "metadata": {
        "id": "f4Z3XtAtiBtG"
      }
    },
    {
      "cell_type": "markdown",
      "source": [
        "####[Indeed Developer Portal](https://developer.indeed.com/)     \n"
      ],
      "metadata": {
        "id": "lsc6ymdkiBtG"
      }
    },
    {
      "cell_type": "markdown",
      "source": [
        "---"
      ],
      "metadata": {
        "id": "DzLS1T6biBtG"
      }
    },
    {
      "cell_type": "markdown",
      "source": [
        "###<u>Financial Data</u>"
      ],
      "metadata": {
        "id": "jgNNqTE3iBtH"
      }
    },
    {
      "cell_type": "markdown",
      "source": [
        "####EDGAR (U.S. SEC)    \n",
        "\n",
        "`https://www.sec.gov/edgar/search-and-access`\n",
        "\n",
        "You can search information collected by the SEC using a variety of search tools. EDGAR full text search. New versatile tool lets you search for keywords and phrases in over 20 years of EDGAR filings, and filter by date, company, person, filing category, or location.; Boolean and advanced searching, including addresses.\n",
        "  \n"
      ],
      "metadata": {
        "id": "4a3sSPQkiBtH"
      }
    },
    {
      "cell_type": "markdown",
      "source": [
        "####World Bank    \n",
        "\n",
        "The world bank data is an international financial institution run by the United Nations. It is a statutory body that provides loans to developing countries. You can get the dataset made available by world bank from [data.worldbank.org](https://data.worldbank.org).    \n",
        "\n",
        "You can use the data made available by world bank for Data Science projects, such as:    \n",
        "\n",
        "* Agricultural and Rural Development analysis\n",
        "* Economic Growth Analysis\n",
        "* Science and Technological growth\n",
        "* The poverty level of a country"
      ],
      "metadata": {
        "id": "ZpkFntaXiBtH"
      }
    },
    {
      "cell_type": "markdown",
      "source": [
        "#### Yahoo Finance       \n",
        "\n",
        "\n",
        "Real time low latency Yahoo Finance API for stock market, crypto currencies, and currency exchange.\n",
        "\n",
        "Nearly a dozen sources for different metrics and data related to financial markets at: https://www.yahoofinanceapi.com/\n",
        "\n",
        "\n",
        "\n"
      ],
      "metadata": {
        "id": "5mHRIoOaiBtH"
      }
    },
    {
      "cell_type": "markdown",
      "source": [
        "###Real Estate and Rental    "
      ],
      "metadata": {
        "id": "47TMo25PiBtH"
      }
    },
    {
      "cell_type": "markdown",
      "source": [
        "####AirBnB courtesy of **OpenAirBnB**\n",
        "\n",
        "See how **AirBnB** is affecting local neighborhoods at [OpenAirBnB](http://insideairbnb.com/)    "
      ],
      "metadata": {
        "id": "ALQxnc8UiBtH"
      }
    },
    {
      "cell_type": "markdown",
      "source": [
        "###<u>Literary and Arts Data</u>    "
      ],
      "metadata": {
        "id": "mOZTk3QRiBtH"
      }
    },
    {
      "cell_type": "markdown",
      "source": [
        "####Project Gutenberg     \n",
        "\n",
        "To search for books with available text: https://www.gutenberg.org/ebooks/\n",
        "\n",
        "See [Jonathan Reeve's site](https://jonreeve.com/2017/06/project-gutenberg-the-database/) for information about text mining using Project Gutenberg.  \n"
      ],
      "metadata": {
        "id": "nH5T1OIXiBtH"
      }
    },
    {
      "cell_type": "markdown",
      "source": [
        "###<u>Crime and Safety Data</u>"
      ],
      "metadata": {
        "id": "pVAckTcNiBtH"
      }
    },
    {
      "cell_type": "markdown",
      "source": [
        "####FBI Uniform Crime Reporting (UCR)    \n",
        "\n",
        "Aggregate data from law enforcement across the United States at: https://www.fbi.gov/services/cjis/ucr    \n"
      ],
      "metadata": {
        "id": "wHSPWne-iBtI"
      }
    },
    {
      "cell_type": "markdown",
      "source": [
        "###<u>Social Media Data</u>"
      ],
      "metadata": {
        "id": "tXnOlJSTiBtI"
      }
    },
    {
      "cell_type": "markdown",
      "source": [
        "####Twitter    \n",
        "\n",
        "Twitter APIs handle enormous amounts of data.\n",
        "\n",
        "The Twitter ensures this data is secured for developers and users alike is through authentication.\n",
        "\n",
        "There are a few methods for authentication:\n",
        "\n",
        "*   OAuth 1.0a User Context\n",
        "*   OAuth 2.0 Bearer Token\n",
        "*   Basic Authentication\n",
        "\n",
        "\n",
        "https://developer.twitter.com/en/docs/authentication/overview\n",
        "\n",
        "https://developer.twitter.com/en/docs/apps/overview\n",
        "\n",
        "https://developer.twitter.com/en/docs/twitter-api\n"
      ],
      "metadata": {
        "id": "fm5rtUcCiBtI"
      }
    },
    {
      "cell_type": "markdown",
      "source": [
        "###<u>Health and Wellness Data</u>    \n",
        "\n"
      ],
      "metadata": {
        "id": "cologma-iBtI"
      }
    },
    {
      "cell_type": "markdown",
      "source": [
        "####The Human Mortality Database   \n",
        "\n",
        "See the information online at: https://www.mortality.org/"
      ],
      "metadata": {
        "id": "szzoHLT6iBtI"
      }
    },
    {
      "cell_type": "markdown",
      "source": [
        "####New York State Open Health Data    \n",
        "\n",
        "See the NYS Open Data information online at: https://www.health.data.ny.gov/    \n",
        "    "
      ],
      "metadata": {
        "id": "GML3LSRKiBtI"
      }
    },
    {
      "cell_type": "markdown",
      "source": [
        "###<u>Climate and Weather Data</u>    "
      ],
      "metadata": {
        "id": "kngKVticiBtI"
      }
    },
    {
      "cell_type": "markdown",
      "source": [
        "####Global Carbon Project     \n",
        "\n",
        "See the catalog of Global Carbon Project data sources at: https://www.globalcarbonproject.org/products/internetresources.htm#Data    \n"
      ],
      "metadata": {
        "id": "9QRKXyF5iBtI"
      }
    },
    {
      "cell_type": "markdown",
      "source": [
        "####NASA (National Aeronautic and Space Administration)    \n",
        "\n",
        "All of the datasets available at [nasa.gov](https://nasa.gov) have been continuously growing with the advancements of satellites and communication technologies. Now Nasa generates terabytes of data every day, which is equivalent to millions of mp3 files.    \n",
        "\n",
        "You can use datasets available at Nasa for Data Science projects such as:    \n",
        "\n",
        "* Astronomy and Space Analysis\n",
        "* Climate change analysis\n",
        "* Life Sciences\n",
        "* Geology"
      ],
      "metadata": {
        "id": "XQn-yOb7iBtI"
      }
    },
    {
      "cell_type": "markdown",
      "source": [
        "<b>Need some inspiration from NASA?</b>  \n",
        "<i>Try: [the NASA Earth Observatory](https://earthobservatory.nasa.gov/)</i>"
      ],
      "metadata": {
        "id": "nk9tXGaDiBtJ"
      }
    },
    {
      "cell_type": "markdown",
      "source": [
        "####NOAA GeoPlatform\n",
        "\n",
        "[NOAA's Geoplatform](https://www.climate.gov/maps-data/all) - Data, maps, analytics on weather for U.S. National Oceanographic and Atmospheric Administration.     \n"
      ],
      "metadata": {
        "id": "rNkGRnODiBtJ"
      }
    },
    {
      "cell_type": "markdown",
      "source": [
        "####WeatherBit\n",
        "\n",
        "[WeatherBit](https://www.weatherbit.io) - Stratightforward API for weather history.     "
      ],
      "metadata": {
        "id": "rnZqUqx9iBtJ"
      }
    },
    {
      "cell_type": "markdown",
      "source": [
        "####Open Weather Map\n",
        "\n",
        "[OpenWeatherMap](https://openweathermap.org/weathermap) - Dynamic weather maps.    \n",
        "OpenWeatherMap for data about the weather. [Documentation](http://openweathermap.org/current#geo).     \n",
        "\n",
        "OpenWeatherMap contains parameters as part of the URL, including an `appid` which is a key that is used to limit the number of calls that can be issued by a single application.\n",
        "\n",
        "*(Note: The `%20` is a transformation for the space (` `) character in URLs.)*\n",
        "\n",
        "[**You will need to get an API key**](https://openweathermap.org/price)    \n",
        "\n",
        "\n"
      ],
      "metadata": {
        "id": "Io7SC-YIiBtJ"
      }
    },
    {
      "cell_type": "markdown",
      "source": [
        "####Virtual Crossing Weather\n",
        "\n",
        "[Virtual Crossing](https://virtualcrossing.com)     \n",
        "\n",
        "Visual Crossing is a leading provider of weather data and enterprise analysis tools to data scientists, business analysts, professionals, and academics. Founded in 2003, their mission has always been to empower data consumers and analysts to make better decisions based on high-quality, easy-to-access data.    \n",
        "\n",
        "[**You will need to get a (free) API key**](https://www.visualcrossing.com/weather-data-editions).    \n",
        "\n"
      ],
      "metadata": {
        "id": "VHCu5nK6iBtJ"
      }
    },
    {
      "cell_type": "markdown",
      "source": [
        "###<u>Travel and Transport</u>    "
      ],
      "metadata": {
        "id": "OXaxt5i-iBtJ"
      }
    },
    {
      "cell_type": "markdown",
      "source": [
        "####AirBnB  \n",
        "\n",
        "Data provided by [**AirBnB**](http://insideairbnb.com)    \n"
      ],
      "metadata": {
        "id": "uHW5YnlliBtJ"
      }
    },
    {
      "cell_type": "markdown",
      "source": [
        "###<u>Traffic</u>    \n",
        "\n",
        "Data sources for information on traffic conditions -- some data may be in [Keyhole Markup Language **KML**](https://en.wikipedia.org/wiki/Keyhole_Markup_Language)  or  [Keyhole Markup Zipped **KMZ**](https://en.wikipedia.org/wiki/KMZ) formats.     "
      ],
      "metadata": {
        "id": "mxQQ3UypiBtJ"
      }
    },
    {
      "cell_type": "markdown",
      "source": [
        "---  "
      ],
      "metadata": {
        "id": "hrAl-rTtiBtJ"
      }
    },
    {
      "cell_type": "markdown",
      "source": [
        "###<u>Map and Geographic Data</u>\n"
      ],
      "metadata": {
        "id": "teJPYHskiBtK"
      }
    },
    {
      "cell_type": "markdown",
      "source": [
        "####[Natural Earth Vector repos](https://github.com/nvkelso/natural-earth-vector/)    \n",
        "Provides a variety of well-curated `geojson` and other vector files for mapping.      \n",
        "This resource is maintained by volunteers, open source, and free.   \n",
        "The **GitHub** repos are maintained and explained by [Natural Earth](https://www.naturalearthdata.com/features/)      "
      ],
      "metadata": {
        "id": "TLHxIPPxiBtK"
      }
    },
    {
      "cell_type": "markdown",
      "source": [
        "####OpenDataSoft    \n",
        "\n",
        "[Map data for USA states and counties](https://public.opendatasoft.com/explore/dataset/georef-united-states-of-america-county/)      "
      ],
      "metadata": {
        "id": "1E0dn1friBtK"
      }
    },
    {
      "cell_type": "markdown",
      "source": [
        "####GeoJSON Viewer/Builder from MapBox     \n",
        "\n",
        "Use this free online resource to inspect, test, and refine `geojson` files:    \n",
        "\n",
        " o [GeoJSON.io by MapBox](https://geojson.io/#map=2/0/20)\n"
      ],
      "metadata": {
        "id": "Fwz_q1jfiBtL"
      }
    },
    {
      "cell_type": "markdown",
      "source": [
        "####GeoJson and KML Data     \n",
        "GeoJason and KML data for the United States in available in varying levels of detail by state, county, and congressional district from the following:    \n",
        "* [**GEOJSON AND KML DATA FOR THE UNITED STATES**](https://eric.clst.org/tech/usgeojson/)    \n"
      ],
      "metadata": {
        "id": "JHlW5CEbiBtL"
      }
    },
    {
      "cell_type": "markdown",
      "source": [
        "####BaseMaps     \n",
        "\n",
        "Leaflet basemaps are available from the following:    \n",
        "\n",
        "* [**Github: leaflet-extras**](https://leaflet-extras.github.io/leaflet-providers/preview/)      \n"
      ],
      "metadata": {
        "id": "B8uYmU2-iBtL"
      }
    },
    {
      "cell_type": "markdown",
      "source": [
        "####geoIP Resolution    \n",
        "\n",
        "**geoIP resolution** - takes the IP of a device and returns back its location.\n",
        "\n",
        "You will need to get an API here from here: https://ipstack.com/    \n"
      ],
      "metadata": {
        "id": "_3jTFR5niBtL"
      }
    },
    {
      "cell_type": "markdown",
      "source": [
        "####WiFi(SSID), Bluetooth, Mobile Phone Geo-Location    \n",
        "\n",
        "**Wigle** - uses crowdsourced war-driving data to geo-locate the SSID or other broadcast identifier of a device and returns back its location.    \n",
        "\n",
        "You will need to get an API here from here: https://api.wigle.net/        "
      ],
      "metadata": {
        "id": "SAC9bA3ciBtL"
      }
    },
    {
      "cell_type": "markdown",
      "source": [
        "####Geo-Location APIs      \n",
        "\n",
        "*This section is a work-in-progress*    "
      ],
      "metadata": {
        "id": "8aXJyuQqiBtL"
      }
    },
    {
      "cell_type": "markdown",
      "source": [
        "\n",
        "**leaflet API**    \n",
        "\n",
        "Leaflet API documentation on objects, methods, parameters, and more available from the following:    \n",
        "\n",
        "* [**Leaflet - an open-source JavaScript library for mobile-friendly interactive maps**](https://leafletjs.com/reference-1.6.0.html#path-option)   "
      ],
      "metadata": {
        "id": "jOT9k_NSiBtL"
      }
    },
    {
      "cell_type": "markdown",
      "source": [
        "---"
      ],
      "metadata": {
        "id": "wejW5SAiviba"
      }
    }
  ]
}
