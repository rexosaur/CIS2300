{
  "nbformat": 4,
  "nbformat_minor": 0,
  "metadata": {
    "colab": {
      "provenance": [],
      "include_colab_link": true
    },
    "kernelspec": {
      "name": "python3",
      "display_name": "Python 3"
    },
    "language_info": {
      "name": "python"
    }
  },
  "cells": [
    {
      "cell_type": "markdown",
      "metadata": {
        "id": "view-in-github",
        "colab_type": "text"
      },
      "source": [
        "<a href=\"https://colab.research.google.com/github/ProfessorPatrickSlatraigh/CIS2300/blob/main/CIS2300_Chapter7_Strings_27_Feb_2025.ipynb\" target=\"_parent\"><img src=\"https://colab.research.google.com/assets/colab-badge.svg\" alt=\"Open In Colab\"/></a>"
      ]
    },
    {
      "cell_type": "markdown",
      "source": [
        "# CIS2300: Chapter 7 -  Introduction to Strings     \n",
        "\n",
        "by Professor Patrick J. Slattery, 15-Apr-2022 | updated: 09-Sep-2023 | 26-Feb-2025      \n",
        "  \n",
        "A student copy of this Colab notebook is available at [bit.ly/cis2300chapter7](https://bit.ly/cis2300chapter7)  \n"
      ],
      "metadata": {
        "id": "20K1shWcuLx7"
      }
    },
    {
      "cell_type": "markdown",
      "source": [
        "\n",
        "\n",
        "---\n",
        "\n"
      ],
      "metadata": {
        "id": "lMVj0WF91ZHE"
      }
    },
    {
      "cell_type": "markdown",
      "metadata": {
        "id": "qWiMNwGe3tnu"
      },
      "source": [
        "# Strings as Lists    \n"
      ]
    },
    {
      "cell_type": "markdown",
      "metadata": {
        "id": "Zm1ey-Og6IgI"
      },
      "source": [
        "    What about strings?\n",
        "\n",
        "Assign a string value to the variable **s**:\n",
        "\n",
        "`s = 'Hello'`\n",
        "\n",
        "Try it.  What type is the variable **s**?\n",
        "\n",
        "What does Python return when you print **s**[0]?\n",
        "\n",
        "What does Python return when you print **s**[2:]?\n",
        "\n",
        "What does Python return when you print **s**[:2]?\n",
        "\n"
      ]
    },
    {
      "cell_type": "code",
      "source": [
        "# Quick examples of docstrings\n",
        "doc_string = \"\"\"Hello\n",
        "Hello again\"\"\"\n",
        "# doc_string = '''Hello\n",
        "# Hello again'''"
      ],
      "metadata": {
        "id": "fWmsJfgwTaKw"
      },
      "execution_count": null,
      "outputs": []
    },
    {
      "cell_type": "code",
      "metadata": {
        "id": "ZvRZNRHhB_dm"
      },
      "source": [
        "type(doc_string)"
      ],
      "execution_count": null,
      "outputs": []
    },
    {
      "cell_type": "code",
      "source": [
        "print(doc_string)"
      ],
      "metadata": {
        "id": "lIZ2bSMaT8kJ"
      },
      "execution_count": null,
      "outputs": []
    },
    {
      "cell_type": "code",
      "source": [
        "# docstrings are what give us the `help()` content of functions\n",
        "print(help(type))"
      ],
      "metadata": {
        "id": "CjHGwL2CVAJX"
      },
      "execution_count": null,
      "outputs": []
    },
    {
      "cell_type": "code",
      "metadata": {
        "id": "sS_wtXleBo9U"
      },
      "source": [
        "# s = 'Hello'\n",
        "s = \"Hello\""
      ],
      "execution_count": null,
      "outputs": []
    },
    {
      "cell_type": "code",
      "source": [
        "type(s)"
      ],
      "metadata": {
        "id": "U1GoWUf_Tdc9"
      },
      "execution_count": null,
      "outputs": []
    },
    {
      "cell_type": "code",
      "metadata": {
        "id": "pd-10QoLBqiJ"
      },
      "source": [
        "print(s[0])\n",
        "print(s[2:])\n",
        "print(s[:2])"
      ],
      "execution_count": null,
      "outputs": []
    },
    {
      "cell_type": "code",
      "source": [
        "print(s[:])"
      ],
      "metadata": {
        "id": "Ob3XlGLdyaVF"
      },
      "execution_count": null,
      "outputs": []
    },
    {
      "cell_type": "markdown",
      "metadata": {
        "id": "tdsyVjCr6_IF"
      },
      "source": [
        "The string **s** is a form of a list where each character is an element in the list."
      ]
    },
    {
      "cell_type": "markdown",
      "metadata": {
        "id": "1Onzxr-D7Epr"
      },
      "source": [
        "![PPT-single-slide_for-colab.png](data:image/png;base64,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)"
      ]
    },
    {
      "cell_type": "markdown",
      "metadata": {
        "id": "qoZSydUW7Ki6"
      },
      "source": [
        "What if we assigned a single character to the second element of the string **s**?"
      ]
    },
    {
      "cell_type": "code",
      "metadata": {
        "id": "T2_cu0WKCxRB"
      },
      "source": [
        "s[1] = 'o' # trying to replace the letter 'e' with the letter 'o'"
      ],
      "execution_count": null,
      "outputs": []
    },
    {
      "cell_type": "markdown",
      "metadata": {
        "id": "4LbYAQ4Q8rn6"
      },
      "source": [
        "What about using the **:** wildcard character to refer to slices of a string?"
      ]
    },
    {
      "cell_type": "code",
      "metadata": {
        "id": "Ar6zsEdzDFpq"
      },
      "source": [
        "print(s[::])\n",
        "print(s[:])\n",
        "print(s[0:])"
      ],
      "execution_count": null,
      "outputs": []
    },
    {
      "cell_type": "markdown",
      "metadata": {
        "id": "KzPI001k8Bin"
      },
      "source": [
        "We learn that strings are a special form of lists.\n",
        "\n",
        "*   Strings are sequences of elements\n",
        "*   Elements in a string are each individual character\n",
        "*   String elements are referred to by their index in square brackets []\n",
        "*   The colon : is a special index value used to identify the start or end\n",
        "*   Strings are objects which can be assigned to other objects\n",
        "*   Individual elements in a string cannot be assigned with new values – that is, lists are immutable (they cannot be changed)\n",
        "\n"
      ]
    },
    {
      "cell_type": "markdown",
      "metadata": {
        "id": "U4at4t22FFR_"
      },
      "source": [
        "Here are some terms to remember:\n",
        "\n",
        "*   **Sequences** are ordered arrangements of elements\n",
        "*   **Lists** are a form of **Sequence** with individual elements which may be of different types or classes\n",
        "*   **Strings** are **Sequences** of elements called **Characters**\n",
        "*   **Elements** are separate members of a **Sequence**\n",
        "*   **Indices** (index numbers) are values which indicate the position of an **element** in a **sequence** (**List** or **String**)\n",
        "*   **Elements** are referred to by their index in Square Brackets **[]**\n",
        "*   The **Colon :** is a special index value used to identify the start or end\n",
        "*   Lists are **mutable**\n",
        "*   Strings are **immutable**\n"
      ]
    },
    {
      "cell_type": "markdown",
      "source": [
        "\n",
        "\n",
        "---\n",
        "\n"
      ],
      "metadata": {
        "id": "F4j7_bH828ek"
      }
    },
    {
      "cell_type": "markdown",
      "source": [
        "**Examples** from:\n",
        "# Lesson 7 (Strings)    \n",
        "*was old lesson 6*    \n",
        "of Python For Everybody (p4e.com/lessons)"
      ],
      "metadata": {
        "id": "iv07BnAYzGal"
      }
    },
    {
      "cell_type": "markdown",
      "metadata": {
        "id": "qaKrHtZ20cqY"
      },
      "source": [
        "### 7(6).1 A string is a sequence"
      ]
    },
    {
      "cell_type": "code",
      "execution_count": null,
      "metadata": {
        "id": "W4wRng1N0cqY"
      },
      "outputs": [],
      "source": [
        "fruit = 'banana'"
      ]
    },
    {
      "cell_type": "code",
      "execution_count": null,
      "metadata": {
        "id": "fTZfsV2f0cqZ"
      },
      "outputs": [],
      "source": [
        "letter = fruit[0]\n",
        "print(letter)"
      ]
    },
    {
      "cell_type": "code",
      "execution_count": null,
      "metadata": {
        "id": "VJEU1Z5u0cqa"
      },
      "outputs": [],
      "source": [
        "letter = fruit[1]\n",
        "print(letter)"
      ]
    },
    {
      "cell_type": "code",
      "execution_count": null,
      "metadata": {
        "id": "94YEUBvk0cqa"
      },
      "outputs": [],
      "source": [
        "letter = fruit[1.5]"
      ]
    },
    {
      "cell_type": "code",
      "source": [
        "fruit[7+3-5]"
      ],
      "metadata": {
        "id": "GJA4A1kizzxG"
      },
      "execution_count": null,
      "outputs": []
    },
    {
      "cell_type": "markdown",
      "metadata": {
        "id": "FPYNa4SD0cqa"
      },
      "source": [
        "#### String Indexes\n",
        "\n",
        "b  -  a  -  n  -  a  -  n  -  a\n",
        "\n",
        "[0] - [1] - [2] - [3] - [4] - [5]"
      ]
    },
    {
      "cell_type": "markdown",
      "metadata": {
        "id": "EpZjPezJ0cqa"
      },
      "source": [
        "### 7(6).2 Getting the length of a string using `len()`"
      ]
    },
    {
      "cell_type": "code",
      "execution_count": null,
      "metadata": {
        "id": "bxzZug8m0cqb"
      },
      "outputs": [],
      "source": [
        "fruit = 'banana'\n",
        "len(fruit)"
      ]
    },
    {
      "cell_type": "code",
      "execution_count": null,
      "metadata": {
        "id": "ldrRUMmS0cqb"
      },
      "outputs": [],
      "source": [
        "length = len(fruit)\n",
        "last = fruit[length]\n",
        "# To get the last character, you have to subtract 1 from length"
      ]
    },
    {
      "cell_type": "code",
      "execution_count": null,
      "metadata": {
        "id": "eeICxbIs0cqb"
      },
      "outputs": [],
      "source": [
        "length = len(fruit)\n",
        "last = fruit[length-1]\n",
        "print(last)"
      ]
    },
    {
      "cell_type": "code",
      "source": [
        "fruit[-3:]"
      ],
      "metadata": {
        "id": "FhlrwDqC1s20"
      },
      "execution_count": null,
      "outputs": []
    },
    {
      "cell_type": "markdown",
      "metadata": {
        "id": "erLJrv8l0cqc"
      },
      "source": [
        "### 7(6).3 Traversal through a string with a loop"
      ]
    },
    {
      "cell_type": "code",
      "execution_count": null,
      "metadata": {
        "id": "Z937VuWj0cqc"
      },
      "outputs": [],
      "source": [
        "# using while loop\n",
        "\n",
        "index = 0\n",
        "while index < len(fruit):\n",
        "    letter = fruit[index]\n",
        "    print(letter)\n",
        "    index = index + 1"
      ]
    },
    {
      "cell_type": "code",
      "execution_count": null,
      "metadata": {
        "id": "-PQWAwHr0cqc"
      },
      "outputs": [],
      "source": [
        "# using for loop\n",
        "\n",
        "for char in fruit:\n",
        "    print(char)"
      ]
    },
    {
      "cell_type": "code",
      "source": [
        "char"
      ],
      "metadata": {
        "id": "Z5uC4nVN2PdY"
      },
      "execution_count": null,
      "outputs": []
    },
    {
      "cell_type": "markdown",
      "metadata": {
        "id": "mgCKeY7W0cqc"
      },
      "source": [
        "### 7(6).4 String slices"
      ]
    },
    {
      "cell_type": "code",
      "execution_count": null,
      "metadata": {
        "id": "vUOyf-il0cqc"
      },
      "outputs": [],
      "source": [
        "s = 'Monty Python'"
      ]
    },
    {
      "cell_type": "code",
      "execution_count": null,
      "metadata": {
        "id": "8nOhMNXl0cqd"
      },
      "outputs": [],
      "source": [
        "print(s[0:5])"
      ]
    },
    {
      "cell_type": "code",
      "execution_count": null,
      "metadata": {
        "id": "Ci7gvz5b0cqd"
      },
      "outputs": [],
      "source": [
        "print(s[6:12])"
      ]
    },
    {
      "cell_type": "code",
      "execution_count": null,
      "metadata": {
        "id": "Fe8reIQm0cqd"
      },
      "outputs": [],
      "source": [
        "fruit = 'banana'"
      ]
    },
    {
      "cell_type": "code",
      "execution_count": null,
      "metadata": {
        "id": "jUPaFOA90cqd"
      },
      "outputs": [],
      "source": [
        "fruit[:3]"
      ]
    },
    {
      "cell_type": "code",
      "execution_count": null,
      "metadata": {
        "id": "se6-UB090cqe"
      },
      "outputs": [],
      "source": [
        "fruit[3:]"
      ]
    },
    {
      "cell_type": "code",
      "execution_count": null,
      "metadata": {
        "id": "AvlNFel30cqe"
      },
      "outputs": [],
      "source": [
        "fruit[3:3]"
      ]
    },
    {
      "cell_type": "code",
      "execution_count": null,
      "metadata": {
        "id": "7wE5_pGw0cqe"
      },
      "outputs": [],
      "source": [
        "fruit[:]"
      ]
    },
    {
      "cell_type": "markdown",
      "metadata": {
        "id": "6DAbxKeE0cqe"
      },
      "source": [
        "### 7(6).5 Strings are immutable"
      ]
    },
    {
      "cell_type": "code",
      "execution_count": null,
      "metadata": {
        "id": "-d-_Cwfj0cqe"
      },
      "outputs": [],
      "source": [
        "greeting = 'Hello, world!'"
      ]
    },
    {
      "cell_type": "code",
      "execution_count": null,
      "metadata": {
        "id": "zecguYYP0cqf"
      },
      "outputs": [],
      "source": [
        "greeting[0] = 'J'"
      ]
    },
    {
      "cell_type": "code",
      "execution_count": null,
      "metadata": {
        "id": "6Xo_babH0cqf"
      },
      "outputs": [],
      "source": [
        "new_greeting = 'J' + greeting[1:]\n",
        "print(new_greeting)\n",
        "\n",
        "# This concatenates a new first letter onto a slice of greeting. It has no effect on the original string"
      ]
    },
    {
      "cell_type": "markdown",
      "metadata": {
        "id": "RUy-KS7-0cqf"
      },
      "source": [
        "### 7(6).6 Looping and counting"
      ]
    },
    {
      "cell_type": "code",
      "execution_count": null,
      "metadata": {
        "id": "LYKNQICg0cqf"
      },
      "outputs": [],
      "source": [
        "# The following counts the number of times the letter \" a \" appears in a string\n",
        "\n",
        "word = 'banana'\n",
        "count = 0\n",
        "for letter in word:\n",
        "    if letter == 'a':\n",
        "        count = count + 1\n",
        "print(count)"
      ]
    },
    {
      "cell_type": "markdown",
      "metadata": {
        "id": "9uVHsysh0cqf"
      },
      "source": [
        "### 7(6).7 The `in` operator"
      ]
    },
    {
      "cell_type": "code",
      "execution_count": null,
      "metadata": {
        "id": "19nFApco0cqf"
      },
      "outputs": [],
      "source": [
        "'a' in 'banana'"
      ]
    },
    {
      "cell_type": "code",
      "execution_count": null,
      "metadata": {
        "id": "UhGmjLRA0cqf"
      },
      "outputs": [],
      "source": [
        "'seed' in 'banana'"
      ]
    },
    {
      "cell_type": "markdown",
      "source": [
        "\n",
        "\n",
        "---\n",
        "\n"
      ],
      "metadata": {
        "id": "9YcyG1qH42Vu"
      }
    },
    {
      "cell_type": "markdown",
      "source": [
        "### Experiment\n",
        "Taking multiple inputs"
      ],
      "metadata": {
        "id": "d5sAN5eU4wvi"
      }
    },
    {
      "cell_type": "code",
      "source": [
        "user_says = input('Enter 3 things seperated by commas: ')\n"
      ],
      "metadata": {
        "id": "hmmHVpWk44nk"
      },
      "execution_count": null,
      "outputs": []
    },
    {
      "cell_type": "code",
      "source": [
        "user_says"
      ],
      "metadata": {
        "id": "F73JMO8J5E30"
      },
      "execution_count": null,
      "outputs": []
    },
    {
      "cell_type": "code",
      "source": [
        "user_inputs = user_says.split(', ')"
      ],
      "metadata": {
        "id": "qEVaf3Pl5Iqo"
      },
      "execution_count": null,
      "outputs": []
    },
    {
      "cell_type": "code",
      "source": [
        "user_inputs"
      ],
      "metadata": {
        "id": "bSUi8s3J5ixa"
      },
      "execution_count": null,
      "outputs": []
    },
    {
      "cell_type": "markdown",
      "source": [
        "\n",
        "\n",
        "---\n",
        "\n"
      ],
      "metadata": {
        "id": "hRJVNQC443uM"
      }
    },
    {
      "cell_type": "markdown",
      "metadata": {
        "id": "PsSX3jnA0cqf"
      },
      "source": [
        "### 7(6).8 String comparison"
      ]
    },
    {
      "cell_type": "code",
      "execution_count": null,
      "metadata": {
        "id": "cS3CpDdC0cqg"
      },
      "outputs": [],
      "source": [
        "word = 'banana'\n",
        "if word == 'banana':\n",
        "    print('All right, bananas.')"
      ]
    },
    {
      "cell_type": "code",
      "execution_count": null,
      "metadata": {
        "id": "9VMedP5a0cqg"
      },
      "outputs": [],
      "source": [
        "word = 'Banana'    # Comparision done letter by letter, considering the ASCII values\n",
        "if word < 'banana':\n",
        "    print('Your word, ' + word + ', comes before banana.')\n",
        "elif word > 'banana':\n",
        "    print('Your word, ' + word + ', comes after banana.')\n",
        "else:\n",
        "    print('All right, bananas.')"
      ]
    },
    {
      "cell_type": "code",
      "execution_count": null,
      "metadata": {
        "id": "SXgmrM9b0cqg"
      },
      "outputs": [],
      "source": [
        "word = 'pineapple'    # Comparision done letter by letter, considering the ASCII values\n",
        "if word < 'banana':\n",
        "    print('Your word, ' + word + ', comes before banana.')\n",
        "elif word > 'banana':\n",
        "    print('Your word, ' + word + ', comes after banana.')\n",
        "else:\n",
        "    print('All right, bananas.')"
      ]
    },
    {
      "cell_type": "code",
      "execution_count": null,
      "metadata": {
        "id": "SVOXsGx20cqg"
      },
      "outputs": [],
      "source": [
        "word = 'Pineapple'    # Comparision done letter by letter, considering the ASCII values\n",
        "if word < 'banana':\n",
        "    print('Your word, ' + word + ', comes before banana.')\n",
        "elif word > 'banana':\n",
        "    print('Your word, ' + word + ', comes after banana.')\n",
        "else:\n",
        "    print('All right, bananas.')"
      ]
    },
    {
      "cell_type": "markdown",
      "metadata": {
        "id": "YVHhr7FU0cqg"
      },
      "source": [
        "### 7(6).9 string methods"
      ]
    },
    {
      "cell_type": "code",
      "execution_count": null,
      "metadata": {
        "id": "D_nX25nJ0cqh"
      },
      "outputs": [],
      "source": [
        "stuff = 'hello world'"
      ]
    },
    {
      "cell_type": "code",
      "execution_count": null,
      "metadata": {
        "id": "PRbSyp9z0cqh"
      },
      "outputs": [],
      "source": [
        "type(stuff)"
      ]
    },
    {
      "cell_type": "code",
      "execution_count": null,
      "metadata": {
        "id": "5aYxVfQl0cqh"
      },
      "outputs": [],
      "source": [
        "dir(stuff)     # built in functions for a string"
      ]
    },
    {
      "cell_type": "code",
      "execution_count": null,
      "metadata": {
        "id": "vfr1Jz-C0cqh"
      },
      "outputs": [],
      "source": [
        "help(str.capitalize)"
      ]
    },
    {
      "cell_type": "code",
      "source": [
        "stuff.capitalize()"
      ],
      "metadata": {
        "id": "6w_2REoP6eM0"
      },
      "execution_count": null,
      "outputs": []
    },
    {
      "cell_type": "code",
      "source": [
        "stuff.title()"
      ],
      "metadata": {
        "id": "Tff5XRA76lz-"
      },
      "execution_count": null,
      "outputs": []
    },
    {
      "cell_type": "code",
      "execution_count": null,
      "metadata": {
        "id": "DNa80MQM0cqh"
      },
      "outputs": [],
      "source": [
        "word = 'banana'\n",
        "new_word = word.upper()\n",
        "print(new_word)"
      ]
    },
    {
      "cell_type": "code",
      "execution_count": null,
      "metadata": {
        "id": "iEIyluVZ0cqh"
      },
      "outputs": [],
      "source": [
        "word = 'banana'\n",
        "index = word.find('a')\n",
        "print(index)"
      ]
    },
    {
      "cell_type": "code",
      "execution_count": null,
      "metadata": {
        "id": "K9lejfOT0cqh"
      },
      "outputs": [],
      "source": [
        "word.find('na')  # find method can find substrings as well as characters"
      ]
    },
    {
      "cell_type": "code",
      "execution_count": null,
      "metadata": {
        "id": "PFE6D8Eu0cqh"
      },
      "outputs": [],
      "source": [
        "word.find('na', 3)  # can take as a second argument the index where it should start"
      ]
    },
    {
      "cell_type": "code",
      "execution_count": null,
      "metadata": {
        "id": "zRxlH9DR0cqi"
      },
      "outputs": [],
      "source": [
        "# remove white space (spaces, tabs, or newlines) from the beginning and end of a string using the strip method\n",
        "line = ' Here we go  '\n",
        "line.strip()"
      ]
    },
    {
      "cell_type": "code",
      "execution_count": null,
      "metadata": {
        "id": "sJqNZ9X40cqi"
      },
      "outputs": [],
      "source": [
        "line = 'Have a nice day'\n",
        "line.startswith('Have')"
      ]
    },
    {
      "cell_type": "code",
      "execution_count": null,
      "metadata": {
        "id": "ETElbhHM0cqi"
      },
      "outputs": [],
      "source": [
        "line.startswith('h')"
      ]
    },
    {
      "cell_type": "code",
      "execution_count": null,
      "metadata": {
        "id": "LuWav9MK0cqi"
      },
      "outputs": [],
      "source": [
        "line.lower()"
      ]
    },
    {
      "cell_type": "code",
      "execution_count": null,
      "metadata": {
        "id": "bOFaEVAB0cqi"
      },
      "outputs": [],
      "source": [
        "line.lower().startswith('h')"
      ]
    },
    {
      "cell_type": "markdown",
      "metadata": {
        "id": "iPn4efrm0cqi"
      },
      "source": [
        "### 7(6).10 Parsing strings"
      ]
    },
    {
      "cell_type": "code",
      "execution_count": null,
      "metadata": {
        "id": "GA39TSNE0cqi"
      },
      "outputs": [],
      "source": [
        "data = 'From stephen.marquard@uct.ac.za Sat Jan 5 09:14:16 2008'\n",
        "atpos = data.find('@')\n",
        "print(atpos)"
      ]
    },
    {
      "cell_type": "code",
      "execution_count": null,
      "metadata": {
        "id": "OPrWR4Z60cqi"
      },
      "outputs": [],
      "source": [
        "sppos = data.find(' ',atpos)\n",
        "print(sppos)"
      ]
    },
    {
      "cell_type": "code",
      "execution_count": null,
      "metadata": {
        "id": "5LzHMBD50cqj"
      },
      "outputs": [],
      "source": [
        "host = data[atpos+1:sppos]\n",
        "print(host)"
      ]
    },
    {
      "cell_type": "markdown",
      "metadata": {
        "id": "A-cSd47C0cqj"
      },
      "source": [
        "### 7(6).11 Format operator"
      ]
    },
    {
      "cell_type": "code",
      "execution_count": null,
      "metadata": {
        "id": "Nse3LWok0cqj"
      },
      "outputs": [],
      "source": [
        "camels = 42\n",
        "'%d' % camels"
      ]
    },
    {
      "cell_type": "code",
      "execution_count": null,
      "metadata": {
        "id": "L3qJaYsH0cqj"
      },
      "outputs": [],
      "source": [
        "camels = 42\n",
        "'I have spotted %d camels.' % camels"
      ]
    },
    {
      "cell_type": "code",
      "execution_count": null,
      "metadata": {
        "id": "iKSrhgJr0cqj"
      },
      "outputs": [],
      "source": [
        "'In %d years I have spotted %g %s.' % (3, 0.1, 'camels')"
      ]
    },
    {
      "cell_type": "code",
      "execution_count": null,
      "metadata": {
        "id": "ekMSZnuz0cqj"
      },
      "outputs": [],
      "source": [
        "'%d %d %d' % (1, 2)"
      ]
    },
    {
      "cell_type": "code",
      "execution_count": null,
      "metadata": {
        "id": "DajuezGY0cqj"
      },
      "outputs": [],
      "source": [
        "'%d' % 'dollars'"
      ]
    },
    {
      "cell_type": "code",
      "source": [
        "f\"I have spotted {camels} camels.\""
      ],
      "metadata": {
        "id": "gIcSl94e9qh7"
      },
      "execution_count": null,
      "outputs": []
    },
    {
      "cell_type": "markdown",
      "metadata": {
        "id": "2ONjZyvM0cqk"
      },
      "source": [
        "### 7(6).12 Debugging"
      ]
    },
    {
      "cell_type": "code",
      "execution_count": null,
      "metadata": {
        "id": "jUG2qkBn0cqk"
      },
      "outputs": [],
      "source": [
        "while True:\n",
        "    line = input('> ')\n",
        "    if line[0] == '#':\n",
        "        continue\n",
        "    if line == 'done':\n",
        "        break\n",
        "    print(line)\n",
        "print('Done!')"
      ]
    },
    {
      "cell_type": "markdown",
      "source": [
        "\n",
        "\n",
        "---\n",
        "\n"
      ],
      "metadata": {
        "id": "yAaUDJbu1T4h"
      }
    },
    {
      "cell_type": "markdown",
      "source": [
        "**See the class notes on Blackboard and the Charles Severance lectures on py4e.com for more information.**"
      ],
      "metadata": {
        "id": "16VByTye1VnH"
      }
    },
    {
      "cell_type": "markdown",
      "source": [
        "\n",
        "\n",
        "---\n",
        "\n"
      ],
      "metadata": {
        "id": "FzDCdBFe3P5Y"
      }
    },
    {
      "cell_type": "markdown",
      "metadata": {
        "id": "CIXOoqny4xtW"
      },
      "source": [
        "*As was mentioned earlier, please make note of books or other references which were written prior to Python version 3.0 because there will be differences in some of the operations mentioned.*"
      ]
    },
    {
      "cell_type": "markdown",
      "metadata": {
        "id": "3VrBsJLDd5sx"
      },
      "source": [
        "\n",
        "\n",
        "---\n",
        "\n"
      ]
    }
  ]
}
