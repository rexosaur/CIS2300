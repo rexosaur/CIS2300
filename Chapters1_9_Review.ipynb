{
  "nbformat": 4,
  "nbformat_minor": 0,
  "metadata": {
    "colab": {
      "provenance": [],
      "include_colab_link": true
    },
    "kernelspec": {
      "name": "python3",
      "display_name": "Python 3"
    },
    "language_info": {
      "name": "python"
    }
  },
  "cells": [
    {
      "cell_type": "markdown",
      "metadata": {
        "id": "view-in-github",
        "colab_type": "text"
      },
      "source": [
        "<a href=\"https://colab.research.google.com/github/ProfessorPatrickSlatraigh/CIS2300/blob/main/CIS2300_Chapters1_9_Review_11_Mar_2025.ipynb\" target=\"_parent\"><img src=\"https://colab.research.google.com/assets/colab-badge.svg\" alt=\"Open In Colab\"/></a>"
      ]
    },
    {
      "cell_type": "markdown",
      "source": [
        "# CIS2300: Chapters 1-9 -  Review     \n",
        "\n",
        "by Professor Patrick J. Slattery, 07-Mar-2025 |\n",
        "  \n",
        "A student copy of this Colab notebook is available at [bit.ly/cis2300chapters1-9](https://bit.ly/cis2300chapters1-9)  \n"
      ],
      "metadata": {
        "id": "20K1shWcuLx7"
      }
    },
    {
      "cell_type": "markdown",
      "source": [
        "\n",
        "\n",
        "---\n",
        "\n"
      ],
      "metadata": {
        "id": "Mx2BorANZemu"
      }
    },
    {
      "cell_type": "markdown",
      "source": [
        "## Functions  \n"
      ],
      "metadata": {
        "id": "f5V8c_hz3bkm"
      }
    },
    {
      "cell_type": "markdown",
      "source": [
        "## Glossary of Python Function Terminology  \n",
        "  \n",
        "- **Argument:** Same as 'Parameter'. A value passed to a function when it is called, used by the function to perform its task.\n",
        "- **Call:** The same as 'Invoke', to execute a function.  \n",
        "- **Definition:** To create an object in memory that has the function's name and instructions.\n",
        "- **Fruitful:** A function that returns a value after execution.\n",
        "- **Global Variable:** A variable defined outside of any function, accessible from any function within the same module.\n",
        "- **Invoke:** The same as 'Call', to execute a function.\n",
        "- **Local Variable:** A variable defined within a function, accessible only within that function.\n",
        "- **Non-Void:** A function that returns data.\n",
        "- **Pass:** A Keyword statement that executes nothing. Used when the code to be written is not yet known.  \n",
        "- **Parameter:** Same as 'Argument'. A value passed to a function when it is called, used by the function to perform its task.\n",
        "- **Return:** A statement that ends a function's execution and sends a specified value back to the caller.\n",
        "- **Side Effect:** Any operation a function performs other than returning a value.  \n",
        "- **Terse:** A function that returns one or more values but has no side-effects.\n",
        "- **Verbose:** A function with side-effects that print or display.\n",
        "- **Void:** A function that does not return a value upon completion.\n"
      ],
      "metadata": {
        "id": "lePG8o5_6fM1"
      }
    },
    {
      "cell_type": "markdown",
      "metadata": {
        "id": "lXblX6uL1Uh_"
      },
      "source": [
        "\n",
        "\n",
        "---\n",
        "\n"
      ]
    },
    {
      "cell_type": "markdown",
      "source": [
        "### Void Functions + None  \n"
      ],
      "metadata": {
        "id": "OOkIy_cxYaz_"
      }
    },
    {
      "cell_type": "code",
      "source": [
        "type(None)"
      ],
      "metadata": {
        "id": "ODDtA8lbkrwP"
      },
      "execution_count": null,
      "outputs": []
    },
    {
      "cell_type": "code",
      "source": [
        "# Your code here\n"
      ],
      "metadata": {
        "id": "5wkdpdz8Y6_H"
      },
      "execution_count": null,
      "outputs": []
    },
    {
      "cell_type": "code",
      "source": [
        "def yeah():\n",
        "    pass # come back later and add code here\n"
      ],
      "metadata": {
        "id": "Bk2tmox9m_cM"
      },
      "execution_count": null,
      "outputs": []
    },
    {
      "cell_type": "code",
      "source": [
        "yeah()"
      ],
      "metadata": {
        "id": "uRXmdz4NneDy"
      },
      "execution_count": null,
      "outputs": []
    },
    {
      "cell_type": "code",
      "source": [
        "y = yeah()"
      ],
      "metadata": {
        "id": "m6zEfMsJoGBq"
      },
      "execution_count": null,
      "outputs": []
    },
    {
      "cell_type": "code",
      "source": [
        "type(y)"
      ],
      "metadata": {
        "id": "q8PHy3r6oIWJ"
      },
      "execution_count": null,
      "outputs": []
    },
    {
      "cell_type": "code",
      "source": [
        "def say_hi():\n",
        "    you = input(\"What is your name? \")\n",
        "    print(f\"Hi! {you}\")\n",
        "    # return None\n"
      ],
      "metadata": {
        "id": "-vefILcVoS7Q"
      },
      "execution_count": null,
      "outputs": []
    },
    {
      "cell_type": "code",
      "source": [
        "say_hi()"
      ],
      "metadata": {
        "id": "rog794mBogWN"
      },
      "execution_count": null,
      "outputs": []
    },
    {
      "cell_type": "code",
      "source": [
        "z = say_hi()"
      ],
      "metadata": {
        "id": "UcHyExLkosAK"
      },
      "execution_count": null,
      "outputs": []
    },
    {
      "cell_type": "code",
      "source": [
        "type(z)"
      ],
      "metadata": {
        "id": "-s6mpJg6o_Yy"
      },
      "execution_count": null,
      "outputs": []
    },
    {
      "cell_type": "markdown",
      "source": [
        "### Parameters + Arguments   "
      ],
      "metadata": {
        "id": "1oXybZjZYlV5"
      }
    },
    {
      "cell_type": "code",
      "source": [
        "abs(-5)"
      ],
      "metadata": {
        "id": "Hw5-D2rEqCym"
      },
      "execution_count": null,
      "outputs": []
    },
    {
      "cell_type": "code",
      "source": [
        "# Your code here\n"
      ],
      "metadata": {
        "id": "JGNpGwI4Y6MQ"
      },
      "execution_count": null,
      "outputs": []
    },
    {
      "cell_type": "markdown",
      "source": [
        "### Scope of Variables   \n"
      ],
      "metadata": {
        "id": "kN6NtyMwYpxL"
      }
    },
    {
      "cell_type": "code",
      "source": [
        "def get_wh():\n",
        "    weight = float(input(\"Enter the weight [lbs.]: \"))\n",
        "    height = float(input(\"Enter the height [inches]: \"))\n",
        "    return weight, height"
      ],
      "metadata": {
        "id": "4_JN-12asRIx"
      },
      "execution_count": null,
      "outputs": []
    },
    {
      "cell_type": "code",
      "source": [
        "weight = 160"
      ],
      "metadata": {
        "id": "hYw5g2oTtnQu"
      },
      "execution_count": null,
      "outputs": []
    },
    {
      "cell_type": "code",
      "source": [
        "get_wh()"
      ],
      "metadata": {
        "id": "EOiTNuhVsfaN"
      },
      "execution_count": null,
      "outputs": []
    },
    {
      "cell_type": "code",
      "source": [
        "print(weight)"
      ],
      "metadata": {
        "id": "agQvHox_tt2e"
      },
      "execution_count": null,
      "outputs": []
    },
    {
      "cell_type": "code",
      "source": [
        "# Your code here\n"
      ],
      "metadata": {
        "id": "HsNqA2pyY5dJ"
      },
      "execution_count": null,
      "outputs": []
    },
    {
      "cell_type": "markdown",
      "source": [
        "### Scope of Functions  "
      ],
      "metadata": {
        "id": "uFXhchkjYv0d"
      }
    },
    {
      "cell_type": "code",
      "source": [
        "# Your code here\n"
      ],
      "metadata": {
        "id": "RJynThhiY2q1"
      },
      "execution_count": null,
      "outputs": []
    },
    {
      "cell_type": "markdown",
      "source": [
        "\n",
        "\n",
        "---\n",
        "\n"
      ],
      "metadata": {
        "id": "14o5RkmYZgJZ"
      }
    },
    {
      "cell_type": "markdown",
      "metadata": {
        "id": "lbB2MmDl1SLh"
      },
      "source": [
        "## <u>Other Function Exercises</u>"
      ]
    },
    {
      "cell_type": "markdown",
      "metadata": {
        "id": "AnZD0qDtzZhC"
      },
      "source": [
        "### `is_divisible` Function -- Verbose Version\n",
        "**is_divisible()** - Example of a verbose, fruitful function which returns a Bool for mod 0.\n"
      ]
    },
    {
      "cell_type": "code",
      "metadata": {
        "id": "pDohxgiqxuMT"
      },
      "source": [
        "# a Boolean function which returns the absolute value or NoneType for zero\n",
        "def is_divisible(x, y):\n",
        "    \"\"\"This function returns true for x%%y = 0\"\"\"\n",
        "    if x % y == 0:\n",
        "        return True\n",
        "    else:\n",
        "        return False"
      ],
      "execution_count": null,
      "outputs": []
    },
    {
      "cell_type": "markdown",
      "metadata": {
        "id": "iA1zH6WgznDb"
      },
      "source": [
        "### `is_divisible` Function -- Terse Version\n",
        "**is_divisible()** - Example of a terse, fruitful function which returns a Bool for mod 0.\n"
      ]
    },
    {
      "cell_type": "code",
      "metadata": {
        "id": "MioP948-z0Ou"
      },
      "source": [
        "# a simple function which returns the absolute value or NoneType for zero\n",
        "def is_divisible(x, y):\n",
        "    \"\"\"This function returns true for x%%y = 0\"\"\"\n",
        "    return not x % y"
      ],
      "execution_count": null,
      "outputs": []
    },
    {
      "cell_type": "markdown",
      "metadata": {
        "id": "NCM96XMrz4fw"
      },
      "source": [
        "*Why do the two last functions both produce the same result?*"
      ]
    },
    {
      "cell_type": "markdown",
      "metadata": {
        "id": "YLjdvGTb0AE6"
      },
      "source": [
        "### `is_passing` Function\n",
        "**is_passing()** - Example of a fruitful function which returns a Bool for a passing grade or not.\n"
      ]
    },
    {
      "cell_type": "code",
      "metadata": {
        "id": "NWvV0vyJ0JSk"
      },
      "source": [
        "# a compound Boolean function which returns a Bool for whether the argument is a passing grade\n",
        "def is_passing(x):\n",
        "    \"\"\"This function returns true when x is a passing grade.\"\"\"\n",
        "    if 0 <= x <= 59.9:\n",
        "        return False\n",
        "    elif x > 100:\n",
        "         print(x, \" is not a valid score. \")\n",
        "         return False\n",
        "    elif x < 0:\n",
        "         print(x, \" is not a valid score. \")\n",
        "         return False\n",
        "    else:\n",
        "         return True"
      ],
      "execution_count": null,
      "outputs": []
    },
    {
      "cell_type": "markdown",
      "metadata": {
        "id": "Odarbq9D0T0M"
      },
      "source": [
        "### `area` Function (based on radius)\n",
        "**area()** - Example of a fruitful function which returns area of a circle with radius argument.\n"
      ]
    },
    {
      "cell_type": "code",
      "metadata": {
        "id": "zX7JRfIE0ZsH"
      },
      "source": [
        "# a simple, fruitful, function which returns the area of a circle with radius argument\n",
        "def area(radius):\n",
        "    \"\"\"This function takes a circle's radius as an argument and returns the area of that circle\"\"\"\n",
        "    return 3.14159 * radius**2\n"
      ],
      "execution_count": null,
      "outputs": []
    },
    {
      "cell_type": "markdown",
      "metadata": {
        "id": "HJqum7_D0nMv"
      },
      "source": [
        "### `absolute_value` Function\n",
        "**absolute_value()** - Example of a fruitful function which returns the absolute value of the argument.\n"
      ]
    },
    {
      "cell_type": "code",
      "metadata": {
        "id": "qtvB0qik0rye"
      },
      "source": [
        "# a simple, fruitful, function which returns the absolute value of the argument\n",
        "def absolute_value(x):\n",
        "    \"\"\"This function takes a value and returns the absolute value unless the argument is zero\"\"\"\n",
        "    if x < 0:\n",
        "        return -x\n",
        "    elif x > 0:\n",
        "        return x\n"
      ],
      "execution_count": null,
      "outputs": []
    },
    {
      "cell_type": "markdown",
      "metadata": {
        "id": "QIrR1K490xIK"
      },
      "source": [
        "*Why did we not use an else: statement above?*"
      ]
    },
    {
      "cell_type": "markdown",
      "source": [
        "\n",
        "\n",
        "---\n",
        "\n"
      ],
      "metadata": {
        "id": "S_w4sbTi2H-E"
      }
    },
    {
      "cell_type": "markdown",
      "source": [
        "## Indexing in Lists and Strings\n"
      ],
      "metadata": {
        "id": "6n7h_ebS2Vy4"
      }
    },
    {
      "cell_type": "markdown",
      "metadata": {
        "id": "bgKU49tdyR_D"
      },
      "source": [
        "\n",
        "\n",
        "---\n",
        "\n"
      ]
    },
    {
      "cell_type": "markdown",
      "metadata": {
        "id": "1RYNa-dSrdWw"
      },
      "source": [
        "\n",
        "Square brackets (or square braces):\n",
        "[ is a left square bracket\n",
        "] is a right square bracket\n",
        "Lists in Python use square brackets []\n",
        "\n",
        "\n"
      ]
    },
    {
      "cell_type": "markdown",
      "metadata": {
        "id": "QnJ7xAEZr62N"
      },
      "source": [
        "Assigning a list of integers from 1 to 4 to the object **x**:"
      ]
    },
    {
      "cell_type": "code",
      "source": [
        "empty_list = []"
      ],
      "metadata": {
        "id": "y3NN0yTnImx3"
      },
      "execution_count": null,
      "outputs": []
    },
    {
      "cell_type": "code",
      "metadata": {
        "id": "ZO0t6CeIx6h6"
      },
      "source": [
        "x = [1, 2, 3, 4]\n"
      ],
      "execution_count": null,
      "outputs": []
    },
    {
      "cell_type": "code",
      "source": [
        "x[2]"
      ],
      "metadata": {
        "id": "X8xqQtkQhdOn"
      },
      "execution_count": null,
      "outputs": []
    },
    {
      "cell_type": "code",
      "metadata": {
        "id": "1bj2oyAG2Vmj"
      },
      "source": [
        "print(bool(x))"
      ],
      "execution_count": null,
      "outputs": []
    },
    {
      "cell_type": "code",
      "metadata": {
        "id": "Ehzoc8AN2aEY"
      },
      "source": [
        "print(bool([]))"
      ],
      "execution_count": null,
      "outputs": []
    },
    {
      "cell_type": "markdown",
      "metadata": {
        "id": "jU3CHoY3sXqE"
      },
      "source": [
        "Each member of a list is an element.  Elements have values and an index position in the list.\n",
        "\n",
        "Remember that we start counting index positions with 0 (zero), not 1 (one)!"
      ]
    },
    {
      "cell_type": "markdown",
      "metadata": {
        "id": "rh6I7iiDsegB"
      },
      "source": [
        "![PPT-single-slide_for-colab.png](data:image/png;base64,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)"
      ]
    },
    {
      "cell_type": "markdown",
      "metadata": {
        "id": "423L6FQ-uM0R"
      },
      "source": [
        "We can reference elements in a list object using the element’s index number on square brackets after the list object name []\n",
        "\n",
        "What does Python return when you type **x**[?] and hit enter?\n"
      ]
    },
    {
      "cell_type": "code",
      "source": [
        "x[0]"
      ],
      "metadata": {
        "id": "dPLnfl7UuI--"
      },
      "execution_count": null,
      "outputs": []
    },
    {
      "cell_type": "code",
      "metadata": {
        "id": "3YZ2KQ5o37Kq"
      },
      "source": [
        "print(x[0])\n",
        "print(x[1])\n",
        "print(x[2])\n",
        "print(x[3])"
      ],
      "execution_count": null,
      "outputs": []
    },
    {
      "cell_type": "code",
      "source": [
        "i = 0\n",
        "while i < 4:\n",
        "    print(x[i])\n",
        "    i += 1"
      ],
      "metadata": {
        "id": "SuoLTsVquU81"
      },
      "execution_count": null,
      "outputs": []
    },
    {
      "cell_type": "code",
      "source": [
        "for i in range(4):\n",
        "    print(x[i])"
      ],
      "metadata": {
        "id": "cBt_cYwRuuxL"
      },
      "execution_count": null,
      "outputs": []
    },
    {
      "cell_type": "code",
      "source": [
        "print(backwards_list[0])\n",
        "print(backwards_list[1])\n",
        "print(backwards_list[2])\n",
        "print(backwards_list[3])"
      ],
      "metadata": {
        "id": "2qxDcVZ2Jw8n"
      },
      "execution_count": null,
      "outputs": []
    },
    {
      "cell_type": "markdown",
      "metadata": {
        "id": "KWpZBJ1eue-F"
      },
      "source": [
        "Lists can include a mix of data types or classes.\n",
        "\n",
        "Assigning a list of integers and floats as 1, 2.0, 3, 173.2, 5 to the object **y**:  \n",
        "\n",
        "```\n",
        "y = [1, 2.0, 3, 173.2, 5]\n",
        "```\n",
        "\n",
        "\n",
        "\n",
        "Try it.  What does Python return when you type **y** and hit enter?\n"
      ]
    },
    {
      "cell_type": "code",
      "metadata": {
        "id": "fVndjKGA4y6t"
      },
      "source": [
        "y = [1, 2.0, 3, 173.2,5]"
      ],
      "execution_count": null,
      "outputs": []
    },
    {
      "cell_type": "code",
      "metadata": {
        "id": "Zg73T_tO4_jc"
      },
      "source": [
        "print(type(y[0]))\n",
        "print(type(y[1]))"
      ],
      "execution_count": null,
      "outputs": []
    },
    {
      "cell_type": "markdown",
      "metadata": {
        "id": "5JgqjeTmvASu"
      },
      "source": [
        "![PPT-single-slide_for-colab.png](data:image/png;base64,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)"
      ]
    },
    {
      "cell_type": "markdown",
      "metadata": {
        "id": "92T67NqXvaml"
      },
      "source": [
        "**What values does Python return when you print the elements of y?**"
      ]
    },
    {
      "cell_type": "code",
      "metadata": {
        "id": "ZeMJ_2vB52bg"
      },
      "source": [
        "print(y[0])\n",
        "print(y[1])\n",
        "print(y[2])\n",
        "print(y[3])\n",
        "print(y[4])"
      ],
      "execution_count": null,
      "outputs": []
    },
    {
      "cell_type": "markdown",
      "metadata": {
        "id": "1Vj_OnjnvjHt"
      },
      "source": [
        "We can print the entire list using a \":\" (colon) as a wildcard.  It means 'from the first element to the last element'."
      ]
    },
    {
      "cell_type": "code",
      "metadata": {
        "id": "IupIW_sT6VX-"
      },
      "source": [
        "print(y[:])"
      ],
      "execution_count": null,
      "outputs": []
    },
    {
      "cell_type": "code",
      "source": [
        "print(y[:2])"
      ],
      "metadata": {
        "id": "zZyYaEvfvJ0H"
      },
      "execution_count": null,
      "outputs": []
    },
    {
      "cell_type": "markdown",
      "metadata": {
        "id": "KZFSK-Xovxj4"
      },
      "source": [
        "We can also use the : (colon) to refer to a slice (a series of elements) in a list.  \n",
        "\n",
        "What does Python print when we ask for the series from index position 2 to the end of the variable **y**?  "
      ]
    },
    {
      "cell_type": "code",
      "metadata": {
        "id": "4zII5B-d6mLp"
      },
      "source": [
        "print(y[2:])"
      ],
      "execution_count": null,
      "outputs": []
    },
    {
      "cell_type": "markdown",
      "metadata": {
        "id": "H-T2CkW4wrFP"
      },
      "source": [
        "The colon : character refers to the end element index in a list\n",
        "\n",
        "[**n:**] refers to elements from element **n** to the end of the list\n",
        "\n",
        "[**:n**] refers to the elements from the first until the element before **n**\n",
        "\n"
      ]
    },
    {
      "cell_type": "markdown",
      "metadata": {
        "id": "usCHcmwewCwm"
      },
      "source": [
        "What does Python print when we ask for the elements from the start of the list **y** up to, but not including index position 2?"
      ]
    },
    {
      "cell_type": "code",
      "metadata": {
        "id": "8Uy_n9EV7DLy"
      },
      "source": [
        "print(y[:2])"
      ],
      "execution_count": null,
      "outputs": []
    },
    {
      "cell_type": "code",
      "source": [
        "print(y[1:3])"
      ],
      "metadata": {
        "id": "_Ak7-MybM-hM"
      },
      "execution_count": null,
      "outputs": []
    },
    {
      "cell_type": "markdown",
      "source": [
        "We can tell Python how many elements to skip when we ask for a slice of a list."
      ],
      "metadata": {
        "id": "pim7tnY1uHNR"
      }
    },
    {
      "cell_type": "code",
      "source": [
        "print(y[1:4:2])"
      ],
      "metadata": {
        "id": "JLA-BR486d9u"
      },
      "execution_count": null,
      "outputs": []
    },
    {
      "cell_type": "markdown",
      "source": [
        "Use the `len()` method to count the number of elements in a `list`."
      ],
      "metadata": {
        "id": "LEAWRIvr0150"
      }
    },
    {
      "cell_type": "code",
      "source": [
        "len(a)"
      ],
      "metadata": {
        "id": "Yojzghsl07fs"
      },
      "execution_count": null,
      "outputs": []
    },
    {
      "cell_type": "markdown",
      "source": [
        "\n",
        "\n",
        "---\n",
        "\n"
      ],
      "metadata": {
        "id": "pFVSU-es2OM6"
      }
    },
    {
      "cell_type": "markdown",
      "metadata": {
        "id": "EayxS854xTZP"
      },
      "source": [
        "## 9(8).4 List operations"
      ]
    },
    {
      "cell_type": "code",
      "execution_count": null,
      "metadata": {
        "id": "Wzmx1VMpxTZP"
      },
      "outputs": [],
      "source": [
        "# The + operator concatenates lists:\n",
        "a = [1, 2, 3]\n",
        "b = [4, 5, 6]\n",
        "c = a + b\n",
        "print(c)"
      ]
    },
    {
      "cell_type": "code",
      "execution_count": null,
      "metadata": {
        "id": "VPZrBucRxTZQ"
      },
      "outputs": [],
      "source": [
        "# the * operator repeats a list a given number of times:\n",
        "[0] * 4"
      ]
    },
    {
      "cell_type": "code",
      "execution_count": null,
      "metadata": {
        "id": "uZvWh8HlxTZQ"
      },
      "outputs": [],
      "source": [
        "[1, 2, 3] * 3"
      ]
    },
    {
      "cell_type": "markdown",
      "metadata": {
        "id": "FfqVWKmxxTZR"
      },
      "source": [
        "## 9(8).6 List methods"
      ]
    },
    {
      "cell_type": "code",
      "execution_count": null,
      "metadata": {
        "id": "D23uj0JgxTZR"
      },
      "outputs": [],
      "source": [
        "t = ['a', 'b', 'c']\n",
        "t.append('d')\n",
        "print(t)"
      ]
    },
    {
      "cell_type": "code",
      "execution_count": null,
      "metadata": {
        "id": "iR1mFuIRxTZR"
      },
      "outputs": [],
      "source": [
        "t1 = ['a', 'b', 'c']\n",
        "t2 = ['d', 'e']\n",
        "t1.extend(t2)\n",
        "print(t1)"
      ]
    },
    {
      "cell_type": "code",
      "execution_count": null,
      "metadata": {
        "id": "i61b8ERCxTZR"
      },
      "outputs": [],
      "source": [
        "t = ['d', 'c', 'e', 'b', 'a']\n",
        "t.sort()\n",
        "print(t)"
      ]
    },
    {
      "cell_type": "markdown",
      "metadata": {
        "id": "wQGgO9PQxTZS"
      },
      "source": [
        "## 9(8).7 Deleting elements"
      ]
    },
    {
      "cell_type": "code",
      "execution_count": null,
      "metadata": {
        "id": "-NPsUrv5xTZS"
      },
      "outputs": [],
      "source": [
        "t = ['a', 'b', 'c']\n",
        "x = t.pop()\n",
        "print(t)\n",
        "print(x)"
      ]
    },
    {
      "cell_type": "code",
      "source": [
        "t.pop()"
      ],
      "metadata": {
        "id": "itNtv3EAl0BM"
      },
      "execution_count": null,
      "outputs": []
    },
    {
      "cell_type": "code",
      "source": [
        "t"
      ],
      "metadata": {
        "id": "-p375Zzql2Wy"
      },
      "execution_count": null,
      "outputs": []
    },
    {
      "cell_type": "code",
      "source": [
        "t = ['a', 'b', 'c']\n",
        "x = t.pop(1)\n",
        "print(t)\n",
        "print(x)"
      ],
      "metadata": {
        "id": "Elp_oT0Q36cv"
      },
      "execution_count": null,
      "outputs": []
    },
    {
      "cell_type": "code",
      "source": [
        "t = ['a', 'b', 'c']\n",
        "x = t.pop(3)\n",
        "print(t)\n",
        "print(x)"
      ],
      "metadata": {
        "id": "imTkpiT838Z_"
      },
      "execution_count": null,
      "outputs": []
    },
    {
      "cell_type": "code",
      "execution_count": null,
      "metadata": {
        "id": "R9mGLJdzxTZS"
      },
      "outputs": [],
      "source": [
        "# If you don’t need the removed value, you can use the del operator:\n",
        "t = ['a', 'b', 'c']\n",
        "del t[1]\n",
        "print(t)"
      ]
    },
    {
      "cell_type": "code",
      "execution_count": null,
      "metadata": {
        "id": "CpMZkf5GxTZX"
      },
      "outputs": [],
      "source": [
        "# If you know the element you want to remove (but not the index), you can use remove:\n",
        "t = ['a', 'b', 'c']\n",
        "t.remove('b')\n",
        "print(t)"
      ]
    },
    {
      "cell_type": "code",
      "source": [
        "# If you know the element you want to remove (but not the index),\n",
        "# but be careful about treatment of multiple instances - you can use remove:\n",
        "t = ['a', 'b', 'c', 'b', 'd']\n",
        "t.remove('b')\n",
        "print(t)"
      ],
      "metadata": {
        "id": "21E18J7P4P4F"
      },
      "execution_count": null,
      "outputs": []
    },
    {
      "cell_type": "code",
      "execution_count": null,
      "metadata": {
        "id": "aqqh9-cOxTZX"
      },
      "outputs": [],
      "source": [
        "# To remove more than one element, you can use del with a slice index:\n",
        "t = ['a', 'b', 'c', 'd', 'e', 'f']\n",
        "del t[1:5]\n",
        "print(t)"
      ]
    },
    {
      "cell_type": "markdown",
      "metadata": {
        "id": "A66aNvySxTZX"
      },
      "source": [
        "## 9(8).8 Lists and functions"
      ]
    },
    {
      "cell_type": "code",
      "execution_count": null,
      "metadata": {
        "id": "RVOGqYqFxTZX"
      },
      "outputs": [],
      "source": [
        "nums = [3, 41, 12, x, 9, 74, 15]"
      ]
    },
    {
      "cell_type": "code",
      "execution_count": null,
      "metadata": {
        "id": "AF-MaMJExTZX"
      },
      "outputs": [],
      "source": [
        "len(nums)"
      ]
    },
    {
      "cell_type": "code",
      "execution_count": null,
      "metadata": {
        "id": "iQcY3Z3sxTZX"
      },
      "outputs": [],
      "source": [
        "max(nums)"
      ]
    },
    {
      "cell_type": "code",
      "execution_count": null,
      "metadata": {
        "id": "uiKyhm5OxTZY"
      },
      "outputs": [],
      "source": [
        "min(nums)"
      ]
    },
    {
      "cell_type": "code",
      "execution_count": null,
      "metadata": {
        "id": "gJ1l_ln4xTZY"
      },
      "outputs": [],
      "source": [
        "sum(nums)"
      ]
    },
    {
      "cell_type": "code",
      "execution_count": null,
      "metadata": {
        "id": "Ny3eVNKdxTZY"
      },
      "outputs": [],
      "source": [
        "sum(nums)/len(nums)"
      ]
    },
    {
      "cell_type": "markdown",
      "metadata": {
        "id": "OfhbhXMcxTZY"
      },
      "source": [
        "## 9(8).9 Lists and strings"
      ]
    },
    {
      "cell_type": "code",
      "execution_count": null,
      "metadata": {
        "id": "0RjvqUpKxTZY"
      },
      "outputs": [],
      "source": [
        "# convert string to list using built in function\n",
        "# s = 'pining for the fjords'\n",
        "s = 'Baruch College, City University of New York'\n",
        "t = list(s)\n",
        "print(t)"
      ]
    },
    {
      "cell_type": "code",
      "execution_count": null,
      "metadata": {
        "id": "feF5wRsKxTZY"
      },
      "outputs": [],
      "source": [
        "# To break a string into words, use the split method\n",
        "# s = 'pining for the fjords'\n",
        "t = s.split()\n",
        "print(t)"
      ]
    },
    {
      "cell_type": "code",
      "execution_count": null,
      "metadata": {
        "id": "pb-7j2laxTZZ"
      },
      "outputs": [],
      "source": [
        "print(t[2])"
      ]
    },
    {
      "cell_type": "code",
      "execution_count": null,
      "metadata": {
        "id": "5bpUfqFJxTZZ"
      },
      "outputs": [],
      "source": [
        "# split with an optional argument called a delimiter\n",
        "s = 'spam-spam-spam'\n",
        "delimiter = '-'\n",
        "s.split(delimiter)\n",
        "# s.split('-')"
      ]
    },
    {
      "cell_type": "code",
      "execution_count": null,
      "metadata": {
        "id": "HHYU5SO3xTZZ"
      },
      "outputs": [],
      "source": [
        "# join is the inverse of split\n",
        "t = ['pining', 'for', 'the', 'fjords']\n",
        "delimiter = ' '\n",
        "# delimiter = '#'\n",
        "delimiter.join(t)"
      ]
    },
    {
      "cell_type": "markdown",
      "source": [
        "\n",
        "\n",
        "---\n",
        "\n"
      ],
      "metadata": {
        "id": "lMVj0WF91ZHE"
      }
    },
    {
      "cell_type": "markdown",
      "metadata": {
        "id": "qWiMNwGe3tnu"
      },
      "source": [
        "# Strings as Lists    \n"
      ]
    },
    {
      "cell_type": "markdown",
      "metadata": {
        "id": "Zm1ey-Og6IgI"
      },
      "source": [
        "    What about strings?\n",
        "\n",
        "Assign a string value to the variable **s**:\n",
        "\n",
        "`s = 'Hello'`\n",
        "\n",
        "Try it.  What type is the variable **s**?\n",
        "\n",
        "What does Python return when you print **s**[0]?\n",
        "\n",
        "What does Python return when you print **s**[2:]?\n",
        "\n",
        "What does Python return when you print **s**[:2]?\n",
        "\n"
      ]
    },
    {
      "cell_type": "code",
      "source": [
        "# Quick examples of docstrings\n",
        "doc_string = \"\"\"Hello\n",
        "Hello again\"\"\"\n",
        "# doc_string = '''Hello\n",
        "# Hello again'''"
      ],
      "metadata": {
        "id": "fWmsJfgwTaKw"
      },
      "execution_count": null,
      "outputs": []
    },
    {
      "cell_type": "code",
      "metadata": {
        "id": "ZvRZNRHhB_dm"
      },
      "source": [
        "type(doc_string)"
      ],
      "execution_count": null,
      "outputs": []
    },
    {
      "cell_type": "code",
      "source": [
        "print(doc_string)"
      ],
      "metadata": {
        "id": "lIZ2bSMaT8kJ"
      },
      "execution_count": null,
      "outputs": []
    },
    {
      "cell_type": "code",
      "source": [
        "# docstrings are what give us the `help()` content of functions\n",
        "print(help(type))"
      ],
      "metadata": {
        "id": "CjHGwL2CVAJX"
      },
      "execution_count": null,
      "outputs": []
    },
    {
      "cell_type": "code",
      "metadata": {
        "id": "sS_wtXleBo9U"
      },
      "source": [
        "# s = 'Hello'\n",
        "s = \"Hello\""
      ],
      "execution_count": null,
      "outputs": []
    },
    {
      "cell_type": "code",
      "source": [
        "type(s)"
      ],
      "metadata": {
        "id": "U1GoWUf_Tdc9"
      },
      "execution_count": null,
      "outputs": []
    },
    {
      "cell_type": "code",
      "metadata": {
        "id": "pd-10QoLBqiJ"
      },
      "source": [
        "print(s[0])\n",
        "print(s[2:])\n",
        "print(s[:2])"
      ],
      "execution_count": null,
      "outputs": []
    },
    {
      "cell_type": "code",
      "source": [
        "print(s[:])"
      ],
      "metadata": {
        "id": "Ob3XlGLdyaVF"
      },
      "execution_count": null,
      "outputs": []
    },
    {
      "cell_type": "markdown",
      "source": [
        "\n",
        "\n",
        "---\n",
        "\n"
      ],
      "metadata": {
        "id": "BP0QWfQTw7rz"
      }
    },
    {
      "cell_type": "markdown",
      "source": [
        "### Slicing Python Strings\n"
      ],
      "metadata": {
        "id": "YBrENLAPKbRC"
      }
    },
    {
      "cell_type": "markdown",
      "metadata": {
        "id": "YNLK2BcR_dZ0"
      },
      "source": [
        "In addition to indexing, slicing is also supported. While indexing is used to obtain individual characters, slicing allows you to obtain a substring:"
      ]
    },
    {
      "cell_type": "code",
      "source": [
        "word = \"Python\"\n",
        "print(word)"
      ],
      "metadata": {
        "id": "9ul6c2aE3mZR"
      },
      "execution_count": null,
      "outputs": []
    },
    {
      "cell_type": "code",
      "metadata": {
        "id": "lEGnRmcc_hec"
      },
      "source": [
        "word[0:2]  # characters from position 0 (included) to 2 (excluded)\n",
        "print(word)\n",
        "print(word[0:2])"
      ],
      "execution_count": null,
      "outputs": []
    },
    {
      "cell_type": "code",
      "metadata": {
        "id": "c-vZ4enO_ikd"
      },
      "source": [
        "word[2:5]  # characters from position 2 (included) to 5 (excluded)\n",
        "print(word)\n",
        "print(word[2:5])"
      ],
      "execution_count": null,
      "outputs": []
    },
    {
      "cell_type": "code",
      "metadata": {
        "id": "QqDml4cM_jhl"
      },
      "source": [
        "word[2:]  # characters from position 2 (included) to the end\n",
        "print(word[2:])"
      ],
      "execution_count": null,
      "outputs": []
    },
    {
      "cell_type": "code",
      "metadata": {
        "id": "-SR2fWR6_kbc"
      },
      "source": [
        "word[:3]  # characters from beginning (position 0) to position 3 (excluded)\n",
        "print(word[:3])"
      ],
      "execution_count": null,
      "outputs": []
    },
    {
      "cell_type": "code",
      "metadata": {
        "id": "Dk2UmwqS_lZs"
      },
      "source": [
        "word[-3:]  # last three characters\n",
        "print(word[-3:])"
      ],
      "execution_count": null,
      "outputs": []
    },
    {
      "cell_type": "code",
      "metadata": {
        "id": "RlmeDtZp_mVe"
      },
      "source": [
        "word[-3:-1]  # penultimate two characters\n",
        "print(word[-3:-1])"
      ],
      "execution_count": null,
      "outputs": []
    },
    {
      "cell_type": "code",
      "metadata": {
        "id": "wrmj4CjM_nbN"
      },
      "source": [
        "word[1:-1]\n",
        "print(word[1:-1])"
      ],
      "execution_count": null,
      "outputs": []
    },
    {
      "cell_type": "code",
      "source": [
        "\n",
        "word = 'Python'\n",
        "first_three = word[0:3] # starts at zero index and up to 3 but not include 3\n",
        "print(first_three) #Pyt\n",
        "last_three = word[3:6]\n",
        "print(last_three) # hon\n",
        "# Another way\n",
        "last_three = word[-3:]\n",
        "print(last_three)   # hon\n",
        "last_three = word[3:]\n",
        "print(last_three)   # hon\n"
      ],
      "metadata": {
        "id": "32K-00rUKYFS"
      },
      "execution_count": null,
      "outputs": []
    },
    {
      "cell_type": "markdown",
      "source": [
        "#### Reversing a String\n",
        "\n",
        "We can easily reverse strings in python.\n"
      ],
      "metadata": {
        "id": "mIqNJHDsKTTd"
      }
    },
    {
      "cell_type": "code",
      "source": [
        "\n",
        "greeting = 'Hello, World!'\n",
        "print(greeting[::-1]) # !dlroW ,olleH\n"
      ],
      "metadata": {
        "id": "rmK1BVKQKPe5"
      },
      "execution_count": null,
      "outputs": []
    },
    {
      "cell_type": "markdown",
      "source": [
        "\n",
        "\n",
        "---\n",
        "\n"
      ],
      "metadata": {
        "id": "Yju08wwAxJhr"
      }
    },
    {
      "cell_type": "markdown",
      "source": [
        "### String Methods\n",
        "\n",
        "There are many string methods which allow us to format strings. See some of the string methods in the following example:\n"
      ],
      "metadata": {
        "id": "jufxPvvRJuj-"
      }
    },
    {
      "cell_type": "markdown",
      "source": [
        "#### String Methods - *Formatting*"
      ],
      "metadata": {
        "id": "46qlEMiMO2I9"
      }
    },
    {
      "cell_type": "markdown",
      "source": [
        "- strip(): Removes all given characters starting from the beginning and end of the string"
      ],
      "metadata": {
        "id": "4kTRaaYFeGCq"
      }
    },
    {
      "cell_type": "code",
      "source": [
        "\n",
        "stringObject ='thirty days of pythoonnn'\n",
        "print(stringObject.strip('noth')) # 'irty days of py'\n"
      ],
      "metadata": {
        "id": "XrRlnmeXeC1a"
      },
      "execution_count": null,
      "outputs": []
    },
    {
      "cell_type": "markdown",
      "source": [
        "- lower(): Converts the characters of the string to lower case"
      ],
      "metadata": {
        "id": "BF8aGcBQQmEy"
      }
    },
    {
      "cell_type": "code",
      "source": [
        "\n",
        "stringObject ='Thirty Days of Python'\n",
        "print(stringObject.lower()) # 'thirty days of python'\n"
      ],
      "metadata": {
        "id": "AsCKqgsSQxCi"
      },
      "execution_count": null,
      "outputs": []
    },
    {
      "cell_type": "markdown",
      "source": [
        "- upper(): Converts the characters of the string to UPPER CASE"
      ],
      "metadata": {
        "id": "u_TTx2BmQ2mt"
      }
    },
    {
      "cell_type": "code",
      "source": [
        "\n",
        "stringObject ='Thirty days of python'\n",
        "print(stringObject.upper()) # 'THIRTY DAYS OF PYTHON'\n"
      ],
      "metadata": {
        "id": "5EFABwczRAEA"
      },
      "execution_count": null,
      "outputs": []
    },
    {
      "cell_type": "markdown",
      "source": [
        "- capitalize(): Converts the first character of the string to capital letter"
      ],
      "metadata": {
        "id": "aROhCfddJqCF"
      }
    },
    {
      "cell_type": "code",
      "source": [
        "\n",
        "stringObject ='thirty days of python'\n",
        "print(stringObject.capitalize()) # 'Thirty days of python'\n"
      ],
      "metadata": {
        "id": "UIGJQcceJli1"
      },
      "execution_count": null,
      "outputs": []
    },
    {
      "cell_type": "markdown",
      "source": [
        "- title(): Returns a title cased string"
      ],
      "metadata": {
        "id": "YTvLbI8NYzuu"
      }
    },
    {
      "cell_type": "code",
      "source": [
        "\n",
        "stringObject ='thirty days of python'\n",
        "print(stringObject.title()) # Thirty Days Of Python\n"
      ],
      "metadata": {
        "id": "cAQqq8zMYwiN"
      },
      "execution_count": null,
      "outputs": []
    },
    {
      "cell_type": "markdown",
      "source": [
        "\n",
        "\n",
        "---\n",
        "\n"
      ],
      "metadata": {
        "id": "uiQKi_r0xggk"
      }
    },
    {
      "cell_type": "markdown",
      "source": [
        "### String Methods - *Search*  "
      ],
      "metadata": {
        "id": "RfJRnoDQPWHe"
      }
    },
    {
      "cell_type": "markdown",
      "source": [
        "- find(): Returns the index of the first occurrence of a substring, if not found returns -1"
      ],
      "metadata": {
        "id": "9Qzzj6k1I8uZ"
      }
    },
    {
      "cell_type": "code",
      "source": [
        "\n",
        "stringObject ='thirty days of python'\n",
        "print(stringObject.find('y'))  # 5\n",
        "print(stringObject.find('th')) # 0\n",
        "print(stringObject.find('z')) # -1\n"
      ],
      "metadata": {
        "id": "cCTJl1chI5ot"
      },
      "execution_count": null,
      "outputs": []
    },
    {
      "cell_type": "markdown",
      "source": [
        "- rfind(): Returns the index of the last occurrence of a substring, if not found returns -1"
      ],
      "metadata": {
        "id": "EMNjvGcjI0xQ"
      }
    },
    {
      "cell_type": "code",
      "source": [
        "\n",
        "stringObject ='thirty days of python'\n",
        "print(stringObject.rfind('y'))  # 16\n",
        "print(stringObject.rfind('th')) # 17\n"
      ],
      "metadata": {
        "id": "-b49AT7sIv62"
      },
      "execution_count": null,
      "outputs": []
    },
    {
      "cell_type": "markdown",
      "source": [
        "- index(): Returns the lowest index of a substring, additional arguments indicate starting and ending index (default 0 and string length - 1). If the substring is not found it raises a valueError.\n"
      ],
      "metadata": {
        "id": "aWWLgeavIYso"
      }
    },
    {
      "cell_type": "code",
      "source": [
        "\n",
        "stringObject ='thirty days of python'\n",
        "sub_string = 'da'\n",
        "print(stringObject.index(sub_string,))  # 7\n"
      ],
      "metadata": {
        "id": "1mGYLBbJ_QHA"
      },
      "execution_count": null,
      "outputs": []
    },
    {
      "cell_type": "code",
      "source": [
        "print(stringObject.index(sub_string, 9)) # error"
      ],
      "metadata": {
        "id": "3iWYZn4lF6W_"
      },
      "execution_count": null,
      "outputs": []
    },
    {
      "cell_type": "markdown",
      "source": [
        "- rindex(): Returns the highest index of a substring, additional arguments indicate starting and ending index (default 0 and string length - 1)"
      ],
      "metadata": {
        "id": "Uc6Y-b6Q_F8Z"
      }
    },
    {
      "cell_type": "code",
      "source": [
        "\n",
        "stringObject ='thirty days of python'\n",
        "sub_string = 'da'\n",
        "print(stringObject.rindex(sub_string))  # 7\n",
        "print(stringObject.rindex('on', 8)) # 19\n"
      ],
      "metadata": {
        "id": "n87hlfm4_C9T"
      },
      "execution_count": null,
      "outputs": []
    },
    {
      "cell_type": "code",
      "source": [
        "print(stringObject.rindex(sub_string, 9)) # error"
      ],
      "metadata": {
        "id": "aGln4_2eF_Ps"
      },
      "execution_count": null,
      "outputs": []
    },
    {
      "cell_type": "markdown",
      "source": [
        "\n",
        "\n",
        "---\n",
        "\n"
      ],
      "metadata": {
        "id": "ct1xqE5JxKzL"
      }
    },
    {
      "cell_type": "markdown",
      "source": [
        "### Escape Sequences in Strings\n",
        "\n",
        "In Python and other programming languages \\ followed by a character is an escape sequence. Let us see the most common escape characters:\n",
        "\n",
        "- \\n: new line\n",
        "- \\t: Tab means(8 spaces)\n",
        "- \\\\\\\\: Back slash\n",
        "- \\\\': Single quote (')\n",
        "- \\\\\": Double quote (\")\n",
        "\n",
        "Now, let us see the use of the above escape sequences with examples.\n"
      ],
      "metadata": {
        "id": "olaZ3Z86MTQD"
      }
    },
    {
      "cell_type": "code",
      "source": [
        "str1 = 'This isn\\'t a good example'\n",
        "print(str1) # This isn't a good example"
      ],
      "metadata": {
        "id": "ZM4eSjsj-4ol"
      },
      "execution_count": null,
      "outputs": []
    },
    {
      "cell_type": "markdown",
      "source": [
        "Let's try a few examples..."
      ],
      "metadata": {
        "id": "Y7uQoGVdsOg6"
      }
    },
    {
      "cell_type": "code",
      "metadata": {
        "id": "xtRwadLA97Zj"
      },
      "source": [
        "\n",
        "str2 = \"I want to print a backslash: \\\\\"\n",
        "print(str2)\n"
      ],
      "execution_count": null,
      "outputs": []
    },
    {
      "cell_type": "code",
      "metadata": {
        "id": "XwESlLA398-b"
      },
      "source": [
        "\n",
        "str3 = 'This is a string within single quotes that can contain \"double quotes\" as part of the string'\n",
        "print(str3)\n"
      ],
      "execution_count": null,
      "outputs": []
    },
    {
      "cell_type": "code",
      "metadata": {
        "id": "2pm1AeLa-C-F"
      },
      "source": [
        "\n",
        "str4 = 'If we want to have \\'single quotes\\' in single quoted string we should escape them'\n",
        "print(str4)\n"
      ],
      "execution_count": null,
      "outputs": []
    },
    {
      "cell_type": "code",
      "metadata": {
        "id": "RHyEtfec-GDk"
      },
      "source": [
        "\n",
        "str5 = \"Similarly, if we want to have \\\"double quotes\\\" in double quoted string we should escape them\\n\"\n",
        "print(str5)\n"
      ],
      "execution_count": null,
      "outputs": []
    },
    {
      "cell_type": "markdown",
      "source": [
        "Here is an example that makes use of a mix of escape sequences."
      ],
      "metadata": {
        "id": "qFhLiHphsg-E"
      }
    },
    {
      "cell_type": "code",
      "source": [
        "\n",
        "print('I hope everyone is enjoying the Python stringObject.\\nAre you ?') # line break\n",
        "print('Days\\tTopics\\tExercises') # adding tab space or 4 spaces\n",
        "print('Day 1\\t5\\t5')\n",
        "print('Day 2\\t6\\t20')\n",
        "print('Day 3\\t5\\t23')\n",
        "print('Day 4\\t1\\t35')\n",
        "print('This is a backslash  symbol (\\\\)') # To write a backslash\n",
        "print('In every programming language it starts with \\\"Hello, World!\\\"') # to write a double quote inside a single quote\n"
      ],
      "metadata": {
        "id": "daScWMsAMNGh"
      },
      "execution_count": null,
      "outputs": []
    },
    {
      "cell_type": "markdown",
      "source": [
        "<b><u>Output</b></u>  \n",
        "```\n",
        "I hope every one is enjoying the Python stringObject.\n",
        "Are you ?\n",
        "Days\tTopics\tExercises\n",
        "Day 1\t5\t    5\n",
        "Day 2\t6\t    20\n",
        "Day 3\t5\t    23\n",
        "Day 4\t1\t    35\n",
        "This is a backslash  symbol (\\)\n",
        "In every programming language it starts with \"Hello, World!\"\n",
        "```"
      ],
      "metadata": {
        "id": "h_hDjXjWlGXU"
      }
    },
    {
      "cell_type": "markdown",
      "source": [
        "\n",
        "\n",
        "---\n",
        "\n"
      ],
      "metadata": {
        "id": "vPvDXn3uxH_d"
      }
    },
    {
      "cell_type": "markdown",
      "metadata": {
        "id": "KzPI001k8Bin"
      },
      "source": [
        "We learn that strings are a special form of lists.\n",
        "\n",
        "*   Strings are sequences of elements\n",
        "*   Elements in a string are each individual character\n",
        "*   String elements are referred to by their index in square brackets []\n",
        "*   The colon : is a special index value used to identify the start or end\n",
        "*   Strings are objects which can be assigned to other objects\n",
        "*   Individual elements in a string cannot be assigned with new values – that is, lists are immutable (they cannot be changed)\n",
        "\n"
      ]
    },
    {
      "cell_type": "markdown",
      "metadata": {
        "id": "U4at4t22FFR_"
      },
      "source": [
        "Here are some terms to remember:\n",
        "\n",
        "*   **Sequences** are ordered arrangements of elements\n",
        "*   **Lists** are a form of **Sequence** with individual elements which may be of different types or classes\n",
        "*   **Strings** are **Sequences** of elements called **Characters**\n",
        "*   **Elements** are separate members of a **Sequence**\n",
        "*   **Indices** (index numbers) are values which indicate the position of an **element** in a **sequence** (**List** or **String**)\n",
        "*   **Elements** are referred to by their index in Square Brackets **[]**\n",
        "*   The **Colon :** is a special index value used to identify the start or end\n",
        "*   Lists are **mutable**\n",
        "*   Strings are **immutable**\n"
      ]
    },
    {
      "cell_type": "markdown",
      "source": [],
      "metadata": {
        "id": "q8A6D7NY8u1-"
      }
    },
    {
      "cell_type": "markdown",
      "source": [
        "# Loops, Iteration"
      ],
      "metadata": {
        "id": "7WcRa60r8ds8"
      }
    },
    {
      "cell_type": "code",
      "source": [
        "# Loops: Repeated Steps\n",
        "# Coundown WHILE the count is greater than 0 (zero)\n",
        "\n",
        "count = 10\n",
        "while count > 0:\n",
        "    print(count)\n",
        "    count = count - 1\n",
        "\n",
        "print('Blastoff!')\n"
      ],
      "metadata": {
        "id": "w9BPrhlDUJ6P"
      },
      "execution_count": null,
      "outputs": []
    },
    {
      "cell_type": "markdown",
      "source": [
        "###Breaking Out Of A Loop    \n",
        "\n",
        "The `break` statement ends the current loop and jumps to the statement immediately following the loop -- process flow picks up immediately after the loop's `code block`\n",
        "    \n",
        "*A `break` statement can happen anywhere in the body of the loop.*    \n",
        "\n",
        "Let's see how that works:    \n"
      ],
      "metadata": {
        "id": "PObP6b21ZgGH"
      }
    },
    {
      "cell_type": "code",
      "source": [
        "sample_text = \"Hello World!\""
      ],
      "metadata": {
        "id": "gIOTRCJqjr6g"
      },
      "execution_count": null,
      "outputs": []
    },
    {
      "cell_type": "code",
      "source": [
        "dir(sample_text)"
      ],
      "metadata": {
        "id": "hE35voPaj1ZG"
      },
      "execution_count": null,
      "outputs": []
    },
    {
      "cell_type": "code",
      "source": [
        "sample_text.upper()"
      ],
      "metadata": {
        "id": "-qU-_NCUkAgF"
      },
      "execution_count": null,
      "outputs": []
    },
    {
      "cell_type": "code",
      "source": [
        "# Breaking Out Of A Loop\n",
        "print(\"TYpe 'Done' to finish the loop\")\n",
        "while True:\n",
        "    user_input = input('> ')\n",
        "    if user_input.lower().startswith('done'):\n",
        "        break\n",
        "    print(user_input)\n",
        "\n",
        "print('Done!')\n"
      ],
      "metadata": {
        "id": "EWtFbLgkdy7L"
      },
      "execution_count": null,
      "outputs": []
    },
    {
      "cell_type": "markdown",
      "source": [
        "###Continuing Another Iteration Of The Loop    \n",
        "\n",
        "\n",
        "* The `continue` statement ends the current iteration of the loop’s `code block`    \n",
        "\n",
        "* `continue` jumps to the top of the loop and starts the next iteration    \n",
        "\n",
        "* A `continue` statement can happen anywhere in the loop.     \n",
        "\n",
        "\n"
      ],
      "metadata": {
        "id": "k6tU0ti8kY26"
      }
    },
    {
      "cell_type": "code",
      "source": [
        "hello_string = \"Hello World!\""
      ],
      "metadata": {
        "id": "wlbmgKm0l-aG"
      },
      "execution_count": null,
      "outputs": []
    },
    {
      "cell_type": "code",
      "source": [
        "print(hello_string[5:])"
      ],
      "metadata": {
        "id": "NsGLPfJvmCHN"
      },
      "execution_count": null,
      "outputs": []
    },
    {
      "cell_type": "code",
      "source": [
        "# Continuing Another Iteration Of The Loop\n",
        "\n",
        "print('Type # to start an entry over.')\n",
        "print('Enter \"done\" when finished entries.\\n')\n",
        "\n",
        "while True:\n",
        "    user_input = input('> ')\n",
        "    if user_input[0] == '#' :\n",
        "        continue\n",
        "    if user_input.lower() == 'done' :\n",
        "        break\n",
        "    print(user_input)\n",
        "\n",
        "print('Done!')\n"
      ],
      "metadata": {
        "id": "OWaXRqLnksPR"
      },
      "execution_count": null,
      "outputs": []
    },
    {
      "cell_type": "markdown",
      "source": [
        "###6.2 The `while` Statement  \n",
        "  \n",
        "Computers are often used to automate repetitive tasks. Repeating identical or similar tasks without making errors is something that computers do well and people do poorly. Because iteration is so common, Python provides several language features to make it easier.\n",
        "\n",
        "One form of iteration in Python is the while statement. Here is a simple program that counts down from ten and then says \"Blastoff!\"."
      ],
      "metadata": {
        "id": "9NiRLtXxTqkc"
      }
    },
    {
      "cell_type": "code",
      "source": [
        "n = 10\n",
        "print('Counting down...')\n",
        "while n > 0:\n",
        "    print(n)\n",
        "    n = n - 1\n",
        "print('Blastoff!')"
      ],
      "metadata": {
        "id": "rG0mQ1nzT2Hg"
      },
      "execution_count": null,
      "outputs": []
    },
    {
      "cell_type": "markdown",
      "source": [
        "More formally, here is the flow of execution for a while statement:  \n",
        "  \n",
        "1. Evaluate the condition, yielding True or False.  \n",
        "2. If the condition is false, exit the while statement and continue execution at the next statement.  \n",
        "3. If the condition is true, execute the body and then go back to step 1.  \n",
        "  \n",
        "This type of flow is called a loop because the third step loops back around to the top. We call each time we execute the body of the loop an iteration. For the above loop, we would say, \"It had ten iterations\", which means that the body of the loop was executed ten times.  "
      ],
      "metadata": {
        "id": "ES29gEJRfZAZ"
      }
    },
    {
      "cell_type": "markdown",
      "source": [
        "The body of the loop should change the value of one or more variables so that eventually the condition becomes false and the loop terminates. We call the variable that changes each time the loop executes and controls when the loop finishes the iteration variable. If there is no iteration variable, the loop will repeat forever, resulting in an infinite loop."
      ],
      "metadata": {
        "id": "maywa2KSfgCZ"
      }
    },
    {
      "cell_type": "markdown",
      "source": [
        "###6.5 Definite Loops Using `for`  \n",
        "  \n",
        "Sometimes we want to loop through a set of things, such as a list of words, the lines in a file, or a list of numbers. When we have a list of things to loop through, we can construct a definite loop using a `for` statement. We call the `while` statement an indefinite loop because it simply loops until some condition becomes False, whereas the `for` loop is looping through a known set of items so it runs through as many iterations as there are items in the set."
      ],
      "metadata": {
        "id": "vJr3O_l8hHYn"
      }
    },
    {
      "cell_type": "markdown",
      "source": [
        "The syntax of a `for` loop is similar to the `while` loop in that there is a `for` statement and a loop body:"
      ],
      "metadata": {
        "id": "bhXxlov7hiYh"
      }
    },
    {
      "cell_type": "code",
      "source": [
        "friends = ['Joseph', 'Glenn', 'Sally']\n",
        "for friend in friends:\n",
        "    print('Happy New Year:', friend)\n",
        "print('Done!')"
      ],
      "metadata": {
        "id": "KLdo4InHhoPd"
      },
      "execution_count": null,
      "outputs": []
    },
    {
      "cell_type": "markdown",
      "source": [
        "In Python terms, the variable `friends` is a list (We will examine lists in more detail in a later chapter) of three strings. The `for` loop goes through the list and executes the body once for each of the three strings in the list resulting in this output:  \n",
        "  \n",
        "```\n",
        "Happy New Year: Joseph\n",
        "Happy New Year: Glenn\n",
        "Happy New Year: Sally\n",
        "Done!\n",
        "```\n",
        "  \n",
        "Translating this for loop to English is not as direct as the while, but if you think of `friends` as a set, it goes like this: “Run the statements in the body of the `for` loop once for each friend in the set named `friends`.”\n",
        "\n",
        "Looking at the `for` loop, `for` and `in` are reserved Python keywords, and `friend` and `friends` are variables.  \n",
        "  \n",
        "In particular, `friend` is the iteration variable for the `for` loop. The variable `friend` changes for each iteration of the loop and controls when the `for` loop completes. The iteration variable steps successively through the three strings stored in the `friends` (list) variable."
      ],
      "metadata": {
        "id": "rsFC0rmfhsZG"
      }
    },
    {
      "cell_type": "markdown",
      "source": [
        "\n",
        "\n",
        "---\n",
        "\n"
      ],
      "metadata": {
        "id": "F4j7_bH828ek"
      }
    },
    {
      "cell_type": "markdown",
      "source": [
        "# PRACTICE EXAM  \n",
        "\n",
        "Try completing each of the following exercises.  \n"
      ],
      "metadata": {
        "id": "uwoqE69X62Os"
      }
    },
    {
      "cell_type": "markdown",
      "metadata": {
        "id": "1be0ed6b"
      },
      "source": [
        "## Exercise 1: String Manipulation\n",
        "**Task:** Write a function `extract_domain(email)` that takes an email address as input and returns the domain name (the part after `@`) in **uppercase**.\n",
        "\n",
        "**Example:**\n",
        "```python\n",
        "print(extract_domain('john.doe@gmail.com'))  # Output: 'GMAIL.COM'\n",
        "```"
      ]
    },
    {
      "cell_type": "code",
      "execution_count": null,
      "metadata": {
        "id": "788bf561"
      },
      "outputs": [],
      "source": [
        "def extract_domain(email):\n",
        "    return email.split('@')[-1].upper()\n",
        "\n",
        "# Test the function\n",
        "print(extract_domain('john.doe@gmail.com'))"
      ]
    },
    {
      "cell_type": "markdown",
      "metadata": {
        "id": "b830970b"
      },
      "source": [
        "## Exercise 2: Fix the Code\n",
        "The following function is incorrect. Fix the syntax and logical errors.\n",
        "\n",
        "```python\n",
        "def reverse_words(sentence)\n",
        "words = sentence.split()\n",
        "rev_sentence = ''\n",
        "for word in words\n",
        "    rev_sentence = word + ' ' + rev_sentence\n",
        "return rev_sentence\n",
        "\n",
        "print(reverse_words('Python is fun'))\n",
        "```"
      ]
    },
    {
      "cell_type": "code",
      "execution_count": null,
      "metadata": {
        "id": "bce7865a"
      },
      "outputs": [],
      "source": [
        "def reverse_words(sentence):\n",
        "    words = sentence.split()\n",
        "    rev_sentence = ' '.join(reversed(words))\n",
        "    return rev_sentence\n",
        "\n",
        "print(reverse_words('Python is fun'))"
      ]
    },
    {
      "cell_type": "markdown",
      "metadata": {
        "id": "9ab2598a"
      },
      "source": [
        "## Exercise 3: String Processing with Conditions\n",
        "**Task:** Implement `modify_string(s)` as per the given rules.\n",
        "\n",
        "**Example:**\n",
        "```python\n",
        "print(modify_string('Hello'))    # Output: 'lolo'\n",
        "print(modify_string('Python'))   # Output: 'Pyth'\n",
        "print(modify_string('Hi'))       # Output: 'hi'\n",
        "```"
      ]
    },
    {
      "cell_type": "code",
      "execution_count": null,
      "metadata": {
        "id": "6ec775f0"
      },
      "outputs": [],
      "source": [
        "def modify_string(s):\n",
        "    if len(s) < 5:\n",
        "        return s.lower()\n",
        "    elif len(s) % 2 == 0:\n",
        "        return s[:4]\n",
        "    else:\n",
        "        return s[-2:] * 2\n",
        "\n",
        "print(modify_string('Hello'))\n",
        "print(modify_string('Python'))\n",
        "print(modify_string('Hi'))"
      ]
    },
    {
      "cell_type": "markdown",
      "metadata": {
        "id": "124bd6ea"
      },
      "source": [
        "## Exercise 4: Palindrome Checker\n",
        "Write a function `is_symmetric(num)` that checks if a **number** is a palindrome.\n"
      ]
    },
    {
      "cell_type": "code",
      "execution_count": null,
      "metadata": {
        "id": "2326dab4"
      },
      "outputs": [],
      "source": [
        "def is_symmetric(num):\n",
        "    str_num = str(num)\n",
        "    return str_num == str_num[::-1]\n",
        "\n",
        "print(is_symmetric(12321))\n",
        "print(is_symmetric(9876))"
      ]
    },
    {
      "cell_type": "markdown",
      "metadata": {
        "id": "6db3b802"
      },
      "source": [
        "## Exercise 5: Loop through a String\n",
        "Write a function `alternate_case(s)` that returns a string where **every second letter is uppercase**.\n"
      ]
    },
    {
      "cell_type": "code",
      "execution_count": null,
      "metadata": {
        "id": "b2d816ef"
      },
      "outputs": [],
      "source": [
        "def alternate_case(s):\n",
        "    return ''.join(c.upper() if i % 2 else c.lower() for i, c in enumerate(s))\n",
        "\n",
        "print(alternate_case('python'))"
      ]
    },
    {
      "cell_type": "markdown",
      "metadata": {
        "id": "7e8d50cb"
      },
      "source": [
        "## Exercise 6: Number Processing\n",
        "Write a function `sum_multiples(limit)` that sums all numbers up to `limit` that are **multiples of 4 or 6**.\n"
      ]
    },
    {
      "cell_type": "code",
      "execution_count": null,
      "metadata": {
        "id": "96addcc4"
      },
      "outputs": [],
      "source": [
        "def sum_multiples(limit):\n",
        "    return sum(n for n in range(1, limit + 1) if n % 4 == 0 or n % 6 == 0)\n",
        "\n",
        "print(sum_multiples(20))"
      ]
    },
    {
      "cell_type": "markdown",
      "metadata": {
        "id": "3c11ac89"
      },
      "source": [
        "## Exercise 7: Extracting Parts of a String\n",
        "Write a function `get_initials(full_name)` that extracts the first letter of each word in a name and returns the initials in uppercase.\n"
      ]
    },
    {
      "cell_type": "code",
      "execution_count": null,
      "metadata": {
        "id": "f4a18825"
      },
      "outputs": [],
      "source": [
        "def get_initials(full_name):\n",
        "    return ''.join(word[0].upper() for word in full_name.split())\n",
        "\n",
        "print(get_initials('John Doe'))\n",
        "print(get_initials('Ada Lovelace'))"
      ]
    },
    {
      "cell_type": "markdown",
      "metadata": {
        "id": "3cf68a4f"
      },
      "source": [
        "## Exercise 8: Main Function\n",
        "Write a Python script with a `main()` function that:\n",
        "1. Prompts the user to enter a sentence.\n",
        "2. Calls `count_vowels(sentence)` to count the number of vowels.\n",
        "3. Prints the result.\n"
      ]
    },
    {
      "cell_type": "code",
      "execution_count": null,
      "metadata": {
        "id": "86a66400"
      },
      "outputs": [],
      "source": [
        "def count_vowels(sentence):\n",
        "    vowels = 'aeiouAEIOU'\n",
        "    return sum(1 for char in sentence if char in vowels)\n",
        "\n",
        "def main():\n",
        "    user_input = input('Enter a sentence: ')\n",
        "    print('Vowel count:', count_vowels(user_input))\n",
        "\n",
        "if __name__ == '__main__':\n",
        "    main()"
      ]
    },
    {
      "cell_type": "markdown",
      "metadata": {
        "id": "2eadded7"
      },
      "source": [
        "## Exercise 9: Finding Maximum\n",
        "Write a function `find_max_digit(n)` that returns the **largest digit** in a given number.\n"
      ]
    },
    {
      "cell_type": "code",
      "execution_count": null,
      "metadata": {
        "id": "c77f4a2a"
      },
      "outputs": [],
      "source": [
        "def find_max_digit(n):\n",
        "    return max(int(digit) for digit in str(n))\n",
        "\n",
        "print(find_max_digit(45783))"
      ]
    },
    {
      "cell_type": "markdown",
      "metadata": {
        "id": "df7fa587"
      },
      "source": [
        "## Exercise 10: Nested Loops\n",
        "Write a function `print_pattern(n)` that prints the following pattern for `n = 4`:\n",
        "\n",
        "```\n",
        "1\n",
        "12\n",
        "123\n",
        "1234\n",
        "```\n"
      ]
    },
    {
      "cell_type": "code",
      "execution_count": null,
      "metadata": {
        "id": "41670b1c"
      },
      "outputs": [],
      "source": [
        "def print_pattern(n):\n",
        "    for i in range(1, n + 1):\n",
        "        print(''.join(str(num) for num in range(1, i + 1)))\n",
        "\n",
        "print_pattern(4)"
      ]
    },
    {
      "cell_type": "markdown",
      "source": [
        "\n",
        "\n",
        "---\n",
        "\n"
      ],
      "metadata": {
        "id": "g1LlY4947o7-"
      }
    }
  ]
}
